{
 "nbformat": 4,
 "nbformat_minor": 0,
 "metadata": {
  "colab": {
   "name": "DataCleaning.ipynb",
   "provenance": [],
   "authorship_tag": "ABX9TyOZIi/JuSJkwmwWEV1t76lW",
   "include_colab_link": true
  },
  "kernelspec": {
   "name": "python3",
   "display_name": "Python 3"
  },
  "language_info": {
   "name": "python"
  }
 },
 "cells": [
  {
   "cell_type": "markdown",
   "metadata": {
    "id": "view-in-github",
    "colab_type": "text"
   },
   "source": [
    "<a href=\"https://colab.research.google.com/github/ElviraKonovalov/soen471-bigData/blob/main/DataCleaning.ipynb\" target=\"_parent\"><img src=\"https://colab.research.google.com/assets/colab-badge.svg\" alt=\"Open In Colab\"/></a>"
   ]
  },
  {
   "cell_type": "code",
   "execution_count": 239,
   "metadata": {
    "id": "hhCfuk1-lfCQ"
   },
   "outputs": [],
   "source": [
    "import pandas as pd"
   ]
  },
  {
   "cell_type": "code",
   "source": [
    "file = '../data/Motor Vehicle Collisions with KSI Data.csv'\n",
    "df=  pd.read_csv(file, sep=',');"
   ],
   "metadata": {
    "colab": {
     "base_uri": "https://localhost:8080/"
    },
    "id": "RhURYIurlpsp",
    "outputId": "b1fae540-abcf-4bbf-f701-310d88e49437"
   },
   "execution_count": 240,
   "outputs": [
    {
     "name": "stderr",
     "output_type": "stream",
     "text": [
      "/tmp/ipykernel_59922/1997809495.py:2: DtypeWarning: Columns (16) have mixed types. Specify dtype option on import or set low_memory=False.\n",
      "  df=  pd.read_csv(file, sep=',');\n"
     ]
    }
   ]
  },
  {
   "cell_type": "markdown",
   "source": [
    "## DROPPING COLUMNS\n",
    "We start by dropping the columns that we deem not pertinent for our model."
   ],
   "metadata": {
    "id": "cs-aXujOmfAq"
   }
  },
  {
   "cell_type": "code",
   "source": [
    "columns_to_drop = ['_id', 'ACCNUM', 'TIME', 'OFFSET', 'WARDNUM', 'DIVISION', 'ACCLOC', 'FATAL_NO', 'PEDTYPE', 'PEDACT', 'PEDCOND', 'CYCLISTYPE', 'CYCACT', 'CYCCOND', 'POLICE_DIVISION', 'ObjectId', 'geometry','DISTRICT','DRIVACT','DRIVCOND','IMPACTYPE','INJURY','NEIGHBOURHOOD','STREET1', 'STREET2','VEHTYPE','YEAR']\n",
    "df = df.drop(columns=columns_to_drop)"
   ],
   "metadata": {
    "collapsed": false,
    "pycharm": {
     "name": "#%%\n"
    }
   },
   "execution_count": 241,
   "outputs": []
  },
  {
   "cell_type": "markdown",
   "source": [
    "## FILTERING\n",
    "Second, since we're only interested in the classification for the driver, we filter all the rows that did not have a driver as involved party. Then since our data only contains drivers, the INVTYPE feature is redudant and we drop it."
   ],
   "metadata": {
    "collapsed": false
   }
  },
  {
   "cell_type": "code",
   "execution_count": 242,
   "outputs": [],
   "source": [
    "df.INVTYPE.fillna('Unknown', inplace=True)\n",
    "\n",
    "for row in df.INVTYPE.unique():\n",
    "  if 'Driver' not in row or 'Not Hit' in row:\n",
    "    df = df[(df.INVTYPE != row)]\n",
    "\n",
    "df.drop(columns=['INVTYPE'], inplace=True)"
   ],
   "metadata": {
    "collapsed": false,
    "pycharm": {
     "name": "#%%\n"
    }
   }
  },
  {
   "cell_type": "markdown",
   "source": [
    "## REPLACING BINARY VALUES\n",
    "\n",
    "The following features have been noted to have a binary value; either \"Yes\" or \"null\", therefore, for each we map the values to 1 and 0 respectively."
   ],
   "metadata": {
    "collapsed": false
   }
  },
  {
   "cell_type": "code",
   "execution_count": 243,
   "outputs": [],
   "source": [
    "df.AG_DRIV.fillna(0, inplace=True)\n",
    "df.AG_DRIV.replace('Yes', 1, inplace=True)\n",
    "\n",
    "df.ALCOHOL.fillna(0, inplace=True)\n",
    "df.ALCOHOL.replace('Yes', 1, inplace=True)\n",
    "\n",
    "df.AUTOMOBILE.fillna(0, inplace=True)\n",
    "df.AUTOMOBILE.replace('Yes',1, inplace=True)\n",
    "\n",
    "df.CYCLIST.fillna(0, inplace=True)\n",
    "df.CYCLIST.replace('Yes',1, inplace=True)\n",
    "\n",
    "df.DISABILITY.fillna(0, inplace=True)\n",
    "df.DISABILITY.replace('Yes', 1, inplace=True)\n",
    "\n",
    "df.EMERG_VEH.fillna(0, inplace=True)\n",
    "df.EMERG_VEH.replace('Yes',1, inplace=True)\n",
    "\n",
    "df.PEDESTRIAN.fillna(0, inplace=True)\n",
    "df.PEDESTRIAN.replace('Yes',1, inplace=True)\n",
    "\n",
    "df.PASSENGER.fillna(0, inplace=True)\n",
    "df.PASSENGER.replace('Yes',1, inplace=True)\n",
    "\n",
    "df.MOTORCYCLE.fillna(0, inplace=True)\n",
    "df.MOTORCYCLE.replace('Yes',1, inplace=True)\n",
    "\n",
    "df.REDLIGHT.fillna(0, inplace=True)\n",
    "df.REDLIGHT.replace('Yes', 1, inplace=True)\n",
    "\n",
    "df.SPEEDING.fillna(0, inplace=True)\n",
    "df.SPEEDING.replace('Yes', 1, inplace=True)\n",
    "\n",
    "df.TRSN_CITY_VEH.fillna(0, inplace=True)\n",
    "df.TRSN_CITY_VEH.replace('Yes', 1, inplace=True)\n",
    "\n",
    "df.TRUCK.fillna(0, inplace=True)\n",
    "df.TRUCK.replace('Yes', 1, inplace=True)"
   ],
   "metadata": {
    "collapsed": false,
    "pycharm": {
     "name": "#%%\n"
    }
   }
  },
  {
   "cell_type": "markdown",
   "source": [
    "Similarly, ACCLASS, representing the class of the accident is reduced to only 2 values, we represent fatal ones by 1 and non-fatal ones by 0."
   ],
   "metadata": {
    "collapsed": false
   }
  },
  {
   "cell_type": "code",
   "execution_count": 244,
   "outputs": [],
   "source": [
    "df.ACCLASS.replace(['Fatal'], 1, inplace=True)\n",
    "df.ACCLASS.replace(['Non-Fatal Injury', 'Property Damage Only'], 0, inplace=True)"
   ],
   "metadata": {
    "collapsed": false,
    "pycharm": {
     "name": "#%%\n"
    }
   }
  },
  {
   "cell_type": "markdown",
   "source": [
    "## RENAMING AND GROUPING\n",
    "We now group certain information together be renaming it to a common value."
   ],
   "metadata": {
    "collapsed": false,
    "pycharm": {
     "name": "#%% md\n"
    }
   }
  },
  {
   "cell_type": "markdown",
   "source": [
    "We have decided that we didn't have to be too precise with the date, and that the month would suffice. Our assumption is that the occurence of accidents can be related to the holidays and the different weather conditions through the year."
   ],
   "metadata": {
    "collapsed": false,
    "pycharm": {
     "name": "#%% md\n"
    }
   }
  },
  {
   "cell_type": "code",
   "execution_count": 245,
   "outputs": [],
   "source": [
    "#first we will have to convert the data type to DateTime\n",
    "df['DATE'] = pd.to_datetime(df['DATE'])\n",
    "\n",
    "#now we will transform the data in the DATE column to simply present the month in integer form\n",
    "df['DATE'] = df['DATE'].dt.month"
   ],
   "metadata": {
    "collapsed": false,
    "pycharm": {
     "name": "#%%\n"
    }
   }
  },
  {
   "cell_type": "markdown",
   "source": [
    "Next, Every street owned by the City of Toronto has been given one of five classifications (with the exception of public laneways): Local road, Collector road, Minor arterial road, Major arterical road and Expressway\n",
    "https://www.toronto.ca/services-payments/streets-parking-transportation/traffic-management/road-classification-system/about-the-road-classification-system/\n",
    "\n",
    "Therefore, to simplify our dataset, we renamed our values such that they fall into one the of the 5 classes. Additionally, to fill in null values we have selected the most frequent road class and we have droppend roads that were classed as \"Pending\" as they might fall into an outlier category of roads which don't fall exactly into one of the 5 classes."
   ],
   "metadata": {
    "collapsed": false,
    "pycharm": {
     "name": "#%% md\n"
    }
   }
  },
  {
   "cell_type": "code",
   "execution_count": 246,
   "outputs": [],
   "source": [
    "df['ROAD_CLASS'] = df['ROAD_CLASS'].fillna(df['ROAD_CLASS'].value_counts().index[0])\n",
    "# drop rows where ROAD_CLASS is pending\n",
    "df.drop(df.index[df['ROAD_CLASS'] == 'Pending'], inplace=True)\n",
    "# replacing Expressway Ramp (4 rows) with Expressway\n",
    "df['ROAD_CLASS'] = df['ROAD_CLASS'].replace(['Expressway Ramp'],'Expressway')\n",
    "# Major Arterial Ramp (1 row) with Major Arterial\n",
    "df['ROAD_CLASS'] = df['ROAD_CLASS'].replace(['Major Arterial Ramp'],'Major Arterial')"
   ],
   "metadata": {
    "collapsed": false,
    "pycharm": {
     "name": "#%%\n"
    }
   }
  },
  {
   "cell_type": "markdown",
   "source": [
    "We also group traffic control into 3 categories, namely: \"Active Control\", \"Passive Control\" and \"No Control\".\n",
    "Active Control refers to traffic being controlled by a person such as a police officer, school guard or traffic controller.\n",
    "Passive Control refers to traffic being controlled by a road sign such as a Stop sign or traffic signals.\n",
    "No Control refers to traffic deprived of any control mechanism.\n",
    "\n",
    "Our assumption for null values is that there must be a high probability of some form of passive control such as a road sign."
   ],
   "metadata": {
    "collapsed": false,
    "pycharm": {
     "name": "#%% md\n"
    }
   }
  },
  {
   "cell_type": "markdown",
   "source": [],
   "metadata": {
    "collapsed": false,
    "pycharm": {
     "name": "#%% md\n"
    }
   }
  },
  {
   "cell_type": "code",
   "execution_count": 247,
   "outputs": [],
   "source": [
    "df['TRAFFCTL'] = df['TRAFFCTL'].replace(['Traffic Signal', 'Stop Sign', 'Pedestrian Crossover', 'Yield Sign', 'Streetcar (Stop for)', 'Traffic Gate'], 'Passive Control')\n",
    "df['TRAFFCTL'] = df['TRAFFCTL'].replace(['Police Control', 'School Guard', 'Traffic Controller'], 'Active Control')\n",
    "df['TRAFFCTL'] = df['TRAFFCTL'].fillna('Passive Control')"
   ],
   "metadata": {
    "collapsed": false,
    "pycharm": {
     "name": "#%%\n"
    }
   }
  },
  {
   "cell_type": "markdown",
   "source": [
    "## RANDOM CLEANING\n",
    "We noticed some of the values for INVAGE weren't uniform, therefore we renamed it with the right capitalization."
   ],
   "metadata": {
    "collapsed": false,
    "pycharm": {
     "name": "#%% md\n"
    }
   }
  },
  {
   "cell_type": "code",
   "execution_count": 248,
   "outputs": [],
   "source": [
    "#All of the unknowns in this dataset are upper case except the ones in this column.\n",
    "df.INVAGE = df.INVAGE.replace(['unknown'], 'Unknown')"
   ],
   "metadata": {
    "collapsed": false,
    "pycharm": {
     "name": "#%%\n"
    }
   }
  },
  {
   "cell_type": "markdown",
   "source": [
    "## DROPPING ROWS\n",
    "Since we deem the features left important to our models, we didn't want to leave any ambiguity in the data and drop those rows.\n",
    "The dropped rows amounted to 475 which represent 5.547% our cleaned data which is a relatively low value."
   ],
   "metadata": {
    "collapsed": false
   }
  },
  {
   "cell_type": "code",
   "execution_count": 249,
   "outputs": [],
   "source": [
    "df.drop(df[df.LOCCOORD.isnull()].index, inplace=True)\n",
    "\n",
    "df.drop(df[df.INVAGE == 'Unknown'].index, inplace=True)\n",
    "\n",
    "df.INITDIR.fillna(\"Unknown\", inplace = True)\n",
    "df.drop(df[df.INITDIR == 'Unknown'].index, inplace=True)\n",
    "\n",
    "df.drop(df[df.MANOEUVER == 'Unknown'].index, inplace=True)\n",
    "df.drop(df[df.MANOEUVER.isnull()].index, inplace=True)\n",
    "\n",
    "df.drop(df[df.LIGHT == 'Other'].index, inplace=True)\n",
    "df.drop(df[df.LIGHT.isnull()].index, inplace=True)\n",
    "\n",
    "df.drop(df[df.RDSFCOND.isnull()].index, inplace=True)\n",
    "\n",
    "df.drop(df[df.VISIBILITY.isnull()].index, inplace=True)"
   ],
   "metadata": {
    "collapsed": false,
    "pycharm": {
     "name": "#%%\n"
    }
   }
  },
  {
   "cell_type": "markdown",
   "source": [
    "## SAVING THE DATA"
   ],
   "metadata": {
    "collapsed": false,
    "pycharm": {
     "name": "#%% md\n"
    }
   }
  },
  {
   "cell_type": "code",
   "execution_count": 250,
   "outputs": [],
   "source": [
    "df\n",
    "# save data to csv file\n",
    "df.to_csv(\"../data/clean_data.csv\")"
   ],
   "metadata": {
    "collapsed": false,
    "pycharm": {
     "name": "#%%\n"
    }
   }
  },
  {
   "cell_type": "markdown",
   "source": [
    "## HOT-ONE ENCODING"
   ],
   "metadata": {
    "collapsed": false,
    "pycharm": {
     "name": "#%% md\n"
    }
   }
  },
  {
   "cell_type": "code",
   "execution_count": 251,
   "outputs": [],
   "source": [
    "df['ACCLASS'] = df['ACCLASS'].astype('category').cat.codes\n",
    "df['INITDIR'] = df['INITDIR'].astype('category').cat.codes\n",
    "df['LIGHT'] = df['LIGHT'].astype('category').cat.codes\n",
    "df['VISIBILITY'] = df['VISIBILITY'].astype('category').cat.codes\n",
    "df['RDSFCOND'] = df['RDSFCOND'].astype('category').cat.codes\n",
    "df['ROAD_CLASS'] = df['ROAD_CLASS'].astype('category').cat.codes # label encoding\n",
    "df['TRAFFCTL'] = df['TRAFFCTL'].astype('category').cat.codes\n",
    "df['INVAGE'] = df['INVAGE'].astype('category').cat.codes\n",
    "df['LOCCOORD'] = df['LOCCOORD'].astype('category').cat.codes\n",
    "df['MANOEUVER'] = df['MANOEUVER'].astype('category').cat.codes"
   ],
   "metadata": {
    "collapsed": false,
    "pycharm": {
     "name": "#%%\n"
    }
   }
  },
  {
   "cell_type": "code",
   "source": [
    "df\n",
    "# save data to csv file with hot-one encoding\n",
    "df.to_csv(\"../data/clean_data_hot-one.csv\")"
   ],
   "metadata": {
    "id": "RyQpa90WmZJk",
    "pycharm": {
     "name": "#%%\n"
    }
   },
   "execution_count": 252,
   "outputs": []
  }
 ]
}