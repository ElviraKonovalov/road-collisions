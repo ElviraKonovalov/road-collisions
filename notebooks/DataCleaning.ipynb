{
 "nbformat": 4,
 "nbformat_minor": 0,
 "metadata": {
  "colab": {
   "name": "DataCleaning.ipynb",
   "provenance": [],
   "authorship_tag": "ABX9TyOZIi/JuSJkwmwWEV1t76lW",
   "include_colab_link": true
  },
  "kernelspec": {
   "name": "python3",
   "display_name": "Python 3"
  },
  "language_info": {
   "name": "python"
  }
 },
 "cells": [
  {
   "cell_type": "markdown",
   "metadata": {
    "id": "view-in-github",
    "colab_type": "text"
   },
   "source": [
    "<a href=\"https://colab.research.google.com/github/ElviraKonovalov/soen471-bigData/blob/main/DataCleaning.ipynb\" target=\"_parent\"><img src=\"https://colab.research.google.com/assets/colab-badge.svg\" alt=\"Open In Colab\"/></a>"
   ]
  },
  {
   "cell_type": "code",
   "execution_count": 21,
   "metadata": {
    "id": "hhCfuk1-lfCQ"
   },
   "outputs": [],
   "source": [
    "import pandas as pd\n",
    "import matplotlib.pyplot as plt"
   ]
  },
  {
   "cell_type": "code",
   "source": [
    "file = 'Motor Vehicle Collisions with KSI Data.csv'\n",
    "df=  pd.read_csv(file, sep=',');\n",
    "\n",
    "columns_to_drop = ['_id', 'ACCNUM', 'TIME', 'OFFSET', 'WARDNUM', 'DIVISION', 'ACCLOC', 'FATAL_NO', 'PEDTYPE', 'PEDACT', 'PEDCOND', 'CYCLISTYPE', 'CYCACT', 'CYCCOND', 'POLICE_DIVISION', 'ObjectId', 'geometry']\n",
    "df = df.drop(columns=columns_to_drop)"
   ],
   "metadata": {
    "colab": {
     "base_uri": "https://localhost:8080/"
    },
    "id": "RhURYIurlpsp",
    "outputId": "b1fae540-abcf-4bbf-f701-310d88e49437"
   },
   "execution_count": 22,
   "outputs": [
    {
     "name": "stderr",
     "output_type": "stream",
     "text": [
      "/tmp/ipykernel_20920/401754701.py:2: DtypeWarning: Columns (16) have mixed types. Specify dtype option on import or set low_memory=False.\n",
      "  df=  pd.read_csv(file, sep=',');\n"
     ]
    }
   ]
  },
  {
   "cell_type": "markdown",
   "source": [
    "Features 1 - 8"
   ],
   "metadata": {
    "id": "cs-aXujOmfAq"
   }
  },
  {
   "cell_type": "code",
   "source": [],
   "metadata": {
    "id": "5yArDdpqmeXJ"
   },
   "execution_count": 22,
   "outputs": []
  },
  {
   "cell_type": "markdown",
   "source": [
    "Features 9 - 18"
   ],
   "metadata": {
    "id": "uAh1U0uYlv9K"
   }
  },
  {
   "cell_type": "code",
   "source": [
    "df = df.drop(columns = ['DRIVCOND'])\n",
    "\n",
    "\n",
    "df.EMERG_VEH.fillna(0, inplace=True)\n",
    "df.EMERG_VEH = df.EMERG_VEH.replace(['Yes'], 1, inplace=True)\n",
    "\n",
    "\n",
    "df = df.drop(columns = ['IMPACTYPE'])\n",
    "\n",
    "\n",
    "df.INITDIR.fillna(\"Unknown\", inplace = True)\n",
    "\n",
    "\n",
    "df.INVAGE = df.INVAGE.replace(['unknown'], 'Unknown') #All of the unknowns in this dataset are upper case except the ones in this collumn so it was bugging me.\n",
    "\n",
    "#df = df.drop(columns = ['INVAGE'])\n",
    "\n",
    "\n",
    "df.INVTYPE.fillna('Unknown', inplace=True)\n",
    "\n",
    "#Removing rows where they weren't hit, as they obviously wouldn't ever have any injuries.\n",
    "\n",
    "rows = df.INVTYPE.unique()\n",
    "\n",
    "#['Cyclist', 'Cyclist Passenger', 'Motorcycle Passenger', 'Passenger','In-Line Skater', 'Trailer Owner', 'Other Property Owner', 'Vehicle Owner', 'Other', 'Wheelchair', 'Pedestrian', 'Unknown', 'Witness', 'Pedestrian - Not Hit', 'Driver - Not Hit']\n",
    "\n",
    "#Remove rows I don't like\n",
    "for row in rows:\n",
    "  if 'Driver' not in row or 'Not Hit' in row:\n",
    "    df = df[(df.INVTYPE != row)] \n",
    "\n",
    "#Replacing not necesarry.\n",
    "#df.INVTYPE = df.INVTYPE.replace(['Motorcycle Driver', 'Moped Driver', 'Truck Driver'], 'Driver')\n",
    "\n",
    "#Dropping the column now that I've filtered rows.\n",
    "df = df.drop(columns = ['INVTYPE'])"
   ],
   "metadata": {
    "id": "JlciIPINl6jX"
   },
   "execution_count": 23,
   "outputs": []
  },
  {
   "cell_type": "markdown",
   "source": [
    "Features 18 - 26"
   ],
   "metadata": {
    "id": "xBGUPmQjmm4-"
   }
  },
  {
   "cell_type": "code",
   "execution_count": 24,
   "outputs": [],
   "source": [
    "columns_to_drop = ['NEIGHBOURHOOD']\n",
    "df = df.drop(columns=columns_to_drop)\n",
    "\n",
    "\n",
    "#LIGHT\n",
    "df.LIGHT.unique()\n",
    "\n",
    "# Dropping all rows that have \"Other\" as value\n",
    "\n",
    "df = df.drop(df[df.LIGHT == 'Other'].index)\n",
    "\n",
    "df = df.drop(df[df.LIGHT.isnull()].index)\n",
    "df.LIGHT.unique()\n",
    "\n",
    "\n",
    "#LOCCOORD\n",
    "df.LOCCOORD.unique()\n",
    "df.LOCCOORD.isnull().sum() #105\n",
    "\n",
    "\n",
    "#PEDESTRIAN\n",
    "#replace every \"NaN\" to False and \"Yes\" to True\n",
    "\n",
    "df.PEDESTRIAN.unique()\n",
    "df['PEDESTRIAN'] = df['PEDESTRIAN'].replace('Yes',1, inplace=True)\n",
    "df['PEDESTRIAN'] = df['PEDESTRIAN'].fillna(0)\n",
    "\n",
    "\n",
    "#PASSENGER\n",
    "#replace every \"NaN\" to False and \"Yes\" to True\n",
    "\n",
    "df.PASSENGER.unique()\n",
    "df['PASSENGER'] = df['PASSENGER'].replace('Yes',1, inplace=True)\n",
    "df['PASSENGER'] = df['PASSENGER'].fillna(0)\n",
    "\n",
    "\n",
    "#MOTORCYCLE\n",
    "#replace every \"NaN\" to False and \"Yes\" to True\n",
    "\n",
    "df.MOTORCYCLE.unique()\n",
    "df['MOTORCYCLE'] = df['MOTORCYCLE'].replace('Yes',1, inplace=True)\n",
    "df['MOTORCYCLE'] = df['MOTORCYCLE'].fillna(0)\n",
    "\n",
    "\n",
    "df.RDSFCOND.unique()\n",
    "df.RDSFCOND.isnull().sum() # 23\n",
    "\n",
    "\n",
    "#REDLIGHT\n",
    "#replace every \"NaN\" to False and \"Yes\" to True\n",
    "\n",
    "df.REDLIGHT.unique()\n",
    "df['REDLIGHT'] = df['REDLIGHT'].replace('Yes', 1, inplace=True)\n",
    "df['REDLIGHT'] = df['REDLIGHT'].fillna(0)"
   ],
   "metadata": {
    "collapsed": false,
    "pycharm": {
     "name": "#%%\n"
    }
   }
  },
  {
   "cell_type": "markdown",
   "source": [
    "Features 27 - 37"
   ],
   "metadata": {
    "id": "i0YGV_-RmpkR"
   }
  },
  {
   "cell_type": "code",
   "source": [
    "'''\n",
    "\"Every street owned by the City of Toronto has been given one of five classifications (with the exception of public laneways).\"\n",
    "classes: Local road, Collector road, Minor arterial road, Major arterical road and Expressway\n",
    "https://www.toronto.ca/services-payments/streets-parking-transportation/traffic-management/road-classification-system/about-the-road-classification-system/\n",
    "'''\n",
    "# replace nan values with most frequent value in the column\n",
    "df['ROAD_CLASS'] = df['ROAD_CLASS'].fillna(df['ROAD_CLASS'].value_counts().index[0])\n",
    "# drop rows where ROAD_CLASS is pending\n",
    "df.drop(df.index[df['ROAD_CLASS'] == 'Pending'], inplace=True)\n",
    "# replacing Expressway Ramp (4 rows) with Expressway\n",
    "df['ROAD_CLASS'] = df['ROAD_CLASS'].replace(['Expressway Ramp'],'Expressway')\n",
    "# Major Arterial Ramp (1 row) with Major Arterial\n",
    "df['ROAD_CLASS'] = df['ROAD_CLASS'].replace(['Major Arterial Ramp'],'Major Arterial')\n",
    "df['ROAD_CLASS'] = df['ROAD_CLASS'].astype('category').cat.codes # label encoding\n",
    "\n",
    "\n",
    "# replacing nan with 0 ('No') and 'Yes' with 1\n",
    "df['SPEEDING'] = df['SPEEDING'].fillna(0)\n",
    "df['SPEEDING'] = df['SPEEDING'].replace(['Yes'], 1)\n",
    "\n",
    "\n",
    "# drop street names\n",
    "df = df.drop(columns=['STREET1', 'STREET2'])\n",
    "\n",
    "\n",
    "# group all into no control, passive control or active control\n",
    "df['TRAFFCTL'] = df['TRAFFCTL'].replace(['Traffic Signal', 'Stop Sign', 'Pedestrian Crossover', 'Yield Sign', 'Streetcar (Stop for)', 'Traffic Gate'], 'Passive Control')\n",
    "df['TRAFFCTL'] = df['TRAFFCTL'].replace(['Police Control', 'School Guard', 'Traffic Controller'], 'Active Control')\n",
    "\n",
    "\n",
    "# replace nan with 0 ('No') and 'Yes' with 1\n",
    "df['TRSN_CITY_VEH'] = df['TRSN_CITY_VEH'].fillna(0)\n",
    "df.TRSN_CITY_VEH.replace(('Yes'), (1), inplace=True)\n",
    "\n",
    "\n",
    "# replace nan with 0 ('No') and 'Yes' with 1\n",
    "df['TRUCK'] = df['TRUCK'].fillna(0)\n",
    "df.TRUCK.replace(('Yes'), (1), inplace=True)\n",
    "\n",
    "\n",
    "df = df.drop(columns='VEHTYPE') # drop\n",
    "\n",
    "\n",
    "# label encoding\n",
    "df['VISIBILITY'] = df['VISIBILITY'].astype('category').cat.codes\n",
    "\n",
    "\n",
    "df = df.drop(columns='YEAR') # drop year"
   ],
   "metadata": {
    "id": "OVhxoNBRmwI-"
   },
   "execution_count": 25,
   "outputs": []
  },
  {
   "cell_type": "code",
   "source": [
    "df"
   ],
   "metadata": {
    "colab": {
     "base_uri": "https://localhost:8080/",
     "height": 852
    },
    "id": "p0UJO-OtmXsw",
    "outputId": "559f055f-c31f-4cba-c125-9c67e661e396"
   },
   "execution_count": 26,
   "outputs": [
    {
     "data": {
      "text/plain": "                ACCLASS AG_DRIV ALCOHOL AUTOMOBILE CYCLIST  \\\n0                 Fatal     Yes     NaN        Yes     NaN   \n2                 Fatal     Yes     NaN        Yes     NaN   \n3                 Fatal     Yes     NaN        Yes     NaN   \n4                 Fatal     NaN     Yes        Yes     NaN   \n7      Non-Fatal Injury     Yes     Yes        Yes     NaN   \n...                 ...     ...     ...        ...     ...   \n16853  Non-Fatal Injury     Yes     NaN        Yes     NaN   \n16854  Non-Fatal Injury     Yes     NaN        Yes     Yes   \n16856  Non-Fatal Injury     Yes     NaN        Yes     NaN   \n16857  Non-Fatal Injury     Yes     NaN        Yes     NaN   \n16859  Non-Fatal Injury     NaN     NaN        Yes     Yes   \n\n                      DATE DISABILITY               DISTRICT  \\\n0      2006-03-11T00:00:00        NaN  Toronto and East York   \n2      2006-03-11T00:00:00        NaN            Scarborough   \n3      2006-03-11T00:00:00        NaN            Scarborough   \n4      2006-03-12T00:00:00        NaN            Scarborough   \n7      2006-03-12T00:00:00        NaN  Toronto and East York   \n...                    ...        ...                    ...   \n16853  2020-08-29T00:00:00        NaN             North York   \n16854  2020-08-30T00:00:00        NaN                    NaN   \n16856  2020-09-01T00:00:00        NaN            Scarborough   \n16857  2020-09-01T00:00:00        NaN            Scarborough   \n16859  2020-09-01T00:00:00        NaN                    NaN   \n\n                            DRIVACT EMERG_VEH  ...  PASSENGER  PEDESTRIAN  \\\n0      Failed to Yield Right of Way      None  ...          0           0   \n2         Disobeyed Traffic Control      None  ...          0           0   \n3                  Driving Properly      None  ...          0           0   \n4                             Other      None  ...          0           0   \n7      Failed to Yield Right of Way      None  ...          0           0   \n...                             ...       ...  ...        ...         ...   \n16853              Driving Properly      None  ...          0           0   \n16854              Improper Passing      None  ...          0           0   \n16856  Failed to Yield Right of Way      None  ...          0           0   \n16857              Driving Properly      None  ...          0           0   \n16859          Improper Lane Change      None  ...          0           0   \n\n      RDSFCOND REDLIGHT ROAD_CLASS SPEEDING         TRAFFCTL TRSN_CITY_VEH  \\\n0          Dry        0          4        0  Passive Control             0   \n2          Dry        0          4        0  Passive Control             0   \n3          Dry        0          4        0  Passive Control             0   \n4          Dry        0          4        0       No Control             0   \n7          Dry        0          4        0  Passive Control             0   \n...        ...      ...        ...      ...              ...           ...   \n16853      Dry        0          4        0  Passive Control             0   \n16854      Dry        0          4        0       No Control             0   \n16856      Dry        0          4        0  Passive Control             0   \n16857      Dry        0          4        0  Passive Control             0   \n16859      Dry        0          4        0       No Control             0   \n\n       TRUCK  VISIBILITY  \n0          0           0  \n2          0           0  \n3          0           0  \n4          0           0  \n7          0           0  \n...      ...         ...  \n16853      0           0  \n16854      0           0  \n16856      0           0  \n16857      0           0  \n16859      0           0  \n\n[8559 rows x 29 columns]",
      "text/html": "<div>\n<style scoped>\n    .dataframe tbody tr th:only-of-type {\n        vertical-align: middle;\n    }\n\n    .dataframe tbody tr th {\n        vertical-align: top;\n    }\n\n    .dataframe thead th {\n        text-align: right;\n    }\n</style>\n<table border=\"1\" class=\"dataframe\">\n  <thead>\n    <tr style=\"text-align: right;\">\n      <th></th>\n      <th>ACCLASS</th>\n      <th>AG_DRIV</th>\n      <th>ALCOHOL</th>\n      <th>AUTOMOBILE</th>\n      <th>CYCLIST</th>\n      <th>DATE</th>\n      <th>DISABILITY</th>\n      <th>DISTRICT</th>\n      <th>DRIVACT</th>\n      <th>EMERG_VEH</th>\n      <th>...</th>\n      <th>PASSENGER</th>\n      <th>PEDESTRIAN</th>\n      <th>RDSFCOND</th>\n      <th>REDLIGHT</th>\n      <th>ROAD_CLASS</th>\n      <th>SPEEDING</th>\n      <th>TRAFFCTL</th>\n      <th>TRSN_CITY_VEH</th>\n      <th>TRUCK</th>\n      <th>VISIBILITY</th>\n    </tr>\n  </thead>\n  <tbody>\n    <tr>\n      <th>0</th>\n      <td>Fatal</td>\n      <td>Yes</td>\n      <td>NaN</td>\n      <td>Yes</td>\n      <td>NaN</td>\n      <td>2006-03-11T00:00:00</td>\n      <td>NaN</td>\n      <td>Toronto and East York</td>\n      <td>Failed to Yield Right of Way</td>\n      <td>None</td>\n      <td>...</td>\n      <td>0</td>\n      <td>0</td>\n      <td>Dry</td>\n      <td>0</td>\n      <td>4</td>\n      <td>0</td>\n      <td>Passive Control</td>\n      <td>0</td>\n      <td>0</td>\n      <td>0</td>\n    </tr>\n    <tr>\n      <th>2</th>\n      <td>Fatal</td>\n      <td>Yes</td>\n      <td>NaN</td>\n      <td>Yes</td>\n      <td>NaN</td>\n      <td>2006-03-11T00:00:00</td>\n      <td>NaN</td>\n      <td>Scarborough</td>\n      <td>Disobeyed Traffic Control</td>\n      <td>None</td>\n      <td>...</td>\n      <td>0</td>\n      <td>0</td>\n      <td>Dry</td>\n      <td>0</td>\n      <td>4</td>\n      <td>0</td>\n      <td>Passive Control</td>\n      <td>0</td>\n      <td>0</td>\n      <td>0</td>\n    </tr>\n    <tr>\n      <th>3</th>\n      <td>Fatal</td>\n      <td>Yes</td>\n      <td>NaN</td>\n      <td>Yes</td>\n      <td>NaN</td>\n      <td>2006-03-11T00:00:00</td>\n      <td>NaN</td>\n      <td>Scarborough</td>\n      <td>Driving Properly</td>\n      <td>None</td>\n      <td>...</td>\n      <td>0</td>\n      <td>0</td>\n      <td>Dry</td>\n      <td>0</td>\n      <td>4</td>\n      <td>0</td>\n      <td>Passive Control</td>\n      <td>0</td>\n      <td>0</td>\n      <td>0</td>\n    </tr>\n    <tr>\n      <th>4</th>\n      <td>Fatal</td>\n      <td>NaN</td>\n      <td>Yes</td>\n      <td>Yes</td>\n      <td>NaN</td>\n      <td>2006-03-12T00:00:00</td>\n      <td>NaN</td>\n      <td>Scarborough</td>\n      <td>Other</td>\n      <td>None</td>\n      <td>...</td>\n      <td>0</td>\n      <td>0</td>\n      <td>Dry</td>\n      <td>0</td>\n      <td>4</td>\n      <td>0</td>\n      <td>No Control</td>\n      <td>0</td>\n      <td>0</td>\n      <td>0</td>\n    </tr>\n    <tr>\n      <th>7</th>\n      <td>Non-Fatal Injury</td>\n      <td>Yes</td>\n      <td>Yes</td>\n      <td>Yes</td>\n      <td>NaN</td>\n      <td>2006-03-12T00:00:00</td>\n      <td>NaN</td>\n      <td>Toronto and East York</td>\n      <td>Failed to Yield Right of Way</td>\n      <td>None</td>\n      <td>...</td>\n      <td>0</td>\n      <td>0</td>\n      <td>Dry</td>\n      <td>0</td>\n      <td>4</td>\n      <td>0</td>\n      <td>Passive Control</td>\n      <td>0</td>\n      <td>0</td>\n      <td>0</td>\n    </tr>\n    <tr>\n      <th>...</th>\n      <td>...</td>\n      <td>...</td>\n      <td>...</td>\n      <td>...</td>\n      <td>...</td>\n      <td>...</td>\n      <td>...</td>\n      <td>...</td>\n      <td>...</td>\n      <td>...</td>\n      <td>...</td>\n      <td>...</td>\n      <td>...</td>\n      <td>...</td>\n      <td>...</td>\n      <td>...</td>\n      <td>...</td>\n      <td>...</td>\n      <td>...</td>\n      <td>...</td>\n      <td>...</td>\n    </tr>\n    <tr>\n      <th>16853</th>\n      <td>Non-Fatal Injury</td>\n      <td>Yes</td>\n      <td>NaN</td>\n      <td>Yes</td>\n      <td>NaN</td>\n      <td>2020-08-29T00:00:00</td>\n      <td>NaN</td>\n      <td>North York</td>\n      <td>Driving Properly</td>\n      <td>None</td>\n      <td>...</td>\n      <td>0</td>\n      <td>0</td>\n      <td>Dry</td>\n      <td>0</td>\n      <td>4</td>\n      <td>0</td>\n      <td>Passive Control</td>\n      <td>0</td>\n      <td>0</td>\n      <td>0</td>\n    </tr>\n    <tr>\n      <th>16854</th>\n      <td>Non-Fatal Injury</td>\n      <td>Yes</td>\n      <td>NaN</td>\n      <td>Yes</td>\n      <td>Yes</td>\n      <td>2020-08-30T00:00:00</td>\n      <td>NaN</td>\n      <td>NaN</td>\n      <td>Improper Passing</td>\n      <td>None</td>\n      <td>...</td>\n      <td>0</td>\n      <td>0</td>\n      <td>Dry</td>\n      <td>0</td>\n      <td>4</td>\n      <td>0</td>\n      <td>No Control</td>\n      <td>0</td>\n      <td>0</td>\n      <td>0</td>\n    </tr>\n    <tr>\n      <th>16856</th>\n      <td>Non-Fatal Injury</td>\n      <td>Yes</td>\n      <td>NaN</td>\n      <td>Yes</td>\n      <td>NaN</td>\n      <td>2020-09-01T00:00:00</td>\n      <td>NaN</td>\n      <td>Scarborough</td>\n      <td>Failed to Yield Right of Way</td>\n      <td>None</td>\n      <td>...</td>\n      <td>0</td>\n      <td>0</td>\n      <td>Dry</td>\n      <td>0</td>\n      <td>4</td>\n      <td>0</td>\n      <td>Passive Control</td>\n      <td>0</td>\n      <td>0</td>\n      <td>0</td>\n    </tr>\n    <tr>\n      <th>16857</th>\n      <td>Non-Fatal Injury</td>\n      <td>Yes</td>\n      <td>NaN</td>\n      <td>Yes</td>\n      <td>NaN</td>\n      <td>2020-09-01T00:00:00</td>\n      <td>NaN</td>\n      <td>Scarborough</td>\n      <td>Driving Properly</td>\n      <td>None</td>\n      <td>...</td>\n      <td>0</td>\n      <td>0</td>\n      <td>Dry</td>\n      <td>0</td>\n      <td>4</td>\n      <td>0</td>\n      <td>Passive Control</td>\n      <td>0</td>\n      <td>0</td>\n      <td>0</td>\n    </tr>\n    <tr>\n      <th>16859</th>\n      <td>Non-Fatal Injury</td>\n      <td>NaN</td>\n      <td>NaN</td>\n      <td>Yes</td>\n      <td>Yes</td>\n      <td>2020-09-01T00:00:00</td>\n      <td>NaN</td>\n      <td>NaN</td>\n      <td>Improper Lane Change</td>\n      <td>None</td>\n      <td>...</td>\n      <td>0</td>\n      <td>0</td>\n      <td>Dry</td>\n      <td>0</td>\n      <td>4</td>\n      <td>0</td>\n      <td>No Control</td>\n      <td>0</td>\n      <td>0</td>\n      <td>0</td>\n    </tr>\n  </tbody>\n</table>\n<p>8559 rows × 29 columns</p>\n</div>"
     },
     "execution_count": 26,
     "metadata": {},
     "output_type": "execute_result"
    }
   ]
  },
  {
   "cell_type": "code",
   "source": [
    "df.to_csv(\"clean_data.csv\")"
   ],
   "metadata": {
    "id": "RyQpa90WmZJk"
   },
   "execution_count": 27,
   "outputs": []
  },
  {
   "cell_type": "code",
   "execution_count": null,
   "outputs": [],
   "source": [],
   "metadata": {
    "collapsed": false,
    "pycharm": {
     "name": "#%%\n"
    }
   }
  }
 ]
}