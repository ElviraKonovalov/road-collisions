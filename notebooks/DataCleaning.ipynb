{
 "nbformat": 4,
 "nbformat_minor": 0,
 "metadata": {
  "colab": {
   "name": "DataCleaning.ipynb",
   "provenance": [],
   "authorship_tag": "ABX9TyOZIi/JuSJkwmwWEV1t76lW",
   "include_colab_link": true
  },
  "kernelspec": {
   "name": "python3",
   "display_name": "Python 3"
  },
  "language_info": {
   "name": "python"
  }
 },
 "cells": [
  {
   "cell_type": "markdown",
   "metadata": {
    "id": "view-in-github",
    "colab_type": "text"
   },
   "source": [
    "<a href=\"https://colab.research.google.com/github/ElviraKonovalov/soen471-bigData/blob/main/DataCleaning.ipynb\" target=\"_parent\"><img src=\"https://colab.research.google.com/assets/colab-badge.svg\" alt=\"Open In Colab\"/></a>"
   ]
  },
  {
   "cell_type": "code",
   "execution_count": 159,
   "metadata": {
    "id": "hhCfuk1-lfCQ"
   },
   "outputs": [],
   "source": [
    "import pandas as pd\n",
    "import matplotlib.pyplot as plt\n",
    "import datetime"
   ]
  },
  {
   "cell_type": "code",
   "source": [
    "file = '../data/Motor Vehicle Collisions with KSI Data.csv'\n",
    "df=  pd.read_csv(file, sep=',');\n",
    "\n",
    "columns_to_drop = ['_id', 'ACCNUM', 'TIME', 'OFFSET', 'WARDNUM', 'DIVISION', 'ACCLOC', 'FATAL_NO', 'PEDTYPE', 'PEDACT', 'PEDCOND', 'CYCLISTYPE', 'CYCACT', 'CYCCOND', 'POLICE_DIVISION', 'ObjectId', 'geometry']\n",
    "df = df.drop(columns=columns_to_drop)"
   ],
   "metadata": {
    "colab": {
     "base_uri": "https://localhost:8080/"
    },
    "id": "RhURYIurlpsp",
    "outputId": "b1fae540-abcf-4bbf-f701-310d88e49437"
   },
   "execution_count": 160,
   "outputs": [
    {
     "name": "stderr",
     "output_type": "stream",
     "text": [
      "/tmp/ipykernel_23549/3376709844.py:2: DtypeWarning: Columns (16) have mixed types. Specify dtype option on import or set low_memory=False.\n",
      "  df=  pd.read_csv(file, sep=',');\n"
     ]
    }
   ]
  },
  {
   "cell_type": "markdown",
   "source": [
    "Features 1 - 8"
   ],
   "metadata": {
    "id": "cs-aXujOmfAq"
   }
  },
  {
   "cell_type": "code",
   "source": [
    "columns_to_drop = ['DISTRICT', 'DRIVACT']\n",
    "df = df.drop(columns=columns_to_drop)\n",
    "\n",
    "df['ACCLASS'] = df['ACCLASS'].replace('Property Damage Only','Non-Fatal Injury')\n",
    "\n",
    "df['AUTOMOBILE'] = df['AUTOMOBILE'].fillna(0)\n",
    "df['AUTOMOBILE'].replace('Yes',1, inplace=True)\n",
    "\n",
    "df['CYCLIST'] = df['CYCLIST'].fillna(0)\n",
    "df['CYCLIST'].replace('Yes',1, inplace=True)\n",
    "\n",
    "def date_to_month(date):\n",
    "  date_time_obj = datetime.datetime.strptime(date, '%Y-%m-%dT%H:%M:%S')\n",
    "  return date_time_obj.month\n",
    "\n",
    "\n",
    "df['DATE'] = df['DATE'].map(lambda x: date_to_month(x))\n",
    "df = df.rename(columns={'DATE' : 'MONTH'})\n"
   ],
   "metadata": {
    "id": "5yArDdpqmeXJ"
   },
   "execution_count": 161,
   "outputs": []
  },
  {
   "cell_type": "markdown",
   "source": [
    "Features 9 - 18"
   ],
   "metadata": {
    "id": "uAh1U0uYlv9K"
   }
  },
  {
   "cell_type": "code",
   "source": [
    "df = df.drop(columns = ['DRIVCOND'])\n",
    "\n",
    "df['EMERG_VEH'] = df['EMERG_VEH'].fillna(0)\n",
    "df['EMERG_VEH'].replace('Yes',1, inplace=True)\n",
    "\n",
    "\n",
    "\n",
    "df = df.drop(columns = ['IMPACTYPE'])\n",
    "\n",
    "\n",
    "df.INITDIR.fillna(\"Unknown\", inplace = True)\n",
    "\n",
    "\n",
    "df.INVAGE = df.INVAGE.replace(['unknown'], 'Unknown') #All of the unknowns in this dataset are upper case except the ones in this collumn so it was bugging me.\n",
    "\n",
    "#df = df.drop(columns = ['INVAGE'])\n",
    "\n",
    "\n",
    "df.INVTYPE.fillna('Unknown', inplace=True)\n",
    "\n",
    "#Removing rows where they weren't hit, as they obviously wouldn't ever have any injuries.\n",
    "\n",
    "rows = df.INVTYPE.unique()\n",
    "\n",
    "#['Cyclist', 'Cyclist Passenger', 'Motorcycle Passenger', 'Passenger','In-Line Skater', 'Trailer Owner', 'Other Property Owner', 'Vehicle Owner', 'Other', 'Wheelchair', 'Pedestrian', 'Unknown', 'Witness', 'Pedestrian - Not Hit', 'Driver - Not Hit']\n",
    "\n",
    "#Remove rows I don't like\n",
    "for row in rows:\n",
    "  if 'Driver' not in row or 'Not Hit' in row:\n",
    "    df = df[(df.INVTYPE != row)] \n",
    "\n",
    "#Replacing not necesarry.\n",
    "#df.INVTYPE = df.INVTYPE.replace(['Motorcycle Driver', 'Moped Driver', 'Truck Driver'], 'Driver')\n",
    "\n",
    "#Dropping the column now that I've filtered rows.\n",
    "df = df.drop(columns = ['INVTYPE'])"
   ],
   "metadata": {
    "id": "JlciIPINl6jX"
   },
   "execution_count": 162,
   "outputs": []
  },
  {
   "cell_type": "markdown",
   "source": [
    "Features 18 - 26"
   ],
   "metadata": {
    "id": "xBGUPmQjmm4-"
   }
  },
  {
   "cell_type": "code",
   "execution_count": 163,
   "outputs": [],
   "source": [
    "columns_to_drop = ['NEIGHBOURHOOD']\n",
    "df = df.drop(columns=columns_to_drop)\n",
    "\n",
    "\n",
    "#LIGHT\n",
    "df.LIGHT.unique()\n",
    "\n",
    "# Dropping all rows that have \"Other\" as value\n",
    "\n",
    "df = df.drop(df[df.LIGHT == 'Other'].index)\n",
    "df = df.drop(df[df.LIGHT.isnull()].index)\n",
    "\n",
    "\n",
    "\n",
    "#LOCCOORD\n",
    "df.LOCCOORD.unique()\n",
    "df.LOCCOORD.isnull().sum() #105\n",
    "\n",
    "\n",
    "#PEDESTRIAN\n",
    "#replace every \"NaN\" to 0 and \"Yes\" to 1\n",
    "\n",
    "\n",
    "df['PEDESTRIAN'] = df['PEDESTRIAN'].fillna(0)\n",
    "df['PEDESTRIAN'].replace(('Yes'),(1), inplace=True)\n",
    "\n",
    "\n",
    "\n",
    "#PASSENGER\n",
    "#replace every \"NaN\" to False and \"Yes\" to True\n",
    "\n",
    "df['PASSENGER'] = df['PASSENGER'].fillna(0)\n",
    "df['PASSENGER'].replace(('Yes'),(1), inplace=True)\n",
    "\n",
    "\n",
    "\n",
    "#MOTORCYCLE\n",
    "#replace every \"NaN\" to False and \"Yes\" to True\n",
    "\n",
    "df['MOTORCYCLE'] = df['MOTORCYCLE'].fillna(0)\n",
    "df['MOTORCYCLE'].replace(('Yes'),(1), inplace=True)\n",
    "\n",
    "\n",
    "\n",
    "\n",
    "df.RDSFCOND.isnull().sum() # 23\n",
    "df = df.drop(df[df.RDSFCOND.isnull()].index)\n",
    "\n",
    "\n",
    "#REDLIGHT\n",
    "#replace every \"NaN\" to False and \"Yes\" to True\n",
    "\n",
    "df['REDLIGHT'] = df['REDLIGHT'].fillna(0)\n",
    "df['REDLIGHT'].replace(('Yes'), (1), inplace=True)\n",
    "\n",
    "\n",
    "\n",
    "df['MANOEUVER'] = df['MANOEUVER'].fillna('Unknown')\n",
    "\n"
   ],
   "metadata": {
    "collapsed": false,
    "pycharm": {
     "name": "#%%\n"
    }
   }
  },
  {
   "cell_type": "markdown",
   "source": [
    "Features 27 - 37"
   ],
   "metadata": {
    "id": "i0YGV_-RmpkR"
   }
  },
  {
   "cell_type": "code",
   "source": [
    "'''\n",
    "\"Every street owned by the City of Toronto has been given one of five classifications (with the exception of public laneways).\"\n",
    "classes: Local road, Collector road, Minor arterial road, Major arterical road and Expressway\n",
    "https://www.toronto.ca/services-payments/streets-parking-transportation/traffic-management/road-classification-system/about-the-road-classification-system/\n",
    "'''\n",
    "# replace nan values with most frequent value in the column\n",
    "df['ROAD_CLASS'] = df['ROAD_CLASS'].fillna(df['ROAD_CLASS'].value_counts().index[0])\n",
    "# drop rows where ROAD_CLASS is pending\n",
    "df.drop(df.index[df['ROAD_CLASS'] == 'Pending'], inplace=True)\n",
    "# replacing Expressway Ramp (4 rows) with Expressway\n",
    "df['ROAD_CLASS'] = df['ROAD_CLASS'].replace(['Expressway Ramp'],'Expressway')\n",
    "# Major Arterial Ramp (1 row) with Major Arterial\n",
    "df['ROAD_CLASS'] = df['ROAD_CLASS'].replace(['Major Arterial Ramp'],'Major Arterial')\n",
    "\n",
    "\n",
    "\n",
    "# replacing nan with 0 ('No') and 'Yes' with 1\n",
    "df['SPEEDING'] = df['SPEEDING'].fillna(0)\n",
    "df['SPEEDING'] = df['SPEEDING'].replace(['Yes'], 1)\n",
    "\n",
    "\n",
    "# drop street names\n",
    "df = df.drop(columns=['STREET1', 'STREET2'])\n",
    "\n",
    "\n",
    "# group all into no control, passive control or active control\n",
    "df['TRAFFCTL'] = df['TRAFFCTL'].replace(['Traffic Signal', 'Stop Sign', 'Pedestrian Crossover', 'Yield Sign', 'Streetcar (Stop for)', 'Traffic Gate'], 'Passive Control')\n",
    "df['TRAFFCTL'] = df['TRAFFCTL'].replace(['Police Control', 'School Guard', 'Traffic Controller'], 'Active Control')\n",
    "df['TRAFFCTL'] = df['TRAFFCTL'].fillna('Passive Control')\n",
    "\n",
    "\n",
    "# replace nan with 0 ('No') and 'Yes' with 1\n",
    "df['TRSN_CITY_VEH'] = df['TRSN_CITY_VEH'].fillna(0)\n",
    "df.TRSN_CITY_VEH.replace(('Yes'), (1), inplace=True)\n",
    "\n",
    "\n",
    "# replace nan with 0 ('No') and 'Yes' with 1\n",
    "df['TRUCK'] = df['TRUCK'].fillna(0)\n",
    "df.TRUCK.replace(('Yes'), (1), inplace=True)\n",
    "\n",
    "\n",
    "df = df.drop(columns='VEHTYPE') # drop\n",
    "\n",
    "\n",
    "\n",
    "\n",
    "\n",
    "df = df.drop(columns='YEAR') # drop year"
   ],
   "metadata": {
    "id": "OVhxoNBRmwI-"
   },
   "execution_count": 164,
   "outputs": []
  },
  {
   "cell_type": "code",
   "execution_count": 165,
   "outputs": [],
   "source": [
    "df = df.drop(df[df.VISIBILITY.isnull()].index)"
   ],
   "metadata": {
    "collapsed": false,
    "pycharm": {
     "name": "#%%\n"
    }
   }
  },
  {
   "cell_type": "code",
   "execution_count": 166,
   "outputs": [],
   "source": [
    "df\n",
    "# save csv no hot-one encoding\n",
    "df.to_csv(\"../data/clean_data.csv\")"
   ],
   "metadata": {
    "collapsed": false,
    "pycharm": {
     "name": "#%%\n"
    }
   }
  },
  {
   "cell_type": "code",
   "execution_count": 167,
   "outputs": [],
   "source": [
    "\n",
    "# label encoding\n",
    "df['ACCLASS'] = df['ACCLASS'].astype('category').cat.codes\n",
    "df['INITDIR'] = df['INITDIR'].astype('category').cat.codes\n",
    "df['LIGHT'] = df['LIGHT'].astype('category').cat.codes\n",
    "df['VISIBILITY'] = df['VISIBILITY'].astype('category').cat.codes\n",
    "df['RDSFCOND'] = df['RDSFCOND'].astype('category').cat.codes\n",
    "df['ROAD_CLASS'] = df['ROAD_CLASS'].astype('category').cat.codes # label encoding\n",
    "df['TRAFFCTL'] = df['TRAFFCTL'].astype('category').cat.codes\n",
    "\n"
   ],
   "metadata": {
    "collapsed": false,
    "pycharm": {
     "name": "#%%\n"
    }
   }
  },
  {
   "cell_type": "code",
   "execution_count": 167,
   "outputs": [],
   "source": [],
   "metadata": {
    "collapsed": false,
    "pycharm": {
     "name": "#%%\n"
    }
   }
  },
  {
   "cell_type": "code",
   "source": [],
   "metadata": {
    "colab": {
     "base_uri": "https://localhost:8080/",
     "height": 852
    },
    "id": "p0UJO-OtmXsw",
    "outputId": "559f055f-c31f-4cba-c125-9c67e661e396"
   },
   "execution_count": 167,
   "outputs": []
  },
  {
   "cell_type": "code",
   "source": [
    "df\n",
    "df.to_csv(\"../data/clean_data_hot-one.csv\")"
   ],
   "metadata": {
    "id": "RyQpa90WmZJk"
   },
   "execution_count": 168,
   "outputs": []
  },
  {
   "cell_type": "code",
   "execution_count": 168,
   "outputs": [],
   "source": [],
   "metadata": {
    "collapsed": false,
    "pycharm": {
     "name": "#%%\n"
    }
   }
  }
 ]
}