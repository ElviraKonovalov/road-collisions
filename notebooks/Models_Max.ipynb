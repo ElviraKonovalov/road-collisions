{
  "nbformat": 4,
  "nbformat_minor": 0,
  "metadata": {
    "colab": {
      "name": "Models_Max.ipynb",
      "provenance": [],
      "collapsed_sections": [],
      "authorship_tag": "ABX9TyMD5FeDYG42WbamS01P10/+",
      "include_colab_link": true
    },
    "kernelspec": {
      "name": "python3",
      "display_name": "Python 3"
    },
    "language_info": {
      "name": "python"
    }
  },
  "cells": [
    {
      "cell_type": "markdown",
      "metadata": {
        "id": "view-in-github",
        "colab_type": "text"
      },
      "source": [
        "<a href=\"https://colab.research.google.com/github/ElviraKonovalov/soen471-bigData/blob/main/Models_Max.ipynb\" target=\"_parent\"><img src=\"https://colab.research.google.com/assets/colab-badge.svg\" alt=\"Open In Colab\"/></a>"
      ]
    },
    {
      "cell_type": "code",
      "source": [
        "import pandas as pd\n",
        "import numpy as np\n",
        "import matplotlib.pyplot as plt\n",
        "\n",
        "import sklearn\n",
        "from sklearn.tree import DecisionTreeClassifier\n",
        "from sklearn.ensemble import RandomForestClassifier\n",
        "from sklearn.neural_network import MLPClassifier\n",
        "from sklearn.model_selection import train_test_split\n",
        "from sklearn.preprocessing import StandardScaler"
      ],
      "metadata": {
        "id": "MS25vIY-RAFa"
      },
      "execution_count": 217,
      "outputs": []
    },
    {
      "cell_type": "code",
      "source": [
        "#Prepping data.\n",
        "\n",
        "file = 'clean_data_hot-one.csv'\n",
        "df =  pd.read_csv(file, sep=',')\n",
        "\n",
        "#CATEGORISES ANY COLUMNS REMAINING AS STRINGS\n",
        "for i in range(len(df.columns) - 1):\n",
        "  if not isinstance(df.iloc[0, i], np.int64):\n",
        "    df[df.columns[i]] = pd.factorize(df[df.columns[i]])[0]\n",
        "\n",
        "df = df.iloc[: , 1:] #REMOVES THE EXTRA ID COLUMN\n",
        "\n",
        "print(df.columns)"
      ],
      "metadata": {
        "colab": {
          "base_uri": "https://localhost:8080/"
        },
        "id": "so13CbIubb8D",
        "outputId": "17dde843-1a39-460d-986e-e6b7fe46ddca"
      },
      "execution_count": 218,
      "outputs": [
        {
          "output_type": "stream",
          "name": "stdout",
          "text": [
            "Index(['ACCLASS', 'AG_DRIV', 'ALCOHOL', 'AUTOMOBILE', 'CYCLIST', 'DATE',\n",
            "       'DISABILITY', 'EMERG_VEH', 'HOOD_ID', 'HOUR', 'INITDIR', 'INVAGE',\n",
            "       'LIGHT', 'LOCCOORD', 'MANOEUVER', 'MOTORCYCLE', 'PASSENGER',\n",
            "       'PEDESTRIAN', 'RDSFCOND', 'REDLIGHT', 'ROAD_CLASS', 'SPEEDING',\n",
            "       'TRAFFCTL', 'TRSN_CITY_VEH', 'TRUCK', 'VISIBILITY'],\n",
            "      dtype='object')\n"
          ]
        }
      ]
    },
    {
      "cell_type": "code",
      "source": [
        "data = df.to_numpy()\n",
        "\n",
        "X = np.delete(data, 0, 1) #Necesarry to remove the label column\n",
        "y = data[:,0]\n",
        "\n",
        "X_train, X_test, y_train, y_test = train_test_split(X, y, test_size=0.2, random_state=0)\n",
        "\n",
        "scaler = StandardScaler().fit(X_train)\n",
        "X_train_scaled = scaler.transform(X_train)\n",
        "X_test_scaled = scaler.transform(X_test)"
      ],
      "metadata": {
        "id": "oApmCydvRCTt"
      },
      "execution_count": 219,
      "outputs": []
    },
    {
      "cell_type": "code",
      "source": [
        "#Defining models.\n",
        "\n",
        "dt = DecisionTreeClassifier(random_state=0, max_depth=5)\n",
        "rf = RandomForestClassifier(random_state=0, max_depth=6)\n",
        "mlp = MLPClassifier(random_state=0, max_iter=1000, activation='tanh', solver='adam', learning_rate='adaptive')"
      ],
      "metadata": {
        "id": "-7eHtIvPRNvy"
      },
      "execution_count": 315,
      "outputs": []
    },
    {
      "cell_type": "code",
      "source": [
        "#Fitting decision tree classifier.\n",
        "dt.fit(X_train_scaled, y_train)"
      ],
      "metadata": {
        "colab": {
          "base_uri": "https://localhost:8080/"
        },
        "id": "pemMirTnSSwF",
        "outputId": "7ec7ad99-0582-495e-ad6c-96f1b5a3154f"
      },
      "execution_count": 316,
      "outputs": [
        {
          "output_type": "execute_result",
          "data": {
            "text/plain": [
              "DecisionTreeClassifier(max_depth=5, random_state=0)"
            ]
          },
          "metadata": {},
          "execution_count": 316
        }
      ]
    },
    {
      "cell_type": "code",
      "source": [
        "#Fitting random forest classifier.\n",
        "rf.fit(X_train_scaled, y_train)"
      ],
      "metadata": {
        "colab": {
          "base_uri": "https://localhost:8080/"
        },
        "id": "-kACpB5EVfxj",
        "outputId": "3196f757-07c8-44e4-de55-71b5a74d5066"
      },
      "execution_count": 308,
      "outputs": [
        {
          "output_type": "execute_result",
          "data": {
            "text/plain": [
              "RandomForestClassifier(max_depth=6, random_state=0)"
            ]
          },
          "metadata": {},
          "execution_count": 308
        }
      ]
    },
    {
      "cell_type": "code",
      "source": [
        "#Fitting MLP classifier.\n",
        "mlp.fit(X_train_scaled, y_train)"
      ],
      "metadata": {
        "colab": {
          "base_uri": "https://localhost:8080/"
        },
        "id": "JIWe9LY-WZPK",
        "outputId": "d40628ab-182c-4727-bbae-6e63dbb4924c"
      },
      "execution_count": 247,
      "outputs": [
        {
          "output_type": "execute_result",
          "data": {
            "text/plain": [
              "MLPClassifier(activation='tanh', learning_rate='adaptive', max_iter=1000,\n",
              "              random_state=0)"
            ]
          },
          "metadata": {},
          "execution_count": 247
        }
      ]
    },
    {
      "cell_type": "code",
      "source": [
        "#Predicting test set on decision tree.\n",
        "predicted = dt.predict(X_test_scaled)\n",
        "\n",
        "accuracy_dt = round(sklearn.metrics.accuracy_score(y_test, predicted)*100, 2)\n",
        "precision_dt = round(sklearn.metrics.precision_score(y_test, predicted, average='weighted', labels=np.unique(predicted)) * 100, 2)\n",
        "recall_dt = round(sklearn.metrics.recall_score(y_test, predicted, average='weighted') * 100, 2)\n",
        "f1_dt = round(sklearn.metrics.f1_score(y_test, predicted, average='weighted', labels=np.unique(predicted)) * 100, 2)"
      ],
      "metadata": {
        "id": "CUruCExnVT5C"
      },
      "execution_count": 317,
      "outputs": []
    },
    {
      "cell_type": "code",
      "source": [
        "#Predicting test set on random forest.\n",
        "predicted = rf.predict(X_test_scaled)\n",
        "\n",
        "accuracy_rf = round(sklearn.metrics.accuracy_score(y_test, predicted)*100, 2)\n",
        "precision_rf = round(sklearn.metrics.precision_score(y_test, predicted, average='weighted', labels=np.unique(predicted)) * 100, 2)\n",
        "recall_rf = round(sklearn.metrics.recall_score(y_test, predicted, average='weighted') * 100, 2)\n",
        "f1_rf = round(sklearn.metrics.f1_score(y_test, predicted, average='weighted', labels=np.unique(predicted)) * 100, 2)"
      ],
      "metadata": {
        "id": "DpPB3VEIVkHM"
      },
      "execution_count": 309,
      "outputs": []
    },
    {
      "cell_type": "code",
      "source": [
        "#Predicting test set on neural network.\n",
        "predicted = mlp.predict(X_test_scaled)\n",
        "\n",
        "accuracy_mlp = round(sklearn.metrics.accuracy_score(y_test, predicted)*100, 2)\n",
        "precision_mlp = round(sklearn.metrics.precision_score(y_test, predicted, average='weighted', labels=np.unique(predicted)) * 100, 2)\n",
        "recall_mlp = round(sklearn.metrics.recall_score(y_test, predicted, average='weighted') * 100, 2)\n",
        "f1_mlp = round(sklearn.metrics.f1_score(y_test, predicted, average='weighted', labels=np.unique(predicted)) * 100, 2)"
      ],
      "metadata": {
        "id": "HcwXyuVcWyHD"
      },
      "execution_count": 248,
      "outputs": []
    },
    {
      "cell_type": "code",
      "source": [
        "#Displaying metrics.\n",
        "\n",
        "print('Decision Tree Metrics:')\n",
        "print(\"\\tAccuracy:  \" + str(accuracy_dt)+'%')\n",
        "print(\"\\tPrecision: \" + str(precision_dt)+'%')\n",
        "print(\"\\tRecall:    \" + str(recall_dt)+'%')\n",
        "print(\"\\tF1 Score:  \" + str(f1_dt)+'%')\n",
        "\n",
        "print('\\n')\n",
        "\n",
        "print('Random Forest Metrics:')\n",
        "print(\"\\tAccuracy:  \" + str(accuracy_rf)+'%')\n",
        "print(\"\\tPrecision: \" + str(precision_rf)+'%')\n",
        "print(\"\\tRecall:    \" + str(recall_rf)+'%')\n",
        "print(\"\\tF1 Score:  \" + str(f1_rf)+'%')\n",
        "\n",
        "print('\\n')\n",
        "\n",
        "print('MLP Neural Network Metrics:')\n",
        "print(\"\\tAccuracy:  \" + str(accuracy_mlp)+'%')\n",
        "print(\"\\tPrecision: \" + str(precision_mlp)+'%')\n",
        "print(\"\\tRecall:    \" + str(recall_mlp)+'%')\n",
        "print(\"\\tF1 Score:  \" + str(f1_mlp)+'%')"
      ],
      "metadata": {
        "colab": {
          "base_uri": "https://localhost:8080/"
        },
        "id": "ja9SFMoeWhv0",
        "outputId": "ebf70c1a-70d8-4a60-ff85-b91e1ba2ca47"
      },
      "execution_count": 318,
      "outputs": [
        {
          "output_type": "stream",
          "name": "stdout",
          "text": [
            "Decision Tree Metrics:\n",
            "\tAccuracy:  87.27%\n",
            "\tPrecision: 82.08%\n",
            "\tRecall:    87.27%\n",
            "\tF1 Score:  82.83%\n",
            "\n",
            "\n",
            "Random Forest Metrics:\n",
            "\tAccuracy:  87.64%\n",
            "\tPrecision: 87.64%\n",
            "\tRecall:    87.64%\n",
            "\tF1 Score:  93.41%\n",
            "\n",
            "\n",
            "MLP Neural Network Metrics:\n",
            "\tAccuracy:  82.01%\n",
            "\tPrecision: 82.21%\n",
            "\tRecall:    82.01%\n",
            "\tF1 Score:  82.11%\n"
          ]
        }
      ]
    }
  ]
}
