{
  "nbformat": 4,
  "nbformat_minor": 0,
  "metadata": {
    "colab": {
      "name": "features_9_18_processing.ipynb",
      "provenance": [],
      "collapsed_sections": [],
      "authorship_tag": "ABX9TyObrK0Ulpy1W1U3n8204xFF",
      "include_colab_link": true
    },
    "kernelspec": {
      "name": "python3",
      "display_name": "Python 3"
    },
    "language_info": {
      "name": "python"
    }
  },
  "cells": [
    {
      "cell_type": "markdown",
      "metadata": {
        "id": "view-in-github",
        "colab_type": "text"
      },
      "source": [
        "<a href=\"https://colab.research.google.com/github/ElviraKonovalov/soen471-bigData/blob/main/features_9_18_processing.ipynb\" target=\"_parent\"><img src=\"https://colab.research.google.com/assets/colab-badge.svg\" alt=\"Open In Colab\"/></a>"
      ]
    },
    {
      "cell_type": "code",
      "execution_count": 35,
      "metadata": {
        "id": "DQC_eu-Zd_gt"
      },
      "outputs": [],
      "source": [
        "import pandas as pd\n",
        "import matplotlib.pyplot as plt"
      ]
    },
    {
      "cell_type": "code",
      "source": [
        "file = 'Motor Vehicle Collisions with KSI Data.csv'\n",
        "df =  pd.read_csv(file, sep=',');"
      ],
      "metadata": {
        "colab": {
          "base_uri": "https://localhost:8080/"
        },
        "id": "XNDSV0IhevE5",
        "outputId": "822621e8-abec-49d1-80d9-6968e3760f86"
      },
      "execution_count": 36,
      "outputs": [
        {
          "output_type": "stream",
          "name": "stderr",
          "text": [
            "/usr/local/lib/python3.7/dist-packages/IPython/core/interactiveshell.py:2882: DtypeWarning: Columns (16) have mixed types.Specify dtype option on import or set low_memory=False.\n",
            "  exec(code_obj, self.user_global_ns, self.user_ns)\n"
          ]
        }
      ]
    },
    {
      "cell_type": "code",
      "source": [
        "columns_to_drop = ['_id', 'ACCNUM', 'TIME', 'OFFSET', 'WARDNUM', 'DIVISION', 'ACCLOC', 'FATAL_NO', 'PEDTYPE', 'PEDACT', 'PEDCOND', 'CYCLISTYPE', 'CYCACT', 'CYCCOND', 'POLICE_DIVISION', 'ObjectId', 'geometry']\n",
        "df = df.drop(columns=columns_to_drop)"
      ],
      "metadata": {
        "id": "GCgr85AQezPy"
      },
      "execution_count": 37,
      "outputs": []
    },
    {
      "cell_type": "code",
      "source": [
        "df = df.iloc[:, 9:18]"
      ],
      "metadata": {
        "id": "7QGyndSde0tC"
      },
      "execution_count": 38,
      "outputs": []
    },
    {
      "cell_type": "code",
      "source": [
        "df = df.drop(columns = ['DRIVCOND'])"
      ],
      "metadata": {
        "id": "7nf_nc8XfwFS"
      },
      "execution_count": 39,
      "outputs": []
    },
    {
      "cell_type": "code",
      "source": [
        "df.EMERG_VEH.fillna(0, inplace=True)\n",
        "df.EMERG_VEH = df.EMERG_VEH.replace(['Yes'], 1, inplace=True)"
      ],
      "metadata": {
        "id": "a3mIus93gkEp"
      },
      "execution_count": 40,
      "outputs": []
    },
    {
      "cell_type": "code",
      "source": [
        "df = df.drop(columns = ['IMPACTYPE'])"
      ],
      "metadata": {
        "id": "PesN_p-5hodR"
      },
      "execution_count": 41,
      "outputs": []
    },
    {
      "cell_type": "code",
      "source": [
        "df.INITDIR.fillna(\"Unknown\", inplace = True)"
      ],
      "metadata": {
        "id": "EqiSmIl4kqSJ"
      },
      "execution_count": 42,
      "outputs": []
    },
    {
      "cell_type": "code",
      "source": [
        "df.INVAGE = df.INVAGE.replace(['unknown'], 'Unknown') #All of the unknowns in this dataset are upper case except the ones in this collumn so it was bugging me.\n",
        "\n",
        "#df = df.drop(columns = ['INVAGE'])"
      ],
      "metadata": {
        "id": "b2BhDBxalN7b"
      },
      "execution_count": 43,
      "outputs": []
    },
    {
      "cell_type": "code",
      "source": [
        "df.INVTYPE.fillna('Unknown', inplace=True)\n",
        "\n",
        "#Removing rows where they weren't hit, as they obviously wouldn't ever have any injuries.\n",
        "\n",
        "rows = df.INVTYPE.unique()\n",
        "\n",
        "#['Cyclist', 'Cyclist Passenger', 'Motorcycle Passenger', 'Passenger','In-Line Skater', 'Trailer Owner', 'Other Property Owner', 'Vehicle Owner', 'Other', 'Wheelchair', 'Pedestrian', 'Unknown', 'Witness', 'Pedestrian - Not Hit', 'Driver - Not Hit']\n",
        "\n",
        "#Remove rows I don't like\n",
        "for row in rows:\n",
        "  if 'Driver' not in row or 'Not Hit' in row:\n",
        "    df = df[(df.INVTYPE != row)] \n",
        "\n",
        "#Replacing not necesarry.\n",
        "#df.INVTYPE = df.INVTYPE.replace(['Motorcycle Driver', 'Moped Driver', 'Truck Driver'], 'Driver')\n",
        "\n",
        "#Dropping the column now that I've filtered rows.\n",
        "df = df.drop(columns = ['INVTYPE'])"
      ],
      "metadata": {
        "id": "reqFAlI4oX5R"
      },
      "execution_count": 44,
      "outputs": []
    }
  ]
}