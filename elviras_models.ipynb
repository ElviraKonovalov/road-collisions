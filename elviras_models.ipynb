{
  "nbformat": 4,
  "nbformat_minor": 0,
  "metadata": {
    "colab": {
      "name": "elviras_models.ipynb",
      "provenance": [],
      "authorship_tag": "ABX9TyNKD7KU+dR3A3Mh6LKnmAtI",
      "include_colab_link": true
    },
    "kernelspec": {
      "name": "python3",
      "display_name": "Python 3"
    },
    "language_info": {
      "name": "python"
    }
  },
  "cells": [
    {
      "cell_type": "markdown",
      "metadata": {
        "id": "view-in-github",
        "colab_type": "text"
      },
      "source": [
        "<a href=\"https://colab.research.google.com/github/ElviraKonovalov/soen471-bigData/blob/main/elviras_models.ipynb\" target=\"_parent\"><img src=\"https://colab.research.google.com/assets/colab-badge.svg\" alt=\"Open In Colab\"/></a>"
      ]
    },
    {
      "cell_type": "code",
      "execution_count": 188,
      "metadata": {
        "id": "E5oQGS6ggwkH"
      },
      "outputs": [],
      "source": [
        "import pandas as pd\n",
        "import matplotlib.pyplot as plt\n",
        "import numpy as np\n",
        "import time\n",
        "\n",
        "from sklearn.model_selection import train_test_split\n",
        "from sklearn.ensemble import RandomForestClassifier\n",
        "from sklearn.neural_network import MLPClassifier\n",
        "from sklearn.preprocessing import StandardScaler\n",
        "from sklearn.inspection import permutation_importance\n",
        "from sklearn.model_selection import GridSearchCV\n",
        "from sklearn.metrics import plot_confusion_matrix\n",
        "from sklearn.metrics import accuracy_score\n",
        "from sklearn.metrics import precision_score\n",
        "from sklearn.metrics import recall_score\n",
        "from sklearn.metrics import f1_score"
      ]
    },
    {
      "cell_type": "code",
      "source": [
        "# file = 'data/clean_data_hot-one.csv'\n",
        "file = 'clean_data_hot-one.csv'\n",
        "df=  pd.read_csv(file, sep=',');"
      ],
      "metadata": {
        "id": "pdgkC0drgzyK"
      },
      "execution_count": 181,
      "outputs": []
    },
    {
      "cell_type": "code",
      "source": [
        "#extract labels\n",
        "y = df['INJURY']\n",
        "# replace nan values with most frequent value in the column\n",
        "y = y.fillna(y.value_counts().index[0])\n",
        "y = y.astype('category').cat.codes\n",
        "df = df.drop(columns='INJURY')"
      ],
      "metadata": {
        "id": "tr4xk4cpg3Cq"
      },
      "execution_count": 182,
      "outputs": []
    },
    {
      "cell_type": "code",
      "source": [
        "# extract features\n",
        "X = df\n",
        "X = X.drop(columns='Unnamed: 0')"
      ],
      "metadata": {
        "id": "5WyEGpuqhEF6"
      },
      "execution_count": 183,
      "outputs": []
    },
    {
      "cell_type": "code",
      "source": [
        "X['INVAGE'] = X['INVAGE'].astype('category').cat.codes\n",
        "X['INVAGE'] = X['INVAGE'].replace([18], X['INVAGE'].mean()).round(0).astype(int)\n",
        "X['INVAGE'] = X['INVAGE'].round().astype(int)\n",
        "X.rename(columns = {'INVAGE':'DRIVER_AGE'}, inplace = True)"
      ],
      "metadata": {
        "id": "u6QF5SkDhFjL"
      },
      "execution_count": 184,
      "outputs": []
    },
    {
      "cell_type": "code",
      "source": [
        "X['LOCCOORD'] =  X['LOCCOORD'].fillna(X['LOCCOORD'].value_counts().index[0])\n",
        "X['LOCCOORD'] = X['LOCCOORD'].astype('category').cat.codes"
      ],
      "metadata": {
        "id": "Rn5TFt60hHUc"
      },
      "execution_count": 185,
      "outputs": []
    },
    {
      "cell_type": "code",
      "source": [
        "X['MANOEUVER'] = X['MANOEUVER'].astype('category').cat.codes"
      ],
      "metadata": {
        "id": "LngwIafZhI7M"
      },
      "execution_count": 186,
      "outputs": []
    },
    {
      "cell_type": "code",
      "source": [
        "# split training and testing sets into 60% and 40%\n",
        "X_train, X_test, y_train, y_test = train_test_split(X, y, test_size=0.4, random_state=0)"
      ],
      "metadata": {
        "id": "DiakxPGChKXL"
      },
      "execution_count": 187,
      "outputs": []
    },
    {
      "cell_type": "code",
      "source": [
        "feature_names = list(X.columns) # get feature names"
      ],
      "metadata": {
        "id": "Yxos6FVnh1v2"
      },
      "execution_count": 137,
      "outputs": []
    },
    {
      "cell_type": "code",
      "source": [
        "# feature_names = [f\"{feature}\" for feature in features]"
      ],
      "metadata": {
        "id": "2D-pBTGXhMP7"
      },
      "execution_count": 173,
      "outputs": []
    },
    {
      "cell_type": "markdown",
      "source": [
        "# Random Forests"
      ],
      "metadata": {
        "id": "6MmO5LkP8qZ2"
      }
    },
    {
      "cell_type": "code",
      "source": [
        "# find best parameters for a random forest and train using best found estimator\n",
        "param_grid = {\n",
        "    'n_estimators': [100, 500, 1000],\n",
        "    'criterion': ['gini', 'entropy'],\n",
        "    'min_samples_split': [2, 4, 5, 10, 13],\n",
        "    'min_samples_leaf': [1, 2, 5, 8, 13]\n",
        "}\n",
        "\n",
        "forest = GridSearchCV(RandomForestClassifier(random_state=0), param_grid)\n",
        "forest.fit(X_train, y_train)"
      ],
      "metadata": {
        "colab": {
          "base_uri": "https://localhost:8080/"
        },
        "id": "2Mq4Dp90s9n4",
        "outputId": "b96a66ef-2b92-473a-ed75-a8419f4b2b84"
      },
      "execution_count": 146,
      "outputs": [
        {
          "output_type": "execute_result",
          "data": {
            "text/plain": [
              "GridSearchCV(estimator=RandomForestClassifier(random_state=0),\n",
              "             param_grid={'criterion': ['gini', 'entropy'],\n",
              "                         'min_samples_leaf': [1, 2, 5, 8, 13],\n",
              "                         'min_samples_split': [2, 4, 5, 10, 13],\n",
              "                         'n_estimators': [100, 500, 1000]})"
            ]
          },
          "metadata": {},
          "execution_count": 146
        }
      ]
    },
    {
      "cell_type": "code",
      "source": [
        "forest.best_estimator_ # params of best estimator"
      ],
      "metadata": {
        "colab": {
          "base_uri": "https://localhost:8080/"
        },
        "id": "eITbVW712aiW",
        "outputId": "a217f1e8-2bd9-40ae-9c51-b9e2faf4c3ca"
      },
      "execution_count": 149,
      "outputs": [
        {
          "output_type": "execute_result",
          "data": {
            "text/plain": [
              "RandomForestClassifier(min_samples_leaf=8, n_estimators=1000, random_state=0)"
            ]
          },
          "metadata": {},
          "execution_count": 149
        }
      ]
    },
    {
      "cell_type": "markdown",
      "source": [
        "## Feature importances with a forest of trees\n",
        "### Feature importance based on mean decrease in impurity"
      ],
      "metadata": {
        "id": "D-cyApLy8XHO"
      }
    },
    {
      "cell_type": "code",
      "source": [
        "start_time = time.time()\n",
        "importances = forest.best_estimator_.feature_importances_\n",
        "std = np.std([tree.feature_importances_ for tree in forest.best_estimator_.estimators_], axis=0)\n",
        "elapsed_time = time.time() - start_time\n",
        "\n",
        "print(f\"Elapsed time to compute the importances: {elapsed_time:.3f} seconds\")"
      ],
      "metadata": {
        "colab": {
          "base_uri": "https://localhost:8080/"
        },
        "id": "EslhAwYNhfXR",
        "outputId": "abe15ef3-310a-416f-8e3c-43ce69b66b04"
      },
      "execution_count": 150,
      "outputs": [
        {
          "output_type": "stream",
          "name": "stdout",
          "text": [
            "Elapsed time to compute the importances: 0.114 seconds\n"
          ]
        }
      ]
    },
    {
      "cell_type": "code",
      "source": [
        "forest_importances = pd.Series(importances, index=feature_names)\n",
        "\n",
        "fig, ax = plt.subplots()\n",
        "forest_importances.plot.bar(yerr=std, ax=ax)\n",
        "ax.set_title(\"Feature importances using MDI\")\n",
        "ax.set_ylabel(\"Mean decrease in impurity\")\n",
        "fig.tight_layout()"
      ],
      "metadata": {
        "colab": {
          "base_uri": "https://localhost:8080/",
          "height": 297
        },
        "id": "ewbDpCYchSFt",
        "outputId": "6fbf0b71-d338-4800-96f4-7d54ada9c814"
      },
      "execution_count": 151,
      "outputs": [
        {
          "output_type": "display_data",
          "data": {
            "text/plain": [
              "<Figure size 432x288 with 1 Axes>"
            ],
            "image/png": "[encoded data removed]"
          },
          "metadata": {
            "needs_background": "light"
          }
        }
      ]
    },
    {
      "cell_type": "markdown",
      "source": [
        "###  Feature importance based on feature permutation"
      ],
      "metadata": {
        "id": "wG0doCjB8cyj"
      }
    },
    {
      "cell_type": "code",
      "source": [
        "start_time = time.time()\n",
        "result = permutation_importance(forest.best_estimator_, X_test, y_test, n_repeats=10, random_state=42, n_jobs=2)\n",
        "elapsed_time = time.time() - start_time\n",
        "print(f\"Elapsed time to compute the importances: {elapsed_time:.3f} seconds\")\n",
        "\n",
        "forest_importances = pd.Series(result.importances_mean, index=feature_names)"
      ],
      "metadata": {
        "colab": {
          "base_uri": "https://localhost:8080/"
        },
        "id": "xp8hBSGfosKJ",
        "outputId": "70bd9a4f-0c80-427e-a46b-44938a633f59"
      },
      "execution_count": 152,
      "outputs": [
        {
          "output_type": "stream",
          "name": "stdout",
          "text": [
            "Elapsed time to compute the importances: 99.603 seconds\n"
          ]
        }
      ]
    },
    {
      "cell_type": "code",
      "source": [
        "fig, ax = plt.subplots()\n",
        "forest_importances.plot.bar(yerr=result.importances_std, ax=ax)\n",
        "ax.set_title(\"Feature importances using permutation on full model\")\n",
        "ax.set_ylabel(\"Mean accuracy decrease\")\n",
        "fig.tight_layout()\n",
        "plt.show()"
      ],
      "metadata": {
        "colab": {
          "base_uri": "https://localhost:8080/",
          "height": 297
        },
        "id": "umiMGuz1plW-",
        "outputId": "4448c67f-c2b9-4ccd-ad0d-edc24a919fa5"
      },
      "execution_count": 153,
      "outputs": [
        {
          "output_type": "display_data",
          "data": {
            "text/plain": [
              "<Figure size 432x288 with 1 Axes>"
            ],
            "image/png": "[encoded data removed]"
          },
          "metadata": {
            "needs_background": "light"
          }
        }
      ]
    },
    {
      "cell_type": "markdown",
      "source": [
        "## Model evaluation"
      ],
      "metadata": {
        "id": "Twt2QmTG8gx4"
      }
    },
    {
      "cell_type": "code",
      "source": [
        "y_pred = forest.best_estimator_.predict(X_test)\n",
        "plot_confusion_matrix(forest.best_estimator_, y, y_test)  \n",
        "plt.show();"
      ],
      "metadata": {
        "colab": {
          "base_uri": "https://localhost:8080/",
          "height": 333
        },
        "id": "LpXt_pB-psh-",
        "outputId": "dea0d092-6016-4883-bd69-e603f0ee5567"
      },
      "execution_count": 158,
      "outputs": [
        {
          "output_type": "stream",
          "name": "stderr",
          "text": [
            "/usr/local/lib/python3.7/dist-packages/sklearn/utils/deprecation.py:87: FutureWarning: Function plot_confusion_matrix is deprecated; Function `plot_confusion_matrix` is deprecated in 1.0 and will be removed in 1.2. Use one of the class methods: ConfusionMatrixDisplay.from_predictions or ConfusionMatrixDisplay.from_estimator.\n",
            "  warnings.warn(msg, category=FutureWarning)\n"
          ]
        },
        {
          "output_type": "display_data",
          "data": {
            "text/plain": [
              "<Figure size 432x288 with 2 Axes>"
            ],
            "image/png": "[encoded data removed]"
          },
          "metadata": {
            "needs_background": "light"
          }
        }
      ]
    },
    {
      "cell_type": "code",
      "source": [
        "# evaluate model\n",
        "import warnings\n",
        "warnings.filterwarnings('ignore')\n",
        "accuracy = round(accuracy_score(y_test, y_pred)*100,2)\n",
        "precision = round(precision_score(y_test, y_pred, average='weighted')*100,2)\n",
        "recall = round(recall_score(y_test, y_pred, average='weighted')*100,2)\n",
        "f1 = round(f1_score(y_test, y_pred, average='weighted')*100,2)\n",
        "\n",
        "print(\"{0:40} {1:10} {2:10} {3:10} {4:}\".format(\"--------------------------------------\", \"---------\", \"---------\", \"---------\", \"---------\"))\n",
        "print(\"{0:40} {1:10} {2:10} {3:10} {4:}\".format(\"DATASET\", \"ACCURACY\", \"PRECISION\", \"RECALL\", \"F1\"))\n",
        "print(\"{0:40} {1:10} {2:10} {3:10} {4:}\".format(\"--------------------------------------\", \"---------\", \"---------\", \"---------\", \"---------\"))\n",
        "print(\"{0:40} {1:} {2:10} {3:10} {4:10}\".format(\"road collisions\", accuracy, precision, recall, f1))"
      ],
      "metadata": {
        "colab": {
          "base_uri": "https://localhost:8080/"
        },
        "id": "b10HdBNcrjL_",
        "outputId": "d03a208c-e352-4392-dd35-1eacdb1380eb"
      },
      "execution_count": 172,
      "outputs": [
        {
          "output_type": "stream",
          "name": "stdout",
          "text": [
            "--------------------------------------   ---------  ---------  ---------  ---------\n",
            "DATASET                                  ACCURACY   PRECISION  RECALL     F1\n",
            "--------------------------------------   ---------  ---------  ---------  ---------\n",
            "road collisions                          68.51      62.93      68.51       62.5\n"
          ]
        }
      ]
    },
    {
      "cell_type": "markdown",
      "source": [
        "# Neural network"
      ],
      "metadata": {
        "id": "ZCqe6E56Fx33"
      }
    },
    {
      "cell_type": "code",
      "source": [
        "# scale features\n",
        "scaler = StandardScaler().fit(X_train)\n",
        "X_train = scaler.transform(X_train)\n",
        "X_test = scaler.transform(X_test)\n",
        "\n",
        "mlp = MLPClassifier(random_state=0, max_iter=1000, activation='tanh', hidden_layer_sizes=(50, 100, 50), solver='adam').fit(X_train, y_train)\n",
        "\n",
        "y_pred = mlp.predict(X_test)"
      ],
      "metadata": {
        "id": "H2CNd3jQFxfb"
      },
      "execution_count": 199,
      "outputs": []
    },
    {
      "cell_type": "code",
      "source": [
        "plot_confusion_matrix(mlp, X_test, y_test)  \n",
        "plt.show();"
      ],
      "metadata": {
        "colab": {
          "base_uri": "https://localhost:8080/",
          "height": 279
        },
        "id": "finEPpXhFxBm",
        "outputId": "12e44558-03fb-46f6-8608-618b600dc7a9"
      },
      "execution_count": 200,
      "outputs": [
        {
          "output_type": "display_data",
          "data": {
            "text/plain": [
              "<Figure size 432x288 with 2 Axes>"
            ],
            "image/png": "[encoded data removed]"
          },
          "metadata": {
            "needs_background": "light"
          }
        }
      ]
    },
    {
      "cell_type": "code",
      "source": [
        "# evaluate model\n",
        "import warnings\n",
        "warnings.filterwarnings('ignore')\n",
        "accuracy = round(accuracy_score(y_test, y_pred)*100,2)\n",
        "precision = round(precision_score(y_test, y_pred, average='weighted')*100,2)\n",
        "recall = round(recall_score(y_test, y_pred, average='weighted')*100,2)\n",
        "f1 = round(f1_score(y_test, y_pred, average='weighted')*100,2)\n",
        "\n",
        "print(\"{0:40} {1:10} {2:10} {3:10} {4:}\".format(\"--------------------------------------\", \"---------\", \"---------\", \"---------\", \"---------\"))\n",
        "print(\"{0:40} {1:10} {2:10} {3:10} {4:}\".format(\"DATASET\", \"ACCURACY\", \"PRECISION\", \"RECALL\", \"F1\"))\n",
        "print(\"{0:40} {1:10} {2:10} {3:10} {4:}\".format(\"--------------------------------------\", \"---------\", \"---------\", \"---------\", \"---------\"))\n",
        "print(\"{0:40} {1:} {2:10} {3:10} {4:10}\".format(\"road collisions\", accuracy, precision, recall, f1))"
      ],
      "metadata": {
        "colab": {
          "base_uri": "https://localhost:8080/"
        },
        "id": "xXLJ1Mc6GkbZ",
        "outputId": "b4eb31c2-a9e9-4091-872a-600f518a3be3"
      },
      "execution_count": 201,
      "outputs": [
        {
          "output_type": "stream",
          "name": "stdout",
          "text": [
            "--------------------------------------   ---------  ---------  ---------  ---------\n",
            "DATASET                                  ACCURACY   PRECISION  RECALL     F1\n",
            "--------------------------------------   ---------  ---------  ---------  ---------\n",
            "road collisions                          100.0      100.0      100.0      100.0\n"
          ]
        }
      ]
    },
    {
      "cell_type": "code",
      "source": [
        ""
      ],
      "metadata": {
        "id": "1oyQYRIxGq6b"
      },
      "execution_count": null,
      "outputs": []
    }
  ]
}