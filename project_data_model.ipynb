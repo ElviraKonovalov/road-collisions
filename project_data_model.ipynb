{
  "nbformat": 4,
  "nbformat_minor": 0,
  "metadata": {
    "colab": {
      "name": "project_data_model.ipynb",
      "provenance": [],
      "authorship_tag": "ABX9TyMM6DfptxjrFz1xS61yLE0t",
      "include_colab_link": true
    },
    "kernelspec": {
      "name": "python3",
      "display_name": "Python 3"
    },
    "language_info": {
      "name": "python"
    }
  },
  "cells": [
    {
      "cell_type": "markdown",
      "metadata": {
        "id": "view-in-github",
        "colab_type": "text"
      },
      "source": [
        "<a href=\"https://colab.research.google.com/github/ElviraKonovalov/soen471-bigData/blob/main/project_data_model.ipynb\" target=\"_parent\"><img src=\"https://colab.research.google.com/assets/colab-badge.svg\" alt=\"Open In Colab\"/></a>"
      ]
    },
    {
      "cell_type": "markdown",
      "source": [
        "# **Insight into the nature of road collisions**\n",
        "\n",
        "---\n",
        "\n",
        "\n",
        "## Imports"
      ],
      "metadata": {
        "id": "RB9K1a-rd9eq"
      }
    },
    {
      "cell_type": "code",
      "source": [
        "import pandas as pd\n",
        "import matplotlib.pyplot as plt\n",
        "import numpy as np\n",
        "import time\n",
        "import warnings\n",
        "warnings.filterwarnings('ignore')\n",
        "\n",
        "from sklearn.model_selection import train_test_split\n",
        "from sklearn.ensemble import RandomForestClassifier\n",
        "from sklearn.neural_network import MLPClassifier\n",
        "from sklearn.preprocessing import StandardScaler\n",
        "from sklearn.inspection import permutation_importance\n",
        "from sklearn.model_selection import GridSearchCV\n",
        "from sklearn.metrics import plot_confusion_matrix\n",
        "from sklearn.metrics import accuracy_score\n",
        "from sklearn.metrics import precision_score\n",
        "from sklearn.metrics import recall_score\n",
        "from sklearn.metrics import f1_score"
      ],
      "metadata": {
        "id": "rwhhkv9Ad9oe"
      },
      "execution_count": 57,
      "outputs": []
    },
    {
      "cell_type": "markdown",
      "source": [
        "# Inital Dataset Study\n",
        "\n",
        "---\n",
        "\n",
        "\n",
        "The original dataset consists of 16,860 observations of motor vehicle collisions from 2006 to 2020 and is composed of 54 numerical and categorical features."
      ],
      "metadata": {
        "id": "rE5gTDkSeIc4"
      }
    },
    {
      "cell_type": "code",
      "source": [
        "file = 'Motor Vehicle Collisions with KSI Data.csv'\n",
        "df=  pd.read_csv(file, sep=',');"
      ],
      "metadata": {
        "id": "f9fH_hJfd-Sw"
      },
      "execution_count": 58,
      "outputs": []
    },
    {
      "cell_type": "code",
      "source": [
        "df"
      ],
      "metadata": {
        "colab": {
          "base_uri": "https://localhost:8080/",
          "height": 1000
        },
        "id": "VX-n3yh2eW3g",
        "outputId": "047b191a-6982-45cc-f099-da39b50cfd1b"
      },
      "execution_count": 40,
      "outputs": [
        {
          "output_type": "execute_result",
          "data": {
            "text/plain": [
              "                ACCLASS            ACCLOC   ACCNUM AG_DRIV ALCOHOL AUTOMOBILE  \\\n",
              "0                 Fatal   At Intersection   892658     Yes     NaN        Yes   \n",
              "1                 Fatal   At Intersection   892658     Yes     NaN        Yes   \n",
              "2                 Fatal   At Intersection   892810     Yes     NaN        Yes   \n",
              "3                 Fatal   At Intersection   892810     Yes     NaN        Yes   \n",
              "4                 Fatal               NaN   892682     NaN     Yes        Yes   \n",
              "...                 ...               ...      ...     ...     ...        ...   \n",
              "16855  Non-Fatal Injury  Non Intersection  1636966     Yes     NaN        Yes   \n",
              "16856  Non-Fatal Injury   At Intersection  1650701     Yes     NaN        Yes   \n",
              "16857  Non-Fatal Injury   At Intersection  1650701     Yes     NaN        Yes   \n",
              "16858  Non-Fatal Injury   At Intersection  1650701     Yes     NaN        Yes   \n",
              "16859  Non-Fatal Injury  Non Intersection  1650875     NaN     NaN        Yes   \n",
              "\n",
              "                 CYCACT CYCCOND CYCLIST CYCLISTYPE  ...  TIME        TRAFFCTL  \\\n",
              "0                   NaN     NaN     NaN        NaN  ...   852  Traffic Signal   \n",
              "1                   NaN     NaN     NaN        NaN  ...   852  Traffic Signal   \n",
              "2                   NaN     NaN     NaN        NaN  ...   915  Traffic Signal   \n",
              "3                   NaN     NaN     NaN        NaN  ...   915  Traffic Signal   \n",
              "4                   NaN     NaN     NaN        NaN  ...   240      No Control   \n",
              "...                 ...     ...     ...        ...  ...   ...             ...   \n",
              "16855  Driving Properly  Normal     Yes        NaN  ...  1340      No Control   \n",
              "16856               NaN     NaN     NaN        NaN  ...  1205  Traffic Signal   \n",
              "16857               NaN     NaN     NaN        NaN  ...  1205  Traffic Signal   \n",
              "16858               NaN     NaN     NaN        NaN  ...  1205  Traffic Signal   \n",
              "16859               NaN     NaN     Yes        NaN  ...  1238      No Control   \n",
              "\n",
              "      TRSN_CITY_VEH TRUCK                    VEHTYPE VISIBILITY WARDNUM  YEAR  \\\n",
              "0               NaN   NaN  Automobile, Station Wagon      Clear       4  2006   \n",
              "1               NaN   NaN                      Other      Clear       4  2006   \n",
              "2               NaN   NaN                 Motorcycle      Clear      25  2006   \n",
              "3               NaN   NaN  Automobile, Station Wagon      Clear      25  2006   \n",
              "4               NaN   NaN  Automobile, Station Wagon      Clear   21,20  2006   \n",
              "...             ...   ...                        ...        ...     ...   ...   \n",
              "16855           NaN   NaN                    Bicycle      Clear     NaN  2020   \n",
              "16856           NaN   NaN  Automobile, Station Wagon      Clear   21,20  2020   \n",
              "16857           NaN   NaN  Automobile, Station Wagon      Clear   21,20  2020   \n",
              "16858           NaN   NaN                        NaN      Clear   21,20  2020   \n",
              "16859           NaN   NaN  Automobile, Station Wagon      Clear     NaN  2020   \n",
              "\n",
              "         _id                                           geometry  \n",
              "0          1  {'type': 'Point', 'coordinates': (-79.45249, 4...  \n",
              "1          2  {'type': 'Point', 'coordinates': (-79.45249, 4...  \n",
              "2          3  {'type': 'Point', 'coordinates': (-79.199786, ...  \n",
              "3          4  {'type': 'Point', 'coordinates': (-79.199786, ...  \n",
              "4          5  {'type': 'Point', 'coordinates': (-79.25619, 4...  \n",
              "...      ...                                                ...  \n",
              "16855  16856  {'type': 'Point', 'coordinates': (-79.238926, ...  \n",
              "16856  16857  {'type': 'Point', 'coordinates': (-79.232021, ...  \n",
              "16857  16858  {'type': 'Point', 'coordinates': (-79.232021, ...  \n",
              "16858  16859  {'type': 'Point', 'coordinates': (-79.232021, ...  \n",
              "16859  16860  {'type': 'Point', 'coordinates': (-79.434086, ...  \n",
              "\n",
              "[16860 rows x 54 columns]"
            ],
            "text/html": [
              "\n",
              "  <div id=\"df-80fe83cb-eda1-4e3b-9386-dd16cb87725a\">\n",
              "    <div class=\"colab-df-container\">\n",
              "      <div>\n",
              "<style scoped>\n",
              "    .dataframe tbody tr th:only-of-type {\n",
              "        vertical-align: middle;\n",
              "    }\n",
              "\n",
              "    .dataframe tbody tr th {\n",
              "        vertical-align: top;\n",
              "    }\n",
              "\n",
              "    .dataframe thead th {\n",
              "        text-align: right;\n",
              "    }\n",
              "</style>\n",
              "<table border=\"1\" class=\"dataframe\">\n",
              "  <thead>\n",
              "    <tr style=\"text-align: right;\">\n",
              "      <th></th>\n",
              "      <th>ACCLASS</th>\n",
              "      <th>ACCLOC</th>\n",
              "      <th>ACCNUM</th>\n",
              "      <th>AG_DRIV</th>\n",
              "      <th>ALCOHOL</th>\n",
              "      <th>AUTOMOBILE</th>\n",
              "      <th>CYCACT</th>\n",
              "      <th>CYCCOND</th>\n",
              "      <th>CYCLIST</th>\n",
              "      <th>CYCLISTYPE</th>\n",
              "      <th>...</th>\n",
              "      <th>TIME</th>\n",
              "      <th>TRAFFCTL</th>\n",
              "      <th>TRSN_CITY_VEH</th>\n",
              "      <th>TRUCK</th>\n",
              "      <th>VEHTYPE</th>\n",
              "      <th>VISIBILITY</th>\n",
              "      <th>WARDNUM</th>\n",
              "      <th>YEAR</th>\n",
              "      <th>_id</th>\n",
              "      <th>geometry</th>\n",
              "    </tr>\n",
              "  </thead>\n",
              "  <tbody>\n",
              "    <tr>\n",
              "      <th>0</th>\n",
              "      <td>Fatal</td>\n",
              "      <td>At Intersection</td>\n",
              "      <td>892658</td>\n",
              "      <td>Yes</td>\n",
              "      <td>NaN</td>\n",
              "      <td>Yes</td>\n",
              "      <td>NaN</td>\n",
              "      <td>NaN</td>\n",
              "      <td>NaN</td>\n",
              "      <td>NaN</td>\n",
              "      <td>...</td>\n",
              "      <td>852</td>\n",
              "      <td>Traffic Signal</td>\n",
              "      <td>NaN</td>\n",
              "      <td>NaN</td>\n",
              "      <td>Automobile, Station Wagon</td>\n",
              "      <td>Clear</td>\n",
              "      <td>4</td>\n",
              "      <td>2006</td>\n",
              "      <td>1</td>\n",
              "      <td>{'type': 'Point', 'coordinates': (-79.45249, 4...</td>\n",
              "    </tr>\n",
              "    <tr>\n",
              "      <th>1</th>\n",
              "      <td>Fatal</td>\n",
              "      <td>At Intersection</td>\n",
              "      <td>892658</td>\n",
              "      <td>Yes</td>\n",
              "      <td>NaN</td>\n",
              "      <td>Yes</td>\n",
              "      <td>NaN</td>\n",
              "      <td>NaN</td>\n",
              "      <td>NaN</td>\n",
              "      <td>NaN</td>\n",
              "      <td>...</td>\n",
              "      <td>852</td>\n",
              "      <td>Traffic Signal</td>\n",
              "      <td>NaN</td>\n",
              "      <td>NaN</td>\n",
              "      <td>Other</td>\n",
              "      <td>Clear</td>\n",
              "      <td>4</td>\n",
              "      <td>2006</td>\n",
              "      <td>2</td>\n",
              "      <td>{'type': 'Point', 'coordinates': (-79.45249, 4...</td>\n",
              "    </tr>\n",
              "    <tr>\n",
              "      <th>2</th>\n",
              "      <td>Fatal</td>\n",
              "      <td>At Intersection</td>\n",
              "      <td>892810</td>\n",
              "      <td>Yes</td>\n",
              "      <td>NaN</td>\n",
              "      <td>Yes</td>\n",
              "      <td>NaN</td>\n",
              "      <td>NaN</td>\n",
              "      <td>NaN</td>\n",
              "      <td>NaN</td>\n",
              "      <td>...</td>\n",
              "      <td>915</td>\n",
              "      <td>Traffic Signal</td>\n",
              "      <td>NaN</td>\n",
              "      <td>NaN</td>\n",
              "      <td>Motorcycle</td>\n",
              "      <td>Clear</td>\n",
              "      <td>25</td>\n",
              "      <td>2006</td>\n",
              "      <td>3</td>\n",
              "      <td>{'type': 'Point', 'coordinates': (-79.199786, ...</td>\n",
              "    </tr>\n",
              "    <tr>\n",
              "      <th>3</th>\n",
              "      <td>Fatal</td>\n",
              "      <td>At Intersection</td>\n",
              "      <td>892810</td>\n",
              "      <td>Yes</td>\n",
              "      <td>NaN</td>\n",
              "      <td>Yes</td>\n",
              "      <td>NaN</td>\n",
              "      <td>NaN</td>\n",
              "      <td>NaN</td>\n",
              "      <td>NaN</td>\n",
              "      <td>...</td>\n",
              "      <td>915</td>\n",
              "      <td>Traffic Signal</td>\n",
              "      <td>NaN</td>\n",
              "      <td>NaN</td>\n",
              "      <td>Automobile, Station Wagon</td>\n",
              "      <td>Clear</td>\n",
              "      <td>25</td>\n",
              "      <td>2006</td>\n",
              "      <td>4</td>\n",
              "      <td>{'type': 'Point', 'coordinates': (-79.199786, ...</td>\n",
              "    </tr>\n",
              "    <tr>\n",
              "      <th>4</th>\n",
              "      <td>Fatal</td>\n",
              "      <td>NaN</td>\n",
              "      <td>892682</td>\n",
              "      <td>NaN</td>\n",
              "      <td>Yes</td>\n",
              "      <td>Yes</td>\n",
              "      <td>NaN</td>\n",
              "      <td>NaN</td>\n",
              "      <td>NaN</td>\n",
              "      <td>NaN</td>\n",
              "      <td>...</td>\n",
              "      <td>240</td>\n",
              "      <td>No Control</td>\n",
              "      <td>NaN</td>\n",
              "      <td>NaN</td>\n",
              "      <td>Automobile, Station Wagon</td>\n",
              "      <td>Clear</td>\n",
              "      <td>21,20</td>\n",
              "      <td>2006</td>\n",
              "      <td>5</td>\n",
              "      <td>{'type': 'Point', 'coordinates': (-79.25619, 4...</td>\n",
              "    </tr>\n",
              "    <tr>\n",
              "      <th>...</th>\n",
              "      <td>...</td>\n",
              "      <td>...</td>\n",
              "      <td>...</td>\n",
              "      <td>...</td>\n",
              "      <td>...</td>\n",
              "      <td>...</td>\n",
              "      <td>...</td>\n",
              "      <td>...</td>\n",
              "      <td>...</td>\n",
              "      <td>...</td>\n",
              "      <td>...</td>\n",
              "      <td>...</td>\n",
              "      <td>...</td>\n",
              "      <td>...</td>\n",
              "      <td>...</td>\n",
              "      <td>...</td>\n",
              "      <td>...</td>\n",
              "      <td>...</td>\n",
              "      <td>...</td>\n",
              "      <td>...</td>\n",
              "      <td>...</td>\n",
              "    </tr>\n",
              "    <tr>\n",
              "      <th>16855</th>\n",
              "      <td>Non-Fatal Injury</td>\n",
              "      <td>Non Intersection</td>\n",
              "      <td>1636966</td>\n",
              "      <td>Yes</td>\n",
              "      <td>NaN</td>\n",
              "      <td>Yes</td>\n",
              "      <td>Driving Properly</td>\n",
              "      <td>Normal</td>\n",
              "      <td>Yes</td>\n",
              "      <td>NaN</td>\n",
              "      <td>...</td>\n",
              "      <td>1340</td>\n",
              "      <td>No Control</td>\n",
              "      <td>NaN</td>\n",
              "      <td>NaN</td>\n",
              "      <td>Bicycle</td>\n",
              "      <td>Clear</td>\n",
              "      <td>NaN</td>\n",
              "      <td>2020</td>\n",
              "      <td>16856</td>\n",
              "      <td>{'type': 'Point', 'coordinates': (-79.238926, ...</td>\n",
              "    </tr>\n",
              "    <tr>\n",
              "      <th>16856</th>\n",
              "      <td>Non-Fatal Injury</td>\n",
              "      <td>At Intersection</td>\n",
              "      <td>1650701</td>\n",
              "      <td>Yes</td>\n",
              "      <td>NaN</td>\n",
              "      <td>Yes</td>\n",
              "      <td>NaN</td>\n",
              "      <td>NaN</td>\n",
              "      <td>NaN</td>\n",
              "      <td>NaN</td>\n",
              "      <td>...</td>\n",
              "      <td>1205</td>\n",
              "      <td>Traffic Signal</td>\n",
              "      <td>NaN</td>\n",
              "      <td>NaN</td>\n",
              "      <td>Automobile, Station Wagon</td>\n",
              "      <td>Clear</td>\n",
              "      <td>21,20</td>\n",
              "      <td>2020</td>\n",
              "      <td>16857</td>\n",
              "      <td>{'type': 'Point', 'coordinates': (-79.232021, ...</td>\n",
              "    </tr>\n",
              "    <tr>\n",
              "      <th>16857</th>\n",
              "      <td>Non-Fatal Injury</td>\n",
              "      <td>At Intersection</td>\n",
              "      <td>1650701</td>\n",
              "      <td>Yes</td>\n",
              "      <td>NaN</td>\n",
              "      <td>Yes</td>\n",
              "      <td>NaN</td>\n",
              "      <td>NaN</td>\n",
              "      <td>NaN</td>\n",
              "      <td>NaN</td>\n",
              "      <td>...</td>\n",
              "      <td>1205</td>\n",
              "      <td>Traffic Signal</td>\n",
              "      <td>NaN</td>\n",
              "      <td>NaN</td>\n",
              "      <td>Automobile, Station Wagon</td>\n",
              "      <td>Clear</td>\n",
              "      <td>21,20</td>\n",
              "      <td>2020</td>\n",
              "      <td>16858</td>\n",
              "      <td>{'type': 'Point', 'coordinates': (-79.232021, ...</td>\n",
              "    </tr>\n",
              "    <tr>\n",
              "      <th>16858</th>\n",
              "      <td>Non-Fatal Injury</td>\n",
              "      <td>At Intersection</td>\n",
              "      <td>1650701</td>\n",
              "      <td>Yes</td>\n",
              "      <td>NaN</td>\n",
              "      <td>Yes</td>\n",
              "      <td>NaN</td>\n",
              "      <td>NaN</td>\n",
              "      <td>NaN</td>\n",
              "      <td>NaN</td>\n",
              "      <td>...</td>\n",
              "      <td>1205</td>\n",
              "      <td>Traffic Signal</td>\n",
              "      <td>NaN</td>\n",
              "      <td>NaN</td>\n",
              "      <td>NaN</td>\n",
              "      <td>Clear</td>\n",
              "      <td>21,20</td>\n",
              "      <td>2020</td>\n",
              "      <td>16859</td>\n",
              "      <td>{'type': 'Point', 'coordinates': (-79.232021, ...</td>\n",
              "    </tr>\n",
              "    <tr>\n",
              "      <th>16859</th>\n",
              "      <td>Non-Fatal Injury</td>\n",
              "      <td>Non Intersection</td>\n",
              "      <td>1650875</td>\n",
              "      <td>NaN</td>\n",
              "      <td>NaN</td>\n",
              "      <td>Yes</td>\n",
              "      <td>NaN</td>\n",
              "      <td>NaN</td>\n",
              "      <td>Yes</td>\n",
              "      <td>NaN</td>\n",
              "      <td>...</td>\n",
              "      <td>1238</td>\n",
              "      <td>No Control</td>\n",
              "      <td>NaN</td>\n",
              "      <td>NaN</td>\n",
              "      <td>Automobile, Station Wagon</td>\n",
              "      <td>Clear</td>\n",
              "      <td>NaN</td>\n",
              "      <td>2020</td>\n",
              "      <td>16860</td>\n",
              "      <td>{'type': 'Point', 'coordinates': (-79.434086, ...</td>\n",
              "    </tr>\n",
              "  </tbody>\n",
              "</table>\n",
              "<p>16860 rows × 54 columns</p>\n",
              "</div>\n",
              "      <button class=\"colab-df-convert\" onclick=\"convertToInteractive('df-80fe83cb-eda1-4e3b-9386-dd16cb87725a')\"\n",
              "              title=\"Convert this dataframe to an interactive table.\"\n",
              "              style=\"display:none;\">\n",
              "        \n",
              "  <svg xmlns=\"http://www.w3.org/2000/svg\" height=\"24px\"viewBox=\"0 0 24 24\"\n",
              "       width=\"24px\">\n",
              "    <path d=\"M0 0h24v24H0V0z\" fill=\"none\"/>\n",
              "    <path d=\"M18.56 5.44l.94 2.06.94-2.06 2.06-.94-2.06-.94-.94-2.06-.94 2.06-2.06.94zm-11 1L8.5 8.5l.94-2.06 2.06-.94-2.06-.94L8.5 2.5l-.94 2.06-2.06.94zm10 10l.94 2.06.94-2.06 2.06-.94-2.06-.94-.94-2.06-.94 2.06-2.06.94z\"/><path d=\"M17.41 7.96l-1.37-1.37c-.4-.4-.92-.59-1.43-.59-.52 0-1.04.2-1.43.59L10.3 9.45l-7.72 7.72c-.78.78-.78 2.05 0 2.83L4 21.41c.39.39.9.59 1.41.59.51 0 1.02-.2 1.41-.59l7.78-7.78 2.81-2.81c.8-.78.8-2.07 0-2.86zM5.41 20L4 18.59l7.72-7.72 1.47 1.35L5.41 20z\"/>\n",
              "  </svg>\n",
              "      </button>\n",
              "      \n",
              "  <style>\n",
              "    .colab-df-container {\n",
              "      display:flex;\n",
              "      flex-wrap:wrap;\n",
              "      gap: 12px;\n",
              "    }\n",
              "\n",
              "    .colab-df-convert {\n",
              "      background-color: #E8F0FE;\n",
              "      border: none;\n",
              "      border-radius: 50%;\n",
              "      cursor: pointer;\n",
              "      display: none;\n",
              "      fill: #1967D2;\n",
              "      height: 32px;\n",
              "      padding: 0 0 0 0;\n",
              "      width: 32px;\n",
              "    }\n",
              "\n",
              "    .colab-df-convert:hover {\n",
              "      background-color: #E2EBFA;\n",
              "      box-shadow: 0px 1px 2px rgba(60, 64, 67, 0.3), 0px 1px 3px 1px rgba(60, 64, 67, 0.15);\n",
              "      fill: #174EA6;\n",
              "    }\n",
              "\n",
              "    [theme=dark] .colab-df-convert {\n",
              "      background-color: #3B4455;\n",
              "      fill: #D2E3FC;\n",
              "    }\n",
              "\n",
              "    [theme=dark] .colab-df-convert:hover {\n",
              "      background-color: #434B5C;\n",
              "      box-shadow: 0px 1px 3px 1px rgba(0, 0, 0, 0.15);\n",
              "      filter: drop-shadow(0px 1px 2px rgba(0, 0, 0, 0.3));\n",
              "      fill: #FFFFFF;\n",
              "    }\n",
              "  </style>\n",
              "\n",
              "      <script>\n",
              "        const buttonEl =\n",
              "          document.querySelector('#df-80fe83cb-eda1-4e3b-9386-dd16cb87725a button.colab-df-convert');\n",
              "        buttonEl.style.display =\n",
              "          google.colab.kernel.accessAllowed ? 'block' : 'none';\n",
              "\n",
              "        async function convertToInteractive(key) {\n",
              "          const element = document.querySelector('#df-80fe83cb-eda1-4e3b-9386-dd16cb87725a');\n",
              "          const dataTable =\n",
              "            await google.colab.kernel.invokeFunction('convertToInteractive',\n",
              "                                                     [key], {});\n",
              "          if (!dataTable) return;\n",
              "\n",
              "          const docLinkHtml = 'Like what you see? Visit the ' +\n",
              "            '<a target=\"_blank\" href=https://colab.research.google.com/notebooks/data_table.ipynb>data table notebook</a>'\n",
              "            + ' to learn more about interactive tables.';\n",
              "          element.innerHTML = '';\n",
              "          dataTable['output_type'] = 'display_data';\n",
              "          await google.colab.output.renderOutput(dataTable, element);\n",
              "          const docLink = document.createElement('div');\n",
              "          docLink.innerHTML = docLinkHtml;\n",
              "          element.appendChild(docLink);\n",
              "        }\n",
              "      </script>\n",
              "    </div>\n",
              "  </div>\n",
              "  "
            ]
          },
          "metadata": {},
          "execution_count": 40
        }
      ]
    },
    {
      "cell_type": "markdown",
      "source": [
        "# Class Distribution\n",
        "The feature *'ACCLASS'* (accident class) is the dependent feature that will classify the outcome of the accident.<br>\n",
        "There are two types of accident outcomes: Fatal Accident or Non-Fatal Accident.\n"
      ],
      "metadata": {
        "id": "bZI9Oo8Le5hV"
      }
    },
    {
      "cell_type": "code",
      "source": [
        "df['ACCLASS'].value_counts()\n",
        "df['ACCLASS'] = df['ACCLASS'].replace(['Property Damage Only', 'Non-Fatal Injury'], 'Non-Fatal' )\n",
        "df['ACCLASS'].value_counts()"
      ],
      "metadata": {
        "colab": {
          "base_uri": "https://localhost:8080/"
        },
        "id": "ui5imXAXgJ8O",
        "outputId": "0f42a003-1f9b-48b8-8a7f-e9b3d9960818"
      },
      "execution_count": 41,
      "outputs": [
        {
          "output_type": "execute_result",
          "data": {
            "text/plain": [
              "Non-Fatal    14563\n",
              "Fatal         2297\n",
              "Name: ACCLASS, dtype: int64"
            ]
          },
          "metadata": {},
          "execution_count": 41
        }
      ]
    },
    {
      "cell_type": "code",
      "source": [
        "class_counts = df['ACCLASS'].value_counts()\n",
        "classes = class_counts.index.tolist()\n",
        "class_instance_count = class_counts.values\n",
        "plt.bar(classes,class_instance_count, color='orange')\n",
        "plt.title('Accident Class Distribution')\n",
        "plt.xlabel('Accident Outcome')\n",
        "plt.ylabel('Number of Instances');"
      ],
      "metadata": {
        "colab": {
          "base_uri": "https://localhost:8080/",
          "height": 295
        },
        "id": "gT0RQhD9ffvK",
        "outputId": "23c66b0e-543b-4230-8323-71b47373a15b"
      },
      "execution_count": 42,
      "outputs": [
        {
          "output_type": "display_data",
          "data": {
            "text/plain": [
              "<Figure size 432x288 with 1 Axes>"
            ],
            "image/png": "[encoded data removed]"
          },
          "metadata": {
            "needs_background": "light"
          }
        }
      ]
    },
    {
      "cell_type": "markdown",
      "source": [
        "# **Data Preparation**\n",
        "Data is prepared to be applied to the models.\n",
        "\n",
        "\n",
        "\n",
        "\n",
        "---\n",
        "\n",
        "\n",
        "\n",
        "\n",
        "\n"
      ],
      "metadata": {
        "id": "Mp_m2h0JerWy"
      }
    },
    {
      "cell_type": "markdown",
      "source": [
        "## Feature Selection\n",
        "From the original 54 features, irrelevant and redundant variables were dropped, and new features were constructed.<br>\n",
        "The following 27 features were chosen to be used in this study:\n",
        "- **'AG_DRIV':** Aggressive and Distracted Driving Collision\n",
        "- **'ALCOHOL':** Alcohol Related Collision\n",
        "- **'AUTOMOBILE':** Driver Involved in Collision\n",
        "- **'CYCLIST':** Cyclists Involved in Collision\n",
        "- **'MONTH':** Month Collision Occurred\n",
        "- **'DISABILITY':** Medical or Physical Disability Related Collision\n",
        "- **'EMERG_VEH':** Emergency Vehicle Involved in Collision\n",
        "- **'HOOD_ID':** City of Toronto Neighbourhood Identifier\n",
        "- **'HOUR':** Hour Collision Occurred\n",
        "- **'INITDIR':** Initial Direction of Travel\n",
        "- **'INVAGE':** Age of Involved Party\n",
        "- **'LIGHT':** Light Condition\n",
        "- **'LOCCOORD':** Location Coordinate\n",
        "- **'MANOEUVER':** Vehicle Manouever\n",
        "- **'MOTORCYCLE':** Motorcyclist Involved in Collision\n",
        "- **'PASSENGER':** Passenger Involved in Collision\n",
        "- **'PEDESTRIAN':** Pedestrian Involved In Collision\n",
        "- **'RDSFCOND':** Road Surface Condition\n",
        "- **'REDLIGHT':** Red Light Related Collision\n",
        "- **'ROAD_CLASS':** Road Classification\n",
        "- **'SPEEDING':** Speeding Related Collision\n",
        "- **'TRAFFCTL':** Traffic Control Type\n",
        "- **'TRSN_CITY_VEH':** Transit or City Vehicle Involved in Collision\n",
        "- **'TRUCK':** Truck Driver Involved in Collision\n",
        "- **'VISIBILITY':** Environment Condition\n",
        "\n",
        "\n",
        "**NOTE!** <br>\n",
        "Experimentation with \"feature importances\" is done in the next section to potentially further reduce the number the features.\n"
      ],
      "metadata": {
        "id": "Iawg-fbfxCTJ"
      }
    },
    {
      "cell_type": "markdown",
      "source": [
        "### DROPPING COLUMNS\n",
        "We start by dropping the columns that we deem not pertinent for our model."
      ],
      "metadata": {
        "id": "8zoXtm1_QWU4"
      }
    },
    {
      "cell_type": "code",
      "source": [
        "columns_to_drop = ['_id', 'ACCNUM', 'TIME', 'OFFSET', 'WARDNUM', 'DIVISION', 'ACCLOC', 'FATAL_NO', 'PEDTYPE', 'PEDACT', 'PEDCOND', 'CYCLISTYPE', 'CYCACT', 'CYCCOND', 'POLICE_DIVISION', 'ObjectId', 'geometry','DISTRICT','DRIVACT','DRIVCOND','IMPACTYPE','INJURY','NEIGHBOURHOOD','STREET1', 'STREET2','VEHTYPE','YEAR']\n",
        "df = df.drop(columns=columns_to_drop)"
      ],
      "metadata": {
        "id": "uwaslwb_QCK9"
      },
      "execution_count": 43,
      "outputs": []
    },
    {
      "cell_type": "markdown",
      "source": [
        "### FILTERING\n",
        "Second, since we're only interested in the classification for the driver, we filter all the rows that did not have a driver as involved party. Then since our data only contains drivers, the INVTYPE feature is redudant and we drop it."
      ],
      "metadata": {
        "id": "FAuAK79xQqCx"
      }
    },
    {
      "cell_type": "code",
      "source": [
        "df.INVTYPE.fillna('Unknown', inplace=True)\n",
        "\n",
        "for row in df.INVTYPE.unique():\n",
        "  if 'Driver' not in row or 'Not Hit' in row:\n",
        "    df = df[(df.INVTYPE != row)]\n",
        "\n",
        "df.drop(columns=['INVTYPE'], inplace=True)"
      ],
      "metadata": {
        "id": "PiAUUW7nQwLn"
      },
      "execution_count": 44,
      "outputs": []
    },
    {
      "cell_type": "markdown",
      "source": [
        "### REPLACING BINARY VALUES\n",
        "\n",
        "The following features have been noted to have a binary value; either \"Yes\" or \"null\", therefore, for each we map the values to 1 and 0 respectively."
      ],
      "metadata": {
        "id": "6ZZp9pkcQw-M"
      }
    },
    {
      "cell_type": "code",
      "source": [
        "df.AG_DRIV.fillna(0, inplace=True)\n",
        "df.AG_DRIV.replace('Yes', 1, inplace=True)\n",
        "\n",
        "df.ALCOHOL.fillna(0, inplace=True)\n",
        "df.ALCOHOL.replace('Yes', 1, inplace=True)\n",
        "\n",
        "df.AUTOMOBILE.fillna(0, inplace=True)\n",
        "df.AUTOMOBILE.replace('Yes',1, inplace=True)\n",
        "\n",
        "df.CYCLIST.fillna(0, inplace=True)\n",
        "df.CYCLIST.replace('Yes',1, inplace=True)\n",
        "\n",
        "df.DISABILITY.fillna(0, inplace=True)\n",
        "df.DISABILITY.replace('Yes', 1, inplace=True)\n",
        "\n",
        "df.EMERG_VEH.fillna(0, inplace=True)\n",
        "df.EMERG_VEH.replace('Yes',1, inplace=True)\n",
        "\n",
        "df.PEDESTRIAN.fillna(0, inplace=True)\n",
        "df.PEDESTRIAN.replace('Yes',1, inplace=True)\n",
        "\n",
        "df.PASSENGER.fillna(0, inplace=True)\n",
        "df.PASSENGER.replace('Yes',1, inplace=True)\n",
        "\n",
        "df.MOTORCYCLE.fillna(0, inplace=True)\n",
        "df.MOTORCYCLE.replace('Yes',1, inplace=True)\n",
        "\n",
        "df.REDLIGHT.fillna(0, inplace=True)\n",
        "df.REDLIGHT.replace('Yes', 1, inplace=True)\n",
        "\n",
        "df.SPEEDING.fillna(0, inplace=True)\n",
        "df.SPEEDING.replace('Yes', 1, inplace=True)\n",
        "\n",
        "df.TRSN_CITY_VEH.fillna(0, inplace=True)\n",
        "df.TRSN_CITY_VEH.replace('Yes', 1, inplace=True)\n",
        "\n",
        "df.TRUCK.fillna(0, inplace=True)\n",
        "df.TRUCK.replace('Yes', 1, inplace=True)"
      ],
      "metadata": {
        "id": "PwnolOWkQ4cH"
      },
      "execution_count": 45,
      "outputs": []
    },
    {
      "cell_type": "markdown",
      "source": [
        "Similarly, ACCLASS, representing the class of the accident is reduced to only 2 values, we represent fatal ones by 1 and non-fatal ones by 0."
      ],
      "metadata": {
        "id": "o2Re5LDLQ5Mn"
      }
    },
    {
      "cell_type": "code",
      "source": [
        "df.ACCLASS.replace(['Fatal'], 1, inplace=True)\n",
        "df.ACCLASS.replace(['Non-Fatal Injury', 'Property Damage Only'], 0, inplace=True)"
      ],
      "metadata": {
        "id": "JZOWgeW0Q_fV"
      },
      "execution_count": 46,
      "outputs": []
    },
    {
      "cell_type": "markdown",
      "source": [
        "### RENAMING AND GROUPING\n",
        "We now group certain information together be renaming it to a common value.<br><br>\n",
        "We have decided that we didn't have to be too precise with the date, and that the month would suffice. Our assumption is that the occurence of accidents can be related to the holidays and the different weather conditions through the year."
      ],
      "metadata": {
        "id": "9L63e66YRAGb"
      }
    },
    {
      "cell_type": "code",
      "source": [
        "#first we will have to convert the data type to DateTime\n",
        "df['DATE'] = pd.to_datetime(df['DATE'])\n",
        "\n",
        "#now we will transform the data in the DATE column to simply present the month in integer form\n",
        "df['DATE'] = df['DATE'].dt.month"
      ],
      "metadata": {
        "id": "nqT7uw59RNPT"
      },
      "execution_count": 47,
      "outputs": []
    },
    {
      "cell_type": "markdown",
      "source": [
        "Next, Every street owned by the City of Toronto has been given one of five classifications (with the exception of public laneways): Local road, Collector road, Minor arterial road, Major arterical road and Expressway\n",
        "https://www.toronto.ca/services-payments/streets-parking-transportation/traffic-management/road-classification-system/about-the-road-classification-system/\n",
        "\n",
        "Therefore, to simplify our dataset, we renamed our values such that they fall into one the of the 5 classes. Additionally, to fill in null values we have selected the most frequent road class and we have droppend roads that were classed as \"Pending\" as they might fall into an outlier category of roads which don't fall exactly into one of the 5 classes."
      ],
      "metadata": {
        "id": "y1yoFsP7RNu6"
      }
    },
    {
      "cell_type": "code",
      "source": [
        "df['ROAD_CLASS'] = df['ROAD_CLASS'].fillna(df['ROAD_CLASS'].value_counts().index[0])\n",
        "# drop rows where ROAD_CLASS is pending\n",
        "df.drop(df.index[df['ROAD_CLASS'] == 'Pending'], inplace=True)\n",
        "# replacing Expressway Ramp (4 rows) with Expressway\n",
        "df['ROAD_CLASS'] = df['ROAD_CLASS'].replace(['Expressway Ramp'],'Expressway')\n",
        "# Major Arterial Ramp (1 row) with Major Arterial\n",
        "df['ROAD_CLASS'] = df['ROAD_CLASS'].replace(['Major Arterial Ramp'],'Major Arterial')"
      ],
      "metadata": {
        "id": "_R1iCAZMRZzq"
      },
      "execution_count": 48,
      "outputs": []
    },
    {
      "cell_type": "markdown",
      "source": [
        "We also group traffic control into 3 categories, namely: \"Active Control\", \"Passive Control\" and \"No Control\".\n",
        "Active Control refers to traffic being controlled by a person such as a police officer, school guard or traffic controller.\n",
        "Passive Control refers to traffic being controlled by a road sign such as a Stop sign or traffic signals.\n",
        "No Control refers to traffic deprived of any control mechanism.\n",
        "\n",
        "Our assumption for null values is that there must be a high probability of some form of passive control such as a road sign."
      ],
      "metadata": {
        "id": "6HZXiEFDRaP_"
      }
    },
    {
      "cell_type": "code",
      "source": [
        "df['TRAFFCTL'] = df['TRAFFCTL'].replace(['Traffic Signal', 'Stop Sign', 'Pedestrian Crossover', 'Yield Sign', 'Streetcar (Stop for)', 'Traffic Gate'], 'Passive Control')\n",
        "df['TRAFFCTL'] = df['TRAFFCTL'].replace(['Police Control', 'School Guard', 'Traffic Controller'], 'Active Control')\n",
        "df['TRAFFCTL'] = df['TRAFFCTL'].fillna('Passive Control')"
      ],
      "metadata": {
        "id": "URYfx3ApRkfV"
      },
      "execution_count": 49,
      "outputs": []
    },
    {
      "cell_type": "markdown",
      "source": [
        "### RANDOM CLEANING\n",
        "We noticed some of the values for INVAGE weren't uniform, therefore we renamed it with the right capitalization."
      ],
      "metadata": {
        "id": "FCxDr69nRriT"
      }
    },
    {
      "cell_type": "code",
      "source": [
        "#All of the unknowns in this dataset are upper case except the ones in this column.\n",
        "df.INVAGE = df.INVAGE.replace(['unknown'], 'Unknown')"
      ],
      "metadata": {
        "id": "APW_cdo8Rv1c"
      },
      "execution_count": 50,
      "outputs": []
    },
    {
      "cell_type": "markdown",
      "source": [
        "### DROPPING ROWS\n",
        "Since we deem the features left important to our models, we didn't want to leave any ambiguity in the data and drop those rows.\n",
        "The dropped rows amounted to 475 which represent 5.547% our cleaned data which is a relatively low value."
      ],
      "metadata": {
        "id": "e1mcZJ7ERwRj"
      }
    },
    {
      "cell_type": "code",
      "source": [
        "df.drop(df[df.LOCCOORD.isnull()].index, inplace=True)\n",
        "\n",
        "df.drop(df[df.INVAGE == 'Unknown'].index, inplace=True)\n",
        "\n",
        "df.INITDIR.fillna(\"Unknown\", inplace = True)\n",
        "df.drop(df[df.INITDIR == 'Unknown'].index, inplace=True)\n",
        "\n",
        "df.drop(df[df.MANOEUVER == 'Unknown'].index, inplace=True)\n",
        "df.drop(df[df.MANOEUVER.isnull()].index, inplace=True)\n",
        "\n",
        "df.drop(df[df.LIGHT == 'Other'].index, inplace=True)\n",
        "df.drop(df[df.LIGHT.isnull()].index, inplace=True)\n",
        "\n",
        "df.drop(df[df.RDSFCOND.isnull()].index, inplace=True)\n",
        "\n",
        "df.drop(df[df.VISIBILITY.isnull()].index, inplace=True)"
      ],
      "metadata": {
        "id": "DkjpXDxwR8Ns"
      },
      "execution_count": 51,
      "outputs": []
    },
    {
      "cell_type": "markdown",
      "source": [
        "### SAVING THE DATA"
      ],
      "metadata": {
        "id": "XChLimU7R8sc"
      }
    },
    {
      "cell_type": "code",
      "source": [
        "df\n",
        "# save data to csv file\n",
        "df.to_csv(\"../data/clean_data.csv\")"
      ],
      "metadata": {
        "id": "XTUsYX82SC4P"
      },
      "execution_count": null,
      "outputs": []
    },
    {
      "cell_type": "markdown",
      "source": [
        "### LABEL ENCODING"
      ],
      "metadata": {
        "id": "p566R43lSJGr"
      }
    },
    {
      "cell_type": "code",
      "source": [
        "df['ACCLASS'] = df['ACCLASS'].astype('category').cat.codes\n",
        "df['INITDIR'] = df['INITDIR'].astype('category').cat.codes\n",
        "df['LIGHT'] = df['LIGHT'].astype('category').cat.codes\n",
        "df['VISIBILITY'] = df['VISIBILITY'].astype('category').cat.codes\n",
        "df['RDSFCOND'] = df['RDSFCOND'].astype('category').cat.codes\n",
        "df['ROAD_CLASS'] = df['ROAD_CLASS'].astype('category').cat.codes # label encoding\n",
        "df['TRAFFCTL'] = df['TRAFFCTL'].astype('category').cat.codes\n",
        "df['INVAGE'] = df['INVAGE'].astype('category').cat.codes\n",
        "df['LOCCOORD'] = df['LOCCOORD'].astype('category').cat.codes\n",
        "df['MANOEUVER'] = df['MANOEUVER'].astype('category').cat.codes"
      ],
      "metadata": {
        "id": "QE_FkftcSMSP"
      },
      "execution_count": 52,
      "outputs": []
    },
    {
      "cell_type": "code",
      "source": [
        "df\n",
        "# save data to csv file with label encoding\n",
        "df.to_csv(\"/clean_data_label_encoded.csv\")"
      ],
      "metadata": {
        "id": "tc3p4CR2SRV0"
      },
      "execution_count": 56,
      "outputs": []
    },
    {
      "cell_type": "markdown",
      "source": [
        "# Data Models\n",
        "\n",
        "---\n",
        "\n",
        "\n",
        "\n",
        "---\n",
        "\n",
        "\n",
        "## Random Forests"
      ],
      "metadata": {
        "id": "DdFTJcDXqDao"
      }
    },
    {
      "cell_type": "markdown",
      "source": [
        "### Feature importances with a forest of trees\n",
        "The most influential features in the dataset are calculated using two methods MDI and MDA (FP). Both measures are using the fitted attribute `feature_importances_` of the random forest.\n",
        "#### Feature importance based on mean decrease in impurity (MDI)"
      ],
      "metadata": {
        "id": "kVWFDFABqSEJ"
      }
    },
    {
      "cell_type": "markdown",
      "source": [
        "####  Feature importance based on feature permutation"
      ],
      "metadata": {
        "id": "7ksMLcDRuWeu"
      }
    }
  ]
}