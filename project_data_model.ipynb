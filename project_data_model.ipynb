{
  "nbformat": 4,
  "nbformat_minor": 0,
  "metadata": {
    "colab": {
      "name": "project_data_model.ipynb",
      "provenance": [],
      "authorship_tag": "ABX9TyObjJQaaefCMZVoRBg62ght",
      "include_colab_link": true
    },
    "kernelspec": {
      "name": "python3",
      "display_name": "Python 3"
    },
    "language_info": {
      "name": "python"
    }
  },
  "cells": [
    {
      "cell_type": "markdown",
      "metadata": {
        "id": "view-in-github",
        "colab_type": "text"
      },
      "source": [
        "<a href=\"https://colab.research.google.com/github/ElviraKonovalov/soen471-bigData/blob/main/project_data_model.ipynb\" target=\"_parent\"><img src=\"https://colab.research.google.com/assets/colab-badge.svg\" alt=\"Open In Colab\"/></a>"
      ]
    },
    {
      "cell_type": "markdown",
      "source": [
        "# **Insight into the nature of road collisions**\n",
        "\n",
        "---\n",
        "\n",
        "\n",
        "## Imports"
      ],
      "metadata": {
        "id": "RB9K1a-rd9eq"
      }
    },
    {
      "cell_type": "code",
      "source": [
        "import pandas as pd\n",
        "import matplotlib.pyplot as plt\n",
        "import numpy as np\n",
        "import time\n",
        "import warnings\n",
        "warnings.filterwarnings('ignore')\n",
        "\n",
        "from sklearn.model_selection import train_test_split\n",
        "from sklearn.ensemble import RandomForestClassifier\n",
        "from sklearn.neural_network import MLPClassifier\n",
        "from sklearn.preprocessing import StandardScaler\n",
        "from sklearn.inspection import permutation_importance\n",
        "from sklearn.model_selection import GridSearchCV\n",
        "from sklearn.metrics import plot_confusion_matrix\n",
        "from sklearn.metrics import accuracy_score\n",
        "from sklearn.metrics import precision_score\n",
        "from sklearn.metrics import recall_score\n",
        "from sklearn.metrics import f1_score\n",
        "from imblearn.under_sampling import NearMiss "
      ],
      "metadata": {
        "id": "rwhhkv9Ad9oe"
      },
      "execution_count": 92,
      "outputs": []
    },
    {
      "cell_type": "markdown",
      "source": [
        "# Inital Dataset Analysis\n",
        "\n",
        "---\n",
        "\n",
        "\n",
        "The original dataset consists of 16,860 observations of motor vehicle collisions from 2006 to 2020 and is composed of 54 numerical and categorical features."
      ],
      "metadata": {
        "id": "rE5gTDkSeIc4"
      }
    },
    {
      "cell_type": "code",
      "source": [
        "file = 'Motor Vehicle Collisions with KSI Data.csv'\n",
        "df=  pd.read_csv(file, sep=',');"
      ],
      "metadata": {
        "id": "f9fH_hJfd-Sw"
      },
      "execution_count": 105,
      "outputs": []
    },
    {
      "cell_type": "code",
      "source": [
        "df"
      ],
      "metadata": {
        "colab": {
          "base_uri": "https://localhost:8080/",
          "height": 1000
        },
        "id": "VX-n3yh2eW3g",
        "outputId": "81fb248d-ebd9-4a95-febe-47fc65fe44be"
      },
      "execution_count": 106,
      "outputs": [
        {
          "output_type": "execute_result",
          "data": {
            "text/plain": [
              "                ACCLASS            ACCLOC   ACCNUM AG_DRIV ALCOHOL AUTOMOBILE  \\\n",
              "0                 Fatal   At Intersection   892658     Yes     NaN        Yes   \n",
              "1                 Fatal   At Intersection   892658     Yes     NaN        Yes   \n",
              "2                 Fatal   At Intersection   892810     Yes     NaN        Yes   \n",
              "3                 Fatal   At Intersection   892810     Yes     NaN        Yes   \n",
              "4                 Fatal               NaN   892682     NaN     Yes        Yes   \n",
              "...                 ...               ...      ...     ...     ...        ...   \n",
              "16855  Non-Fatal Injury  Non Intersection  1636966     Yes     NaN        Yes   \n",
              "16856  Non-Fatal Injury   At Intersection  1650701     Yes     NaN        Yes   \n",
              "16857  Non-Fatal Injury   At Intersection  1650701     Yes     NaN        Yes   \n",
              "16858  Non-Fatal Injury   At Intersection  1650701     Yes     NaN        Yes   \n",
              "16859  Non-Fatal Injury  Non Intersection  1650875     NaN     NaN        Yes   \n",
              "\n",
              "                 CYCACT CYCCOND CYCLIST CYCLISTYPE  ...  TIME        TRAFFCTL  \\\n",
              "0                   NaN     NaN     NaN        NaN  ...   852  Traffic Signal   \n",
              "1                   NaN     NaN     NaN        NaN  ...   852  Traffic Signal   \n",
              "2                   NaN     NaN     NaN        NaN  ...   915  Traffic Signal   \n",
              "3                   NaN     NaN     NaN        NaN  ...   915  Traffic Signal   \n",
              "4                   NaN     NaN     NaN        NaN  ...   240      No Control   \n",
              "...                 ...     ...     ...        ...  ...   ...             ...   \n",
              "16855  Driving Properly  Normal     Yes        NaN  ...  1340      No Control   \n",
              "16856               NaN     NaN     NaN        NaN  ...  1205  Traffic Signal   \n",
              "16857               NaN     NaN     NaN        NaN  ...  1205  Traffic Signal   \n",
              "16858               NaN     NaN     NaN        NaN  ...  1205  Traffic Signal   \n",
              "16859               NaN     NaN     Yes        NaN  ...  1238      No Control   \n",
              "\n",
              "      TRSN_CITY_VEH TRUCK                    VEHTYPE VISIBILITY WARDNUM  YEAR  \\\n",
              "0               NaN   NaN  Automobile, Station Wagon      Clear       4  2006   \n",
              "1               NaN   NaN                      Other      Clear       4  2006   \n",
              "2               NaN   NaN                 Motorcycle      Clear      25  2006   \n",
              "3               NaN   NaN  Automobile, Station Wagon      Clear      25  2006   \n",
              "4               NaN   NaN  Automobile, Station Wagon      Clear   21,20  2006   \n",
              "...             ...   ...                        ...        ...     ...   ...   \n",
              "16855           NaN   NaN                    Bicycle      Clear     NaN  2020   \n",
              "16856           NaN   NaN  Automobile, Station Wagon      Clear   21,20  2020   \n",
              "16857           NaN   NaN  Automobile, Station Wagon      Clear   21,20  2020   \n",
              "16858           NaN   NaN                        NaN      Clear   21,20  2020   \n",
              "16859           NaN   NaN  Automobile, Station Wagon      Clear     NaN  2020   \n",
              "\n",
              "         _id                                           geometry  \n",
              "0          1  {'type': 'Point', 'coordinates': (-79.45249, 4...  \n",
              "1          2  {'type': 'Point', 'coordinates': (-79.45249, 4...  \n",
              "2          3  {'type': 'Point', 'coordinates': (-79.199786, ...  \n",
              "3          4  {'type': 'Point', 'coordinates': (-79.199786, ...  \n",
              "4          5  {'type': 'Point', 'coordinates': (-79.25619, 4...  \n",
              "...      ...                                                ...  \n",
              "16855  16856  {'type': 'Point', 'coordinates': (-79.238926, ...  \n",
              "16856  16857  {'type': 'Point', 'coordinates': (-79.232021, ...  \n",
              "16857  16858  {'type': 'Point', 'coordinates': (-79.232021, ...  \n",
              "16858  16859  {'type': 'Point', 'coordinates': (-79.232021, ...  \n",
              "16859  16860  {'type': 'Point', 'coordinates': (-79.434086, ...  \n",
              "\n",
              "[16860 rows x 54 columns]"
            ],
            "text/html": [
              "\n",
              "  <div id=\"df-2535dc3c-36b9-4557-828e-367024899f46\">\n",
              "    <div class=\"colab-df-container\">\n",
              "      <div>\n",
              "<style scoped>\n",
              "    .dataframe tbody tr th:only-of-type {\n",
              "        vertical-align: middle;\n",
              "    }\n",
              "\n",
              "    .dataframe tbody tr th {\n",
              "        vertical-align: top;\n",
              "    }\n",
              "\n",
              "    .dataframe thead th {\n",
              "        text-align: right;\n",
              "    }\n",
              "</style>\n",
              "<table border=\"1\" class=\"dataframe\">\n",
              "  <thead>\n",
              "    <tr style=\"text-align: right;\">\n",
              "      <th></th>\n",
              "      <th>ACCLASS</th>\n",
              "      <th>ACCLOC</th>\n",
              "      <th>ACCNUM</th>\n",
              "      <th>AG_DRIV</th>\n",
              "      <th>ALCOHOL</th>\n",
              "      <th>AUTOMOBILE</th>\n",
              "      <th>CYCACT</th>\n",
              "      <th>CYCCOND</th>\n",
              "      <th>CYCLIST</th>\n",
              "      <th>CYCLISTYPE</th>\n",
              "      <th>...</th>\n",
              "      <th>TIME</th>\n",
              "      <th>TRAFFCTL</th>\n",
              "      <th>TRSN_CITY_VEH</th>\n",
              "      <th>TRUCK</th>\n",
              "      <th>VEHTYPE</th>\n",
              "      <th>VISIBILITY</th>\n",
              "      <th>WARDNUM</th>\n",
              "      <th>YEAR</th>\n",
              "      <th>_id</th>\n",
              "      <th>geometry</th>\n",
              "    </tr>\n",
              "  </thead>\n",
              "  <tbody>\n",
              "    <tr>\n",
              "      <th>0</th>\n",
              "      <td>Fatal</td>\n",
              "      <td>At Intersection</td>\n",
              "      <td>892658</td>\n",
              "      <td>Yes</td>\n",
              "      <td>NaN</td>\n",
              "      <td>Yes</td>\n",
              "      <td>NaN</td>\n",
              "      <td>NaN</td>\n",
              "      <td>NaN</td>\n",
              "      <td>NaN</td>\n",
              "      <td>...</td>\n",
              "      <td>852</td>\n",
              "      <td>Traffic Signal</td>\n",
              "      <td>NaN</td>\n",
              "      <td>NaN</td>\n",
              "      <td>Automobile, Station Wagon</td>\n",
              "      <td>Clear</td>\n",
              "      <td>4</td>\n",
              "      <td>2006</td>\n",
              "      <td>1</td>\n",
              "      <td>{'type': 'Point', 'coordinates': (-79.45249, 4...</td>\n",
              "    </tr>\n",
              "    <tr>\n",
              "      <th>1</th>\n",
              "      <td>Fatal</td>\n",
              "      <td>At Intersection</td>\n",
              "      <td>892658</td>\n",
              "      <td>Yes</td>\n",
              "      <td>NaN</td>\n",
              "      <td>Yes</td>\n",
              "      <td>NaN</td>\n",
              "      <td>NaN</td>\n",
              "      <td>NaN</td>\n",
              "      <td>NaN</td>\n",
              "      <td>...</td>\n",
              "      <td>852</td>\n",
              "      <td>Traffic Signal</td>\n",
              "      <td>NaN</td>\n",
              "      <td>NaN</td>\n",
              "      <td>Other</td>\n",
              "      <td>Clear</td>\n",
              "      <td>4</td>\n",
              "      <td>2006</td>\n",
              "      <td>2</td>\n",
              "      <td>{'type': 'Point', 'coordinates': (-79.45249, 4...</td>\n",
              "    </tr>\n",
              "    <tr>\n",
              "      <th>2</th>\n",
              "      <td>Fatal</td>\n",
              "      <td>At Intersection</td>\n",
              "      <td>892810</td>\n",
              "      <td>Yes</td>\n",
              "      <td>NaN</td>\n",
              "      <td>Yes</td>\n",
              "      <td>NaN</td>\n",
              "      <td>NaN</td>\n",
              "      <td>NaN</td>\n",
              "      <td>NaN</td>\n",
              "      <td>...</td>\n",
              "      <td>915</td>\n",
              "      <td>Traffic Signal</td>\n",
              "      <td>NaN</td>\n",
              "      <td>NaN</td>\n",
              "      <td>Motorcycle</td>\n",
              "      <td>Clear</td>\n",
              "      <td>25</td>\n",
              "      <td>2006</td>\n",
              "      <td>3</td>\n",
              "      <td>{'type': 'Point', 'coordinates': (-79.199786, ...</td>\n",
              "    </tr>\n",
              "    <tr>\n",
              "      <th>3</th>\n",
              "      <td>Fatal</td>\n",
              "      <td>At Intersection</td>\n",
              "      <td>892810</td>\n",
              "      <td>Yes</td>\n",
              "      <td>NaN</td>\n",
              "      <td>Yes</td>\n",
              "      <td>NaN</td>\n",
              "      <td>NaN</td>\n",
              "      <td>NaN</td>\n",
              "      <td>NaN</td>\n",
              "      <td>...</td>\n",
              "      <td>915</td>\n",
              "      <td>Traffic Signal</td>\n",
              "      <td>NaN</td>\n",
              "      <td>NaN</td>\n",
              "      <td>Automobile, Station Wagon</td>\n",
              "      <td>Clear</td>\n",
              "      <td>25</td>\n",
              "      <td>2006</td>\n",
              "      <td>4</td>\n",
              "      <td>{'type': 'Point', 'coordinates': (-79.199786, ...</td>\n",
              "    </tr>\n",
              "    <tr>\n",
              "      <th>4</th>\n",
              "      <td>Fatal</td>\n",
              "      <td>NaN</td>\n",
              "      <td>892682</td>\n",
              "      <td>NaN</td>\n",
              "      <td>Yes</td>\n",
              "      <td>Yes</td>\n",
              "      <td>NaN</td>\n",
              "      <td>NaN</td>\n",
              "      <td>NaN</td>\n",
              "      <td>NaN</td>\n",
              "      <td>...</td>\n",
              "      <td>240</td>\n",
              "      <td>No Control</td>\n",
              "      <td>NaN</td>\n",
              "      <td>NaN</td>\n",
              "      <td>Automobile, Station Wagon</td>\n",
              "      <td>Clear</td>\n",
              "      <td>21,20</td>\n",
              "      <td>2006</td>\n",
              "      <td>5</td>\n",
              "      <td>{'type': 'Point', 'coordinates': (-79.25619, 4...</td>\n",
              "    </tr>\n",
              "    <tr>\n",
              "      <th>...</th>\n",
              "      <td>...</td>\n",
              "      <td>...</td>\n",
              "      <td>...</td>\n",
              "      <td>...</td>\n",
              "      <td>...</td>\n",
              "      <td>...</td>\n",
              "      <td>...</td>\n",
              "      <td>...</td>\n",
              "      <td>...</td>\n",
              "      <td>...</td>\n",
              "      <td>...</td>\n",
              "      <td>...</td>\n",
              "      <td>...</td>\n",
              "      <td>...</td>\n",
              "      <td>...</td>\n",
              "      <td>...</td>\n",
              "      <td>...</td>\n",
              "      <td>...</td>\n",
              "      <td>...</td>\n",
              "      <td>...</td>\n",
              "      <td>...</td>\n",
              "    </tr>\n",
              "    <tr>\n",
              "      <th>16855</th>\n",
              "      <td>Non-Fatal Injury</td>\n",
              "      <td>Non Intersection</td>\n",
              "      <td>1636966</td>\n",
              "      <td>Yes</td>\n",
              "      <td>NaN</td>\n",
              "      <td>Yes</td>\n",
              "      <td>Driving Properly</td>\n",
              "      <td>Normal</td>\n",
              "      <td>Yes</td>\n",
              "      <td>NaN</td>\n",
              "      <td>...</td>\n",
              "      <td>1340</td>\n",
              "      <td>No Control</td>\n",
              "      <td>NaN</td>\n",
              "      <td>NaN</td>\n",
              "      <td>Bicycle</td>\n",
              "      <td>Clear</td>\n",
              "      <td>NaN</td>\n",
              "      <td>2020</td>\n",
              "      <td>16856</td>\n",
              "      <td>{'type': 'Point', 'coordinates': (-79.238926, ...</td>\n",
              "    </tr>\n",
              "    <tr>\n",
              "      <th>16856</th>\n",
              "      <td>Non-Fatal Injury</td>\n",
              "      <td>At Intersection</td>\n",
              "      <td>1650701</td>\n",
              "      <td>Yes</td>\n",
              "      <td>NaN</td>\n",
              "      <td>Yes</td>\n",
              "      <td>NaN</td>\n",
              "      <td>NaN</td>\n",
              "      <td>NaN</td>\n",
              "      <td>NaN</td>\n",
              "      <td>...</td>\n",
              "      <td>1205</td>\n",
              "      <td>Traffic Signal</td>\n",
              "      <td>NaN</td>\n",
              "      <td>NaN</td>\n",
              "      <td>Automobile, Station Wagon</td>\n",
              "      <td>Clear</td>\n",
              "      <td>21,20</td>\n",
              "      <td>2020</td>\n",
              "      <td>16857</td>\n",
              "      <td>{'type': 'Point', 'coordinates': (-79.232021, ...</td>\n",
              "    </tr>\n",
              "    <tr>\n",
              "      <th>16857</th>\n",
              "      <td>Non-Fatal Injury</td>\n",
              "      <td>At Intersection</td>\n",
              "      <td>1650701</td>\n",
              "      <td>Yes</td>\n",
              "      <td>NaN</td>\n",
              "      <td>Yes</td>\n",
              "      <td>NaN</td>\n",
              "      <td>NaN</td>\n",
              "      <td>NaN</td>\n",
              "      <td>NaN</td>\n",
              "      <td>...</td>\n",
              "      <td>1205</td>\n",
              "      <td>Traffic Signal</td>\n",
              "      <td>NaN</td>\n",
              "      <td>NaN</td>\n",
              "      <td>Automobile, Station Wagon</td>\n",
              "      <td>Clear</td>\n",
              "      <td>21,20</td>\n",
              "      <td>2020</td>\n",
              "      <td>16858</td>\n",
              "      <td>{'type': 'Point', 'coordinates': (-79.232021, ...</td>\n",
              "    </tr>\n",
              "    <tr>\n",
              "      <th>16858</th>\n",
              "      <td>Non-Fatal Injury</td>\n",
              "      <td>At Intersection</td>\n",
              "      <td>1650701</td>\n",
              "      <td>Yes</td>\n",
              "      <td>NaN</td>\n",
              "      <td>Yes</td>\n",
              "      <td>NaN</td>\n",
              "      <td>NaN</td>\n",
              "      <td>NaN</td>\n",
              "      <td>NaN</td>\n",
              "      <td>...</td>\n",
              "      <td>1205</td>\n",
              "      <td>Traffic Signal</td>\n",
              "      <td>NaN</td>\n",
              "      <td>NaN</td>\n",
              "      <td>NaN</td>\n",
              "      <td>Clear</td>\n",
              "      <td>21,20</td>\n",
              "      <td>2020</td>\n",
              "      <td>16859</td>\n",
              "      <td>{'type': 'Point', 'coordinates': (-79.232021, ...</td>\n",
              "    </tr>\n",
              "    <tr>\n",
              "      <th>16859</th>\n",
              "      <td>Non-Fatal Injury</td>\n",
              "      <td>Non Intersection</td>\n",
              "      <td>1650875</td>\n",
              "      <td>NaN</td>\n",
              "      <td>NaN</td>\n",
              "      <td>Yes</td>\n",
              "      <td>NaN</td>\n",
              "      <td>NaN</td>\n",
              "      <td>Yes</td>\n",
              "      <td>NaN</td>\n",
              "      <td>...</td>\n",
              "      <td>1238</td>\n",
              "      <td>No Control</td>\n",
              "      <td>NaN</td>\n",
              "      <td>NaN</td>\n",
              "      <td>Automobile, Station Wagon</td>\n",
              "      <td>Clear</td>\n",
              "      <td>NaN</td>\n",
              "      <td>2020</td>\n",
              "      <td>16860</td>\n",
              "      <td>{'type': 'Point', 'coordinates': (-79.434086, ...</td>\n",
              "    </tr>\n",
              "  </tbody>\n",
              "</table>\n",
              "<p>16860 rows × 54 columns</p>\n",
              "</div>\n",
              "      <button class=\"colab-df-convert\" onclick=\"convertToInteractive('df-2535dc3c-36b9-4557-828e-367024899f46')\"\n",
              "              title=\"Convert this dataframe to an interactive table.\"\n",
              "              style=\"display:none;\">\n",
              "        \n",
              "  <svg xmlns=\"http://www.w3.org/2000/svg\" height=\"24px\"viewBox=\"0 0 24 24\"\n",
              "       width=\"24px\">\n",
              "    <path d=\"M0 0h24v24H0V0z\" fill=\"none\"/>\n",
              "    <path d=\"M18.56 5.44l.94 2.06.94-2.06 2.06-.94-2.06-.94-.94-2.06-.94 2.06-2.06.94zm-11 1L8.5 8.5l.94-2.06 2.06-.94-2.06-.94L8.5 2.5l-.94 2.06-2.06.94zm10 10l.94 2.06.94-2.06 2.06-.94-2.06-.94-.94-2.06-.94 2.06-2.06.94z\"/><path d=\"M17.41 7.96l-1.37-1.37c-.4-.4-.92-.59-1.43-.59-.52 0-1.04.2-1.43.59L10.3 9.45l-7.72 7.72c-.78.78-.78 2.05 0 2.83L4 21.41c.39.39.9.59 1.41.59.51 0 1.02-.2 1.41-.59l7.78-7.78 2.81-2.81c.8-.78.8-2.07 0-2.86zM5.41 20L4 18.59l7.72-7.72 1.47 1.35L5.41 20z\"/>\n",
              "  </svg>\n",
              "      </button>\n",
              "      \n",
              "  <style>\n",
              "    .colab-df-container {\n",
              "      display:flex;\n",
              "      flex-wrap:wrap;\n",
              "      gap: 12px;\n",
              "    }\n",
              "\n",
              "    .colab-df-convert {\n",
              "      background-color: #E8F0FE;\n",
              "      border: none;\n",
              "      border-radius: 50%;\n",
              "      cursor: pointer;\n",
              "      display: none;\n",
              "      fill: #1967D2;\n",
              "      height: 32px;\n",
              "      padding: 0 0 0 0;\n",
              "      width: 32px;\n",
              "    }\n",
              "\n",
              "    .colab-df-convert:hover {\n",
              "      background-color: #E2EBFA;\n",
              "      box-shadow: 0px 1px 2px rgba(60, 64, 67, 0.3), 0px 1px 3px 1px rgba(60, 64, 67, 0.15);\n",
              "      fill: #174EA6;\n",
              "    }\n",
              "\n",
              "    [theme=dark] .colab-df-convert {\n",
              "      background-color: #3B4455;\n",
              "      fill: #D2E3FC;\n",
              "    }\n",
              "\n",
              "    [theme=dark] .colab-df-convert:hover {\n",
              "      background-color: #434B5C;\n",
              "      box-shadow: 0px 1px 3px 1px rgba(0, 0, 0, 0.15);\n",
              "      filter: drop-shadow(0px 1px 2px rgba(0, 0, 0, 0.3));\n",
              "      fill: #FFFFFF;\n",
              "    }\n",
              "  </style>\n",
              "\n",
              "      <script>\n",
              "        const buttonEl =\n",
              "          document.querySelector('#df-2535dc3c-36b9-4557-828e-367024899f46 button.colab-df-convert');\n",
              "        buttonEl.style.display =\n",
              "          google.colab.kernel.accessAllowed ? 'block' : 'none';\n",
              "\n",
              "        async function convertToInteractive(key) {\n",
              "          const element = document.querySelector('#df-2535dc3c-36b9-4557-828e-367024899f46');\n",
              "          const dataTable =\n",
              "            await google.colab.kernel.invokeFunction('convertToInteractive',\n",
              "                                                     [key], {});\n",
              "          if (!dataTable) return;\n",
              "\n",
              "          const docLinkHtml = 'Like what you see? Visit the ' +\n",
              "            '<a target=\"_blank\" href=https://colab.research.google.com/notebooks/data_table.ipynb>data table notebook</a>'\n",
              "            + ' to learn more about interactive tables.';\n",
              "          element.innerHTML = '';\n",
              "          dataTable['output_type'] = 'display_data';\n",
              "          await google.colab.output.renderOutput(dataTable, element);\n",
              "          const docLink = document.createElement('div');\n",
              "          docLink.innerHTML = docLinkHtml;\n",
              "          element.appendChild(docLink);\n",
              "        }\n",
              "      </script>\n",
              "    </div>\n",
              "  </div>\n",
              "  "
            ]
          },
          "metadata": {},
          "execution_count": 106
        }
      ]
    },
    {
      "cell_type": "markdown",
      "source": [
        "## Class Distribution\n",
        "The feature *'ACCLASS'* (accident class) is the dependent feature that will classify the outcome of the accident.<br>\n",
        "There are two types of accident outcomes: Fatal Accident or Non-Fatal Accident.\n"
      ],
      "metadata": {
        "id": "bZI9Oo8Le5hV"
      }
    },
    {
      "cell_type": "code",
      "source": [
        "df['ACCLASS'].value_counts()\n",
        "df['ACCLASS'] = df['ACCLASS'].replace(['Property Damage Only', 'Non-Fatal Injury'], 'Non-Fatal' )\n",
        "df['ACCLASS'].value_counts()"
      ],
      "metadata": {
        "colab": {
          "base_uri": "https://localhost:8080/"
        },
        "id": "ui5imXAXgJ8O",
        "outputId": "afcbf38e-8f1c-49bd-d798-d7b94194af5b"
      },
      "execution_count": 107,
      "outputs": [
        {
          "output_type": "execute_result",
          "data": {
            "text/plain": [
              "Non-Fatal    14563\n",
              "Fatal         2297\n",
              "Name: ACCLASS, dtype: int64"
            ]
          },
          "metadata": {},
          "execution_count": 107
        }
      ]
    },
    {
      "cell_type": "code",
      "source": [
        "class_counts = df['ACCLASS'].value_counts()\n",
        "classes = class_counts.index.tolist()\n",
        "class_instance_count = class_counts.values\n",
        "plt.bar(classes,class_instance_count, color='orange')\n",
        "plt.title('Accident Class Distribution')\n",
        "plt.xlabel('Accident Outcome')\n",
        "plt.ylabel('Number of Instances');"
      ],
      "metadata": {
        "colab": {
          "base_uri": "https://localhost:8080/",
          "height": 295
        },
        "id": "gT0RQhD9ffvK",
        "outputId": "825c8f1d-ed98-4beb-9c6c-b1413007ebb0"
      },
      "execution_count": 109,
      "outputs": [
        {
          "output_type": "display_data",
          "data": {
            "text/plain": [
              "<Figure size 432x288 with 1 Axes>"
            ],
            "image/png": "[encoded data removed]"
          },
          "metadata": {
            "needs_background": "light"
          }
        }
      ]
    },
    {
      "cell_type": "markdown",
      "source": [
        "**NOTE!**<br>\n",
        "Class distribution appears to be very unbalanced. Classes are not equally represented. Methods such as oversampling or undersampling will be used to address this issue."
      ],
      "metadata": {
        "id": "okFPeqZYa-0l"
      }
    },
    {
      "cell_type": "markdown",
      "source": [
        "# **Data Preparation**\n",
        "Data is prepared to be applied to the models.\n",
        "\n",
        "\n",
        "\n",
        "\n",
        "---\n",
        "\n",
        "\n",
        "\n",
        "\n",
        "\n"
      ],
      "metadata": {
        "id": "Mp_m2h0JerWy"
      }
    },
    {
      "cell_type": "markdown",
      "source": [
        "## Feature Selection\n",
        "From the original 54 features, irrelevant and redundant variables were dropped, and new features were constructed.<br>\n",
        "The following 25 features were chosen to be used in this study:\n",
        "- **'AG_DRIV':** Aggressive and Distracted Driving Collision\n",
        "- **'ALCOHOL':** Alcohol Related Collision\n",
        "- **'AUTOMOBILE':** Driver Involved in Collision\n",
        "- **'CYCLIST':** Cyclists Involved in Collision\n",
        "- **'MONTH':** Month Collision Occurred\n",
        "- **'DISABILITY':** Medical or Physical Disability Related Collision\n",
        "- **'EMERG_VEH':** Emergency Vehicle Involved in Collision\n",
        "- **'HOOD_ID':** City of Toronto Neighbourhood Identifier\n",
        "- **'HOUR':** Hour Collision Occurred\n",
        "- **'INITDIR':** Initial Direction of Travel\n",
        "- **'INVAGE':** Age of Involved Party\n",
        "- **'LIGHT':** Light Condition\n",
        "- **'LOCCOORD':** Location Coordinate\n",
        "- **'MANOEUVER':** Vehicle Manouever\n",
        "- **'MOTORCYCLE':** Motorcyclist Involved in Collision\n",
        "- **'PASSENGER':** Passenger Involved in Collision\n",
        "- **'PEDESTRIAN':** Pedestrian Involved In Collision\n",
        "- **'RDSFCOND':** Road Surface Condition\n",
        "- **'REDLIGHT':** Red Light Related Collision\n",
        "- **'ROAD_CLASS':** Road Classification\n",
        "- **'SPEEDING':** Speeding Related Collision\n",
        "- **'TRAFFCTL':** Traffic Control Type\n",
        "- **'TRSN_CITY_VEH':** Transit or City Vehicle Involved in Collision\n",
        "- **'TRUCK':** Truck Driver Involved in Collision\n",
        "- **'VISIBILITY':** Environment Condition\n",
        "\n",
        "\n",
        "**NOTE!** <br>\n",
        "Experimentation with \"feature importances\" is done in the next section to potentially further reduce the number the features.\n"
      ],
      "metadata": {
        "id": "Iawg-fbfxCTJ"
      }
    },
    {
      "cell_type": "markdown",
      "source": [
        "### DROPPING COLUMNS\n",
        "We start by dropping the columns that we deem not pertinent for our model."
      ],
      "metadata": {
        "id": "8zoXtm1_QWU4"
      }
    },
    {
      "cell_type": "code",
      "source": [
        "file = 'Motor Vehicle Collisions with KSI Data.csv'\n",
        "df=  pd.read_csv(file, sep=',');"
      ],
      "metadata": {
        "id": "L-Oos6phrJYN"
      },
      "execution_count": 154,
      "outputs": []
    },
    {
      "cell_type": "code",
      "source": [
        "columns_to_drop = ['_id', 'ACCNUM', 'TIME', 'OFFSET', 'WARDNUM', 'DIVISION', 'ACCLOC', 'FATAL_NO', 'PEDTYPE', 'PEDACT', 'PEDCOND', 'CYCLISTYPE', 'CYCACT', 'CYCCOND', 'POLICE_DIVISION', 'ObjectId', 'geometry','DISTRICT','DRIVACT','DRIVCOND','IMPACTYPE','INJURY','NEIGHBOURHOOD','STREET1', 'STREET2','VEHTYPE','YEAR']\n",
        "df = df.drop(columns=columns_to_drop)"
      ],
      "metadata": {
        "id": "uwaslwb_QCK9"
      },
      "execution_count": 155,
      "outputs": []
    },
    {
      "cell_type": "markdown",
      "source": [
        "### FILTERING\n",
        "Second, since we're only interested in the classification for the driver, we filter all the rows that did not have a driver as involved party. Then since our data only contains drivers, the INVTYPE feature is redudant and we drop it."
      ],
      "metadata": {
        "id": "FAuAK79xQqCx"
      }
    },
    {
      "cell_type": "code",
      "source": [
        "df.INVTYPE.fillna('Unknown', inplace=True)\n",
        "\n",
        "for row in df.INVTYPE.unique():\n",
        "  if 'Driver' not in row or 'Not Hit' in row:\n",
        "    df = df[(df.INVTYPE != row)]\n",
        "\n",
        "df.drop(columns=['INVTYPE'], inplace=True)"
      ],
      "metadata": {
        "id": "PiAUUW7nQwLn"
      },
      "execution_count": 156,
      "outputs": []
    },
    {
      "cell_type": "markdown",
      "source": [
        "### REPLACING BINARY VALUES\n",
        "\n",
        "The following features have been noted to have a binary value; either \"Yes\" or \"null\", therefore, for each we map the values to 1 and 0 respectively."
      ],
      "metadata": {
        "id": "6ZZp9pkcQw-M"
      }
    },
    {
      "cell_type": "code",
      "source": [
        "df.AG_DRIV.fillna(0, inplace=True)\n",
        "df.AG_DRIV.replace('Yes', 1, inplace=True)\n",
        "\n",
        "df.ALCOHOL.fillna(0, inplace=True)\n",
        "df.ALCOHOL.replace('Yes', 1, inplace=True)\n",
        "\n",
        "df.AUTOMOBILE.fillna(0, inplace=True)\n",
        "df.AUTOMOBILE.replace('Yes',1, inplace=True)\n",
        "\n",
        "df.CYCLIST.fillna(0, inplace=True)\n",
        "df.CYCLIST.replace('Yes',1, inplace=True)\n",
        "\n",
        "df.DISABILITY.fillna(0, inplace=True)\n",
        "df.DISABILITY.replace('Yes', 1, inplace=True)\n",
        "\n",
        "df.EMERG_VEH.fillna(0, inplace=True)\n",
        "df.EMERG_VEH.replace('Yes',1, inplace=True)\n",
        "\n",
        "df.PEDESTRIAN.fillna(0, inplace=True)\n",
        "df.PEDESTRIAN.replace('Yes',1, inplace=True)\n",
        "\n",
        "df.PASSENGER.fillna(0, inplace=True)\n",
        "df.PASSENGER.replace('Yes',1, inplace=True)\n",
        "\n",
        "df.MOTORCYCLE.fillna(0, inplace=True)\n",
        "df.MOTORCYCLE.replace('Yes',1, inplace=True)\n",
        "\n",
        "df.REDLIGHT.fillna(0, inplace=True)\n",
        "df.REDLIGHT.replace('Yes', 1, inplace=True)\n",
        "\n",
        "df.SPEEDING.fillna(0, inplace=True)\n",
        "df.SPEEDING.replace('Yes', 1, inplace=True)\n",
        "\n",
        "df.TRSN_CITY_VEH.fillna(0, inplace=True)\n",
        "df.TRSN_CITY_VEH.replace('Yes', 1, inplace=True)\n",
        "\n",
        "df.TRUCK.fillna(0, inplace=True)\n",
        "df.TRUCK.replace('Yes', 1, inplace=True)"
      ],
      "metadata": {
        "id": "PwnolOWkQ4cH"
      },
      "execution_count": 157,
      "outputs": []
    },
    {
      "cell_type": "markdown",
      "source": [
        "Similarly, ACCLASS, representing the class of the accident is reduced to only 2 values, we represent fatal ones by 1 and non-fatal ones by 0."
      ],
      "metadata": {
        "id": "o2Re5LDLQ5Mn"
      }
    },
    {
      "cell_type": "code",
      "source": [
        "df.ACCLASS.replace(['Fatal'], 1, inplace=True)\n",
        "df.ACCLASS.replace(['Non-Fatal Injury', 'Property Damage Only'], 0, inplace=True)"
      ],
      "metadata": {
        "id": "JZOWgeW0Q_fV"
      },
      "execution_count": 158,
      "outputs": []
    },
    {
      "cell_type": "markdown",
      "source": [
        "### RENAMING AND GROUPING\n",
        "We now group certain information together be renaming it to a common value.<br><br>\n",
        "We have decided that we didn't have to be too precise with the date, and that the month would suffice. Our assumption is that the occurence of accidents can be related to the holidays and the different weather conditions through the year."
      ],
      "metadata": {
        "id": "9L63e66YRAGb"
      }
    },
    {
      "cell_type": "code",
      "source": [
        "#first we will have to convert the data type to DateTime\n",
        "df['DATE'] = pd.to_datetime(df['DATE'])\n",
        "\n",
        "#now we will transform the data in the DATE column to simply present the month in integer form\n",
        "df['DATE'] = df['DATE'].dt.month"
      ],
      "metadata": {
        "id": "nqT7uw59RNPT"
      },
      "execution_count": 159,
      "outputs": []
    },
    {
      "cell_type": "markdown",
      "source": [
        "Next, Every street owned by the City of Toronto has been given one of five classifications (with the exception of public laneways): Local road, Collector road, Minor arterial road, Major arterical road and Expressway\n",
        "https://www.toronto.ca/services-payments/streets-parking-transportation/traffic-management/road-classification-system/about-the-road-classification-system/\n",
        "\n",
        "Therefore, to simplify our dataset, we renamed our values such that they fall into one the of the 5 classes. Additionally, to fill in null values we have selected the most frequent road class and we have droppend roads that were classed as \"Pending\" as they might fall into an outlier category of roads which don't fall exactly into one of the 5 classes."
      ],
      "metadata": {
        "id": "y1yoFsP7RNu6"
      }
    },
    {
      "cell_type": "code",
      "source": [
        "df['ROAD_CLASS'] = df['ROAD_CLASS'].fillna(df['ROAD_CLASS'].value_counts().index[0])\n",
        "# drop rows where ROAD_CLASS is pending\n",
        "df.drop(df.index[df['ROAD_CLASS'] == 'Pending'], inplace=True)\n",
        "# replacing Expressway Ramp (4 rows) with Expressway\n",
        "df['ROAD_CLASS'] = df['ROAD_CLASS'].replace(['Expressway Ramp'],'Expressway')\n",
        "# Major Arterial Ramp (1 row) with Major Arterial\n",
        "df['ROAD_CLASS'] = df['ROAD_CLASS'].replace(['Major Arterial Ramp'],'Major Arterial')"
      ],
      "metadata": {
        "id": "_R1iCAZMRZzq"
      },
      "execution_count": 160,
      "outputs": []
    },
    {
      "cell_type": "markdown",
      "source": [
        "We also group traffic control into 3 categories, namely: \"Active Control\", \"Passive Control\" and \"No Control\".\n",
        "Active Control refers to traffic being controlled by a person such as a police officer, school guard or traffic controller.\n",
        "Passive Control refers to traffic being controlled by a road sign such as a Stop sign or traffic signals.\n",
        "No Control refers to traffic deprived of any control mechanism.\n",
        "\n",
        "Our assumption for null values is that there must be a high probability of some form of passive control such as a road sign."
      ],
      "metadata": {
        "id": "6HZXiEFDRaP_"
      }
    },
    {
      "cell_type": "code",
      "source": [
        "df['TRAFFCTL'] = df['TRAFFCTL'].replace(['Traffic Signal', 'Stop Sign', 'Pedestrian Crossover', 'Yield Sign', 'Streetcar (Stop for)', 'Traffic Gate'], 'Passive Control')\n",
        "df['TRAFFCTL'] = df['TRAFFCTL'].replace(['Police Control', 'School Guard', 'Traffic Controller'], 'Active Control')\n",
        "df['TRAFFCTL'] = df['TRAFFCTL'].fillna('Passive Control')"
      ],
      "metadata": {
        "id": "URYfx3ApRkfV"
      },
      "execution_count": 161,
      "outputs": []
    },
    {
      "cell_type": "markdown",
      "source": [
        "### RANDOM CLEANING\n",
        "We noticed some of the values for INVAGE weren't uniform, therefore we renamed it with the right capitalization."
      ],
      "metadata": {
        "id": "FCxDr69nRriT"
      }
    },
    {
      "cell_type": "code",
      "source": [
        "#All of the unknowns in this dataset are upper case except the ones in this column.\n",
        "df.INVAGE = df.INVAGE.replace(['unknown'], 'Unknown')"
      ],
      "metadata": {
        "id": "APW_cdo8Rv1c"
      },
      "execution_count": 162,
      "outputs": []
    },
    {
      "cell_type": "markdown",
      "source": [
        "### DROPPING ROWS\n",
        "Since we deem the features left important to our models, we didn't want to leave any ambiguity in the data and drop those rows.\n",
        "The dropped rows amounted to 475 which represent 5.547% our cleaned data which is a relatively low value."
      ],
      "metadata": {
        "id": "e1mcZJ7ERwRj"
      }
    },
    {
      "cell_type": "code",
      "source": [
        "df.drop(df[df.LOCCOORD.isnull()].index, inplace=True)\n",
        "\n",
        "df.drop(df[df.INVAGE == 'Unknown'].index, inplace=True)\n",
        "\n",
        "df.INITDIR.fillna(\"Unknown\", inplace = True)\n",
        "df.drop(df[df.INITDIR == 'Unknown'].index, inplace=True)\n",
        "\n",
        "df.drop(df[df.MANOEUVER == 'Unknown'].index, inplace=True)\n",
        "df.drop(df[df.MANOEUVER.isnull()].index, inplace=True)\n",
        "\n",
        "df.drop(df[df.LIGHT == 'Other'].index, inplace=True)\n",
        "df.drop(df[df.LIGHT.isnull()].index, inplace=True)\n",
        "\n",
        "df.drop(df[df.RDSFCOND.isnull()].index, inplace=True)\n",
        "\n",
        "df.drop(df[df.VISIBILITY.isnull()].index, inplace=True)"
      ],
      "metadata": {
        "id": "DkjpXDxwR8Ns"
      },
      "execution_count": 163,
      "outputs": []
    },
    {
      "cell_type": "markdown",
      "source": [
        "### SAVING THE DATA"
      ],
      "metadata": {
        "id": "XChLimU7R8sc"
      }
    },
    {
      "cell_type": "code",
      "source": [
        "df# save data to csv file\n",
        "df.to_csv(\"../data/clean_data.csv\")"
      ],
      "metadata": {
        "id": "5T5v-0zyrXuV"
      },
      "execution_count": null,
      "outputs": []
    },
    {
      "cell_type": "markdown",
      "source": [
        "### LABEL ENCODING"
      ],
      "metadata": {
        "id": "p566R43lSJGr"
      }
    },
    {
      "cell_type": "code",
      "source": [
        "df['ACCLASS'] = df['ACCLASS'].astype('category').cat.codes\n",
        "df['INITDIR'] = df['INITDIR'].astype('category').cat.codes\n",
        "df['LIGHT'] = df['LIGHT'].astype('category').cat.codes\n",
        "df['VISIBILITY'] = df['VISIBILITY'].astype('category').cat.codes\n",
        "df['RDSFCOND'] = df['RDSFCOND'].astype('category').cat.codes\n",
        "df['ROAD_CLASS'] = df['ROAD_CLASS'].astype('category').cat.codes\n",
        "df['TRAFFCTL'] = df['TRAFFCTL'].astype('category').cat.codes\n",
        "df['INVAGE'] = df['INVAGE'].astype('category').cat.codes\n",
        "df['LOCCOORD'] = df['LOCCOORD'].astype('category').cat.codes\n",
        "df['MANOEUVER'] = df['MANOEUVER'].astype('category').cat.codes"
      ],
      "metadata": {
        "id": "QE_FkftcSMSP"
      },
      "execution_count": 164,
      "outputs": []
    },
    {
      "cell_type": "code",
      "source": [
        "# save data to csv file with label encoding\n",
        "df.to_csv(\"clean_data_label_encoded.csv\")"
      ],
      "metadata": {
        "id": "tc3p4CR2SRV0"
      },
      "execution_count": 165,
      "outputs": []
    },
    {
      "cell_type": "markdown",
      "source": [
        "# Data Models\n",
        "\n",
        "---\n"
      ],
      "metadata": {
        "id": "DdFTJcDXqDao"
      }
    },
    {
      "cell_type": "code",
      "source": [
        "# extract features and labels\n",
        "y = df['ACCLASS']\n",
        "\n",
        "df = df.drop(columns=['ACCLASS'])\n",
        "X = df"
      ],
      "metadata": {
        "id": "1OBXvUVaVkyg"
      },
      "execution_count": 127,
      "outputs": []
    },
    {
      "cell_type": "markdown",
      "source": [
        "## Random Forest 1"
      ],
      "metadata": {
        "id": "kVWFDFABqSEJ"
      }
    },
    {
      "cell_type": "code",
      "source": [
        "X_train, X_test, y_train, y_test = train_test_split(X, y, test_size=0.3, random_state=0) # split data\n",
        "\n",
        "# scale features\n",
        "scaler = StandardScaler().fit(X_train)\n",
        "X_train_scaled = scaler.transform(X_train)\n",
        "X_test_scaled = scaler.transform(X_test)"
      ],
      "metadata": {
        "id": "xOxZtT0TXEXq"
      },
      "execution_count": 70,
      "outputs": []
    },
    {
      "cell_type": "code",
      "source": [
        "# find best parameters for a random forest and train using best found estimator\n",
        "params = {\n",
        "    'n_estimators': [100, 500, 1000],\n",
        "    'criterion': ['gini', 'entropy'],\n",
        "    'min_samples_split': [2, 4, 5, 10, 13],\n",
        "    'min_samples_leaf': [1, 2, 5, 8, 13]\n",
        "}\n",
        "\n",
        "forest = GridSearchCV(RandomForestClassifier(random_state=0), params)\n",
        "forest.fit(X_train, y_train)"
      ],
      "metadata": {
        "colab": {
          "base_uri": "https://localhost:8080/"
        },
        "id": "l8u27hxwXSdt",
        "outputId": "8bd66383-ec4b-42a4-c064-d3c86f696ec3"
      },
      "execution_count": 45,
      "outputs": [
        {
          "output_type": "execute_result",
          "data": {
            "text/plain": [
              "GridSearchCV(estimator=RandomForestClassifier(random_state=0),\n",
              "             param_grid={'criterion': ['gini', 'entropy'],\n",
              "                         'min_samples_leaf': [1, 2, 5, 8, 13],\n",
              "                         'min_samples_split': [2, 4, 5, 10, 13],\n",
              "                         'n_estimators': [100, 500, 1000]})"
            ]
          },
          "metadata": {},
          "execution_count": 45
        }
      ]
    },
    {
      "cell_type": "code",
      "source": [
        "forest.best_estimator_ # params of best estimator"
      ],
      "metadata": {
        "colab": {
          "base_uri": "https://localhost:8080/"
        },
        "id": "SRdQV5wEZP9U",
        "outputId": "784cdf9a-c8bf-47bc-faa8-0ab803e230dd"
      },
      "execution_count": 46,
      "outputs": [
        {
          "output_type": "execute_result",
          "data": {
            "text/plain": [
              "RandomForestClassifier(random_state=0)"
            ]
          },
          "metadata": {},
          "execution_count": 46
        }
      ]
    },
    {
      "cell_type": "markdown",
      "source": [
        "### Feature importances with a forest of trees\n",
        "The most influential features in the dataset are calculated using two methods MDI and MDA (FP). Both measures are using the fitted attribute `feature_importances_` of the random forest.\n",
        "#### Feature importance based on mean decrease in impurity (MDI)"
      ],
      "metadata": {
        "id": "1RgTdg4PXHC-"
      }
    },
    {
      "cell_type": "code",
      "source": [
        "start_time = time.time()\n",
        "importances = forest.best_estimator_.feature_importances_\n",
        "std = np.std([tree.feature_importances_ for tree in forest.best_estimator_.estimators_], axis=0)\n",
        "elapsed_time = time.time() - start_time\n",
        "\n",
        "print(f\"Elapsed time to compute the importances: {elapsed_time:.3f} seconds\")"
      ],
      "metadata": {
        "colab": {
          "base_uri": "https://localhost:8080/"
        },
        "id": "Y_Rb7TWmZUYL",
        "outputId": "efd33f47-e389-4f0d-e64a-a2d7059e4837"
      },
      "execution_count": 47,
      "outputs": [
        {
          "output_type": "stream",
          "name": "stdout",
          "text": [
            "Elapsed time to compute the importances: 0.028 seconds\n"
          ]
        }
      ]
    },
    {
      "cell_type": "code",
      "source": [
        "feature_names = list(X.columns) # get feature names\n",
        "forest_importances = pd.Series(importances, index=feature_names)\n",
        "\n",
        "fig, ax = plt.subplots()\n",
        "forest_importances.plot.bar(yerr=std, ax=ax)\n",
        "ax.set_title(\"Feature importances using MDI\")\n",
        "ax.set_ylabel(\"Feature importance score\")\n",
        "fig.tight_layout()"
      ],
      "metadata": {
        "colab": {
          "base_uri": "https://localhost:8080/",
          "height": 297
        },
        "id": "WTVwMa00ZX8z",
        "outputId": "16e42857-c082-444b-e4d9-f1238e4cadcb"
      },
      "execution_count": 48,
      "outputs": [
        {
          "output_type": "display_data",
          "data": {
            "text/plain": [
              "<Figure size 432x288 with 1 Axes>"
            ],
            "image/png": "[encoded data removed]"
          },
          "metadata": {
            "needs_background": "light"
          }
        }
      ]
    },
    {
      "cell_type": "markdown",
      "source": [
        "We observe that the following features are found important:\n",
        "- feature 1\n",
        "- feature 2\n"
      ],
      "metadata": {
        "id": "xUmK8qPocqoz"
      }
    },
    {
      "cell_type": "markdown",
      "source": [
        "####  Feature importance based on feature permutation"
      ],
      "metadata": {
        "id": "7ksMLcDRuWeu"
      }
    },
    {
      "cell_type": "code",
      "source": [
        "start_time = time.time()\n",
        "result = permutation_importance(forest.best_estimator_, X_test, y_test, n_repeats=10, random_state=42, n_jobs=2)\n",
        "elapsed_time = time.time() - start_time\n",
        "print(f\"Elapsed time to compute the importances: {elapsed_time:.3f} seconds\")\n",
        "\n",
        "forest_importances = pd.Series(result.importances_mean, index=feature_names)"
      ],
      "metadata": {
        "colab": {
          "base_uri": "https://localhost:8080/"
        },
        "id": "i_aJsBDlVWHc",
        "outputId": "df2c8ef1-7a91-4493-a729-fb3b00a8cf37"
      },
      "execution_count": 49,
      "outputs": [
        {
          "output_type": "stream",
          "name": "stdout",
          "text": [
            "Elapsed time to compute the importances: 16.450 seconds\n"
          ]
        }
      ]
    },
    {
      "cell_type": "markdown",
      "source": [
        "Although the permutation feature importance method **overcomes limitations** of the impurity-based feature importance, it is **more costly.** In permutation feature importance, the features are shuffled n times and the model refitted to estimate the importance of it."
      ],
      "metadata": {
        "id": "XhHAA6NEc79C"
      }
    },
    {
      "cell_type": "code",
      "source": [
        "fig, ax = plt.subplots()\n",
        "forest_importances.plot.bar(yerr=result.importances_std, ax=ax)\n",
        "ax.set_title(\"Feature importances using permutation (MDA)\")\n",
        "ax.set_ylabel(\"Feature importance score\")\n",
        "fig.tight_layout()\n",
        "plt.show()"
      ],
      "metadata": {
        "colab": {
          "base_uri": "https://localhost:8080/",
          "height": 297
        },
        "id": "CAEVBKv_Zdug",
        "outputId": "8c7ddda1-7586-40a4-fc6e-36c59c63ba48"
      },
      "execution_count": 50,
      "outputs": [
        {
          "output_type": "display_data",
          "data": {
            "text/plain": [
              "<Figure size 432x288 with 1 Axes>"
            ],
            "image/png": "[encoded data removed]"
          },
          "metadata": {
            "needs_background": "light"
          }
        }
      ]
    },
    {
      "cell_type": "markdown",
      "source": [
        "We observe that similar features are detected in both methods, although with slight varations.<br>\n",
        "Features found most important using MDA are:\n",
        "- feature 1\n",
        "- feature 2\n"
      ],
      "metadata": {
        "id": "HX3KbADEdzT5"
      }
    },
    {
      "cell_type": "markdown",
      "source": [
        "### Model Evaluation"
      ],
      "metadata": {
        "id": "wtKxuR4KZy9x"
      }
    },
    {
      "cell_type": "code",
      "source": [
        "# construct confusion matrix\n",
        "plot_confusion_matrix(forest.best_estimator_, X_test, y_test)  \n",
        "plt.show();"
      ],
      "metadata": {
        "colab": {
          "base_uri": "https://localhost:8080/",
          "height": 279
        },
        "id": "Y0MC7GTsZ1Jr",
        "outputId": "dd37be1e-c658-4fcb-ea50-40006643dfda"
      },
      "execution_count": 51,
      "outputs": [
        {
          "output_type": "display_data",
          "data": {
            "text/plain": [
              "<Figure size 432x288 with 2 Axes>"
            ],
            "image/png": "[encoded data removed]"
          },
          "metadata": {
            "needs_background": "light"
          }
        }
      ]
    },
    {
      "cell_type": "markdown",
      "source": [
        "We notice that the current Random Forest model classifies the majority of instances as class 1 (Non-fatal) caused perhaps by the imbalanced data."
      ],
      "metadata": {
        "id": "FwbkRpUEaMKy"
      }
    },
    {
      "cell_type": "code",
      "source": [
        "# evaluate model\n",
        "y_pred = forest.best_estimator_.predict(X_test)\n",
        "accuracy = round(accuracy_score(y_test, y_pred)*100,2)\n",
        "precision = round(precision_score(y_test, y_pred, average='weighted')*100,2)\n",
        "recall = round(recall_score(y_test, y_pred, average='weighted')*100,2)\n",
        "f1 = round(f1_score(y_test, y_pred, average='weighted')*100,2)\n",
        "\n",
        "print(\"{0:17} {1:10} {2:10} {3:10} {4:}\".format(\"----------------\", \"---------\", \"---------\", \"---------\", \"---------\"))\n",
        "print(\"{0:17} {1:10} {2:10} {3:10} {4:}\".format(\"MODEL\", \"ACCURACY\", \"PRECISION\", \"RECALL\", \"F1\"))\n",
        "print(\"{0:17} {1:10} {2:10} {3:10} {4:}\".format(\"----------------\", \"---------\", \"---------\", \"---------\", \"---------\"))\n",
        "print(\"{0:17} {1:} {2:10} {3:10} {4:10}\".format(\"random forest 1\", accuracy, precision, recall, f1))"
      ],
      "metadata": {
        "colab": {
          "base_uri": "https://localhost:8080/"
        },
        "id": "kJX7NOEFaDKE",
        "outputId": "86734f9a-22c6-4432-a250-9e5e99b3625a"
      },
      "execution_count": 54,
      "outputs": [
        {
          "output_type": "stream",
          "name": "stdout",
          "text": [
            "----------------  ---------  ---------  ---------  ---------\n",
            "MODEL             ACCURACY   PRECISION  RECALL     F1\n",
            "----------------  ---------  ---------  ---------  ---------\n",
            "random forest 1   88.55      87.28      88.55      84.47\n"
          ]
        }
      ]
    },
    {
      "cell_type": "markdown",
      "source": [
        "## Neural network 1"
      ],
      "metadata": {
        "id": "Irxdob6bgz0H"
      }
    },
    {
      "cell_type": "code",
      "source": [
        "params = {\n",
        "    'hidden_layer_sizes': [(50,50,50), (50,100,50), (100,)],\n",
        "    'activation': ['tanh', 'relu'],\n",
        "    'solver': ['sgd', 'adam'],\n",
        "    'alpha': [0.0001, 0.05],\n",
        "    'learning_rate': ['constant','adaptive'],\n",
        "}\n",
        "mlp = MLPClassifier(max_iter=100)\n",
        "nn = GridSearchCV(mlp, params, n_jobs=-1, cv=3)\n",
        "nn.fit(X_train, y_train)"
      ],
      "metadata": {
        "colab": {
          "base_uri": "https://localhost:8080/"
        },
        "id": "cddK11eJgmuc",
        "outputId": "ca329f76-7b08-4e70-fd74-3b8df479e0a3"
      },
      "execution_count": 71,
      "outputs": [
        {
          "output_type": "execute_result",
          "data": {
            "text/plain": [
              "GridSearchCV(cv=3, estimator=MLPClassifier(max_iter=100), n_jobs=-1,\n",
              "             param_grid={'activation': ['tanh', 'relu'],\n",
              "                         'alpha': [0.0001, 0.05],\n",
              "                         'hidden_layer_sizes': [(50, 50, 50), (50, 100, 50),\n",
              "                                                (100,)],\n",
              "                         'learning_rate': ['constant', 'adaptive'],\n",
              "                         'solver': ['sgd', 'adam']})"
            ]
          },
          "metadata": {},
          "execution_count": 71
        }
      ]
    },
    {
      "cell_type": "code",
      "source": [
        "nn.best_estimator_ # params of best estimator"
      ],
      "metadata": {
        "colab": {
          "base_uri": "https://localhost:8080/"
        },
        "id": "wevDLjW5hXSz",
        "outputId": "fe4c7f40-fe61-4af5-96d3-3ed89b1ad2b5"
      },
      "execution_count": 72,
      "outputs": [
        {
          "output_type": "execute_result",
          "data": {
            "text/plain": [
              "MLPClassifier(activation='tanh', learning_rate='adaptive', max_iter=100)"
            ]
          },
          "metadata": {},
          "execution_count": 72
        }
      ]
    },
    {
      "cell_type": "markdown",
      "source": [
        "### Model Evaluation"
      ],
      "metadata": {
        "id": "JuTtq5WnjsGW"
      }
    },
    {
      "cell_type": "code",
      "source": [
        "y_pred = nn.best_estimator_.predict(X_test)\n",
        "plot_confusion_matrix(nn.best_estimator_, X_test, y_test)  \n",
        "plt.show();"
      ],
      "metadata": {
        "colab": {
          "base_uri": "https://localhost:8080/",
          "height": 279
        },
        "id": "1ey1RCbLjGa6",
        "outputId": "0f49fbae-fa84-4147-dcdd-476d1c8d4b93"
      },
      "execution_count": 73,
      "outputs": [
        {
          "output_type": "display_data",
          "data": {
            "text/plain": [
              "<Figure size 432x288 with 2 Axes>"
            ],
            "image/png": "[encoded data removed]"
          },
          "metadata": {
            "needs_background": "light"
          }
        }
      ]
    },
    {
      "cell_type": "code",
      "source": [
        "y_pred = nn.best_estimator_.predict(X_test)\n",
        "accuracy = round(accuracy_score(y_test, y_pred)*100,2)\n",
        "precision = round(precision_score(y_test, y_pred, average='weighted')*100,2)\n",
        "recall = round(recall_score(y_test, y_pred, average='weighted')*100,2)\n",
        "f1 = round(f1_score(y_test, y_pred, average='weighted')*100,2)\n",
        "\n",
        "print(\"{0:17} {1:10} {2:10} {3:10} {4:}\".format(\"----------------\", \"---------\", \"---------\", \"---------\", \"---------\"))\n",
        "print(\"{0:17} {1:10} {2:10} {3:10} {4:}\".format(\"MODEL\", \"ACCURACY\", \"PRECISION\", \"RECALL\", \"F1\"))\n",
        "print(\"{0:17} {1:10} {2:10} {3:10} {4:}\".format(\"----------------\", \"---------\", \"---------\", \"---------\", \"---------\"))\n",
        "print(\"{0:17} {1:} {2:10} {3:10} {4:10}\".format(\"neural netwrok 1\", accuracy, precision, recall, f1))"
      ],
      "metadata": {
        "colab": {
          "base_uri": "https://localhost:8080/"
        },
        "id": "rcvSiXwvjLzE",
        "outputId": "137d5d1e-6d15-4b5a-eb30-dd571d135a7b"
      },
      "execution_count": 75,
      "outputs": [
        {
          "output_type": "stream",
          "name": "stdout",
          "text": [
            "----------------  ---------  ---------  ---------  ---------\n",
            "MODEL             ACCURACY   PRECISION  RECALL     F1\n",
            "----------------  ---------  ---------  ---------  ---------\n",
            "neural netwrok 1  87.47      82.38      87.47      82.76\n"
          ]
        }
      ]
    },
    {
      "cell_type": "markdown",
      "source": [
        "# Undersampling\n",
        "\n",
        "---\n",
        "\n",
        "\n",
        "To address the issues generated by the unbalanced dataset, we undersample the dataset to reduce the size of the abundant class (Non-Fatal)."
      ],
      "metadata": {
        "id": "PUjXlmcQjwZE"
      }
    },
    {
      "cell_type": "code",
      "source": [
        "# define the undersampling method\n",
        "undersample = NearMiss(version=1, n_neighbors=3)\n",
        "X, y = undersample.fit_resample(X, y)"
      ],
      "metadata": {
        "id": "AAAcyhlzjaS3"
      },
      "execution_count": 128,
      "outputs": []
    },
    {
      "cell_type": "markdown",
      "source": [
        "## Data Distribution after Resampling"
      ],
      "metadata": {
        "id": "QPfj1j33kgDS"
      }
    },
    {
      "cell_type": "code",
      "source": [
        "class_counts = y.value_counts()\n",
        "classes = ['Fatal','Non-Fatal']\n",
        "class_instance_count = class_counts.values\n",
        "plt.bar(classes,class_instance_count, color='orange')\n",
        "plt.title('Accident Class Distribution')\n",
        "plt.xlabel('Accident Outcome')\n",
        "plt.ylabel('Number of Instances');"
      ],
      "metadata": {
        "colab": {
          "base_uri": "https://localhost:8080/",
          "height": 295
        },
        "id": "i7enUNubkkSg",
        "outputId": "cbaf90e9-6449-4d0b-9f0a-1f441ef18659"
      },
      "execution_count": 94,
      "outputs": [
        {
          "output_type": "display_data",
          "data": {
            "text/plain": [
              "<Figure size 432x288 with 1 Axes>"
            ],
            "image/png": "[encoded data removed]"
          },
          "metadata": {
            "needs_background": "light"
          }
        }
      ]
    },
    {
      "cell_type": "markdown",
      "source": [
        "## Models after Resampling"
      ],
      "metadata": {
        "id": "BlrgbDwfllWp"
      }
    },
    {
      "cell_type": "code",
      "source": [
        "X_train, X_test, y_train, y_test = train_test_split(X, y, test_size=0.3, random_state=0)\n",
        "\n",
        "scaler = StandardScaler().fit(X_train)\n",
        "X_train_scaled = scaler.transform(X_train)\n",
        "X_test_scaled = scaler.transform(X_test)"
      ],
      "metadata": {
        "id": "sF2GAxHzknv4"
      },
      "execution_count": 129,
      "outputs": []
    },
    {
      "cell_type": "markdown",
      "source": [
        "### Random Forest 2\n",
        "Random Forest model using the resampled dataset."
      ],
      "metadata": {
        "id": "1w-deav6l90m"
      }
    },
    {
      "cell_type": "code",
      "source": [
        "# find best parameters for a random forest and train using best found estimator\n",
        "params = {\n",
        "    'n_estimators': [100, 500, 1000],\n",
        "    'criterion': ['gini', 'entropy'],\n",
        "    'min_samples_split': [2, 4, 5, 10, 13],\n",
        "    'min_samples_leaf': [1, 2, 5, 8, 13]\n",
        "}\n",
        "\n",
        "forest = GridSearchCV(RandomForestClassifier(random_state=0), params)\n",
        "forest.fit(X_train, y_train)"
      ],
      "metadata": {
        "colab": {
          "base_uri": "https://localhost:8080/"
        },
        "id": "IlwdU1pGkswl",
        "outputId": "cb309a1d-5021-4c99-bf8c-a2fdf8d1d9fd"
      },
      "execution_count": 96,
      "outputs": [
        {
          "output_type": "execute_result",
          "data": {
            "text/plain": [
              "GridSearchCV(estimator=RandomForestClassifier(random_state=0),\n",
              "             param_grid={'criterion': ['gini', 'entropy'],\n",
              "                         'min_samples_leaf': [1, 2, 5, 8, 13],\n",
              "                         'min_samples_split': [2, 4, 5, 10, 13],\n",
              "                         'n_estimators': [100, 500, 1000]})"
            ]
          },
          "metadata": {},
          "execution_count": 96
        }
      ]
    },
    {
      "cell_type": "code",
      "source": [
        "forest.best_estimator_ # params of best estimator"
      ],
      "metadata": {
        "colab": {
          "base_uri": "https://localhost:8080/"
        },
        "id": "sZR0KSZLkvZT",
        "outputId": "ceaa78e7-7679-4bbd-9b86-e62b4355470c"
      },
      "execution_count": 97,
      "outputs": [
        {
          "output_type": "execute_result",
          "data": {
            "text/plain": [
              "RandomForestClassifier(criterion='entropy', n_estimators=1000, random_state=0)"
            ]
          },
          "metadata": {},
          "execution_count": 97
        }
      ]
    },
    {
      "cell_type": "code",
      "source": [
        "start_time = time.time()\n",
        "importances = forest.best_estimator_.feature_importances_\n",
        "std = np.std([tree.feature_importances_ for tree in forest.best_estimator_.estimators_], axis=0)\n",
        "elapsed_time = time.time() - start_time\n",
        "\n",
        "print(f\"Elapsed time to compute the importances: {elapsed_time:.3f} seconds\")"
      ],
      "metadata": {
        "colab": {
          "base_uri": "https://localhost:8080/"
        },
        "id": "KuRSVmEQkxbT",
        "outputId": "d9456576-cdcf-4bbd-b79a-32a6eef40d81"
      },
      "execution_count": 98,
      "outputs": [
        {
          "output_type": "stream",
          "name": "stdout",
          "text": [
            "Elapsed time to compute the importances: 0.126 seconds\n"
          ]
        }
      ]
    },
    {
      "cell_type": "code",
      "source": [
        "forest_importances = pd.Series(importances, index=feature_names)\n",
        "\n",
        "fig, ax = plt.subplots()\n",
        "forest_importances.plot.bar(yerr=std, ax=ax)\n",
        "ax.set_title(\"Feature importances using MDI\")\n",
        "ax.set_ylabel(\"Feature importance score\")\n",
        "fig.tight_layout()"
      ],
      "metadata": {
        "colab": {
          "base_uri": "https://localhost:8080/",
          "height": 297
        },
        "id": "bIrI8KyPk0MK",
        "outputId": "8bd990fd-35d9-4083-892f-2d55701e7cef"
      },
      "execution_count": 99,
      "outputs": [
        {
          "output_type": "display_data",
          "data": {
            "text/plain": [
              "<Figure size 432x288 with 1 Axes>"
            ],
            "image/png": "[encoded data removed]"
          },
          "metadata": {
            "needs_background": "light"
          }
        }
      ]
    },
    {
      "cell_type": "code",
      "source": [
        "start_time = time.time()\n",
        "result = permutation_importance(forest.best_estimator_, X_test, y_test, n_repeats=10, random_state=42, n_jobs=2)\n",
        "elapsed_time = time.time() - start_time\n",
        "print(f\"Elapsed time to compute the importances: {elapsed_time:.3f} seconds\")\n",
        "\n",
        "forest_importances = pd.Series(result.importances_mean, index=feature_names)"
      ],
      "metadata": {
        "colab": {
          "base_uri": "https://localhost:8080/"
        },
        "id": "8JQeWUGuk22t",
        "outputId": "4d8164fe-f31f-4ca2-e766-c55ee1cebb14"
      },
      "execution_count": 100,
      "outputs": [
        {
          "output_type": "stream",
          "name": "stdout",
          "text": [
            "Elapsed time to compute the importances: 68.917 seconds\n"
          ]
        }
      ]
    },
    {
      "cell_type": "code",
      "source": [
        "fig, ax = plt.subplots()\n",
        "forest_importances.plot.bar(yerr=result.importances_std, ax=ax)\n",
        "ax.set_title(\"Feature importances using permutation on full model\")\n",
        "ax.set_ylabel(\"Feature importance score\")\n",
        "fig.tight_layout()\n",
        "plt.show()"
      ],
      "metadata": {
        "colab": {
          "base_uri": "https://localhost:8080/",
          "height": 297
        },
        "id": "-FG347GOk40s",
        "outputId": "73775acf-77db-4c4b-91e9-3f0206685a9f"
      },
      "execution_count": 101,
      "outputs": [
        {
          "output_type": "display_data",
          "data": {
            "text/plain": [
              "<Figure size 432x288 with 1 Axes>"
            ],
            "image/png": "[encoded data removed]"
          },
          "metadata": {
            "needs_background": "light"
          }
        }
      ]
    },
    {
      "cell_type": "markdown",
      "source": [
        "#### Model Evaluation"
      ],
      "metadata": {
        "id": "369JMYhTySAv"
      }
    },
    {
      "cell_type": "code",
      "source": [
        "plot_confusion_matrix(forest.best_estimator_, X_test, y_test)  \n",
        "plt.show();"
      ],
      "metadata": {
        "colab": {
          "base_uri": "https://localhost:8080/",
          "height": 279
        },
        "id": "KOPIXsK5k7RE",
        "outputId": "1d3035e5-ddb1-4857-b0b9-46d11e313376"
      },
      "execution_count": 102,
      "outputs": [
        {
          "output_type": "display_data",
          "data": {
            "text/plain": [
              "<Figure size 432x288 with 2 Axes>"
            ],
            "image/png": "[encoded data removed]"
          },
          "metadata": {
            "needs_background": "light"
          }
        }
      ]
    },
    {
      "cell_type": "markdown",
      "source": [
        "After undersampling, results seem to be better. Predictions occur for both classes."
      ],
      "metadata": {
        "id": "fiWyw3vonb94"
      }
    },
    {
      "cell_type": "code",
      "source": [
        "y_pred = forest.best_estimator_.predict(X_test)\n",
        "accuracy = round(accuracy_score(y_test, y_pred)*100,2)\n",
        "precision = round(precision_score(y_test, y_pred, average='weighted')*100,2)\n",
        "recall = round(recall_score(y_test, y_pred, average='weighted')*100,2)\n",
        "f1 = round(f1_score(y_test, y_pred, average='weighted')*100,2)\n",
        "\n",
        "print(\"{0:17} {1:10} {2:10} {3:10} {4:}\".format(\"----------------\", \"---------\", \"---------\", \"---------\", \"---------\"))\n",
        "print(\"{0:17} {1:10} {2:10} {3:10} {4:}\".format(\"MODEL\", \"ACCURACY\", \"PRECISION\", \"RECALL\", \"F1\"))\n",
        "print(\"{0:17} {1:10} {2:10} {3:10} {4:}\".format(\"----------------\", \"---------\", \"---------\", \"---------\", \"---------\"))\n",
        "print(\"{0:17} {1:} {2:10} {3:10} {4:10}\".format(\"random forest 2\", accuracy, precision, recall, f1))"
      ],
      "metadata": {
        "colab": {
          "base_uri": "https://localhost:8080/"
        },
        "id": "u0J8qojQk9WU",
        "outputId": "12ba719b-5772-411e-b162-98704b510e6f"
      },
      "execution_count": 103,
      "outputs": [
        {
          "output_type": "stream",
          "name": "stdout",
          "text": [
            "----------------  ---------  ---------  ---------  ---------\n",
            "MODEL             ACCURACY   PRECISION  RECALL     F1\n",
            "----------------  ---------  ---------  ---------  ---------\n",
            "random forest 2   80.26      80.57      80.26      80.21\n"
          ]
        }
      ]
    },
    {
      "cell_type": "markdown",
      "source": [
        "### Neural Network 2"
      ],
      "metadata": {
        "id": "g-d05L0onztg"
      }
    },
    {
      "cell_type": "code",
      "source": [
        "params = {\n",
        "    'hidden_layer_sizes': [(50,50,50), (50,100,50), (100,)],\n",
        "    'activation': ['tanh', 'relu'],\n",
        "    'solver': ['sgd', 'adam'],\n",
        "    'alpha': [0.0001, 0.05],\n",
        "    'learning_rate': ['constant','adaptive'],\n",
        "}\n",
        "mlp = MLPClassifier(max_iter=100)\n",
        "nn = GridSearchCV(mlp, params, n_jobs=-1, cv=3)\n",
        "nn.fit(X_train, y_train)"
      ],
      "metadata": {
        "colab": {
          "base_uri": "https://localhost:8080/"
        },
        "id": "PLJxy5O0n6w4",
        "outputId": "8e0eb0b8-11de-48a3-cf56-ba041a6b3a38"
      },
      "execution_count": 130,
      "outputs": [
        {
          "output_type": "execute_result",
          "data": {
            "text/plain": [
              "GridSearchCV(cv=3, estimator=MLPClassifier(max_iter=100), n_jobs=-1,\n",
              "             param_grid={'activation': ['tanh', 'relu'],\n",
              "                         'alpha': [0.0001, 0.05],\n",
              "                         'hidden_layer_sizes': [(50, 50, 50), (50, 100, 50),\n",
              "                                                (100,)],\n",
              "                         'learning_rate': ['constant', 'adaptive'],\n",
              "                         'solver': ['sgd', 'adam']})"
            ]
          },
          "metadata": {},
          "execution_count": 130
        }
      ]
    },
    {
      "cell_type": "code",
      "source": [
        "nn.best_estimator_ # params of best estimator"
      ],
      "metadata": {
        "colab": {
          "base_uri": "https://localhost:8080/"
        },
        "id": "IO-8X1FRod1o",
        "outputId": "4f410d3e-9f8a-4f4c-840c-31b5b660df08"
      },
      "execution_count": 131,
      "outputs": [
        {
          "output_type": "execute_result",
          "data": {
            "text/plain": [
              "MLPClassifier(learning_rate='adaptive', max_iter=100)"
            ]
          },
          "metadata": {},
          "execution_count": 131
        }
      ]
    },
    {
      "cell_type": "markdown",
      "source": [
        "#### Model Evaluation"
      ],
      "metadata": {
        "id": "d-it9_hlyDpw"
      }
    },
    {
      "cell_type": "code",
      "source": [
        "y_pred = nn.best_estimator_.predict(X_test)\n",
        "plot_confusion_matrix(nn.best_estimator_, X_test, y_test)  \n",
        "plt.show();"
      ],
      "metadata": {
        "colab": {
          "base_uri": "https://localhost:8080/",
          "height": 279
        },
        "id": "3JhGtjmMogRj",
        "outputId": "78836575-c0f0-4611-deb4-54a9fcc2f504"
      },
      "execution_count": 132,
      "outputs": [
        {
          "output_type": "display_data",
          "data": {
            "text/plain": [
              "<Figure size 432x288 with 2 Axes>"
            ],
            "image/png": "[encoded data removed]"
          },
          "metadata": {
            "needs_background": "light"
          }
        }
      ]
    },
    {
      "cell_type": "code",
      "source": [
        "y_pred = nn.best_estimator_.predict(X_test)\n",
        "accuracy = round(accuracy_score(y_test, y_pred)*100,2)\n",
        "precision = round(precision_score(y_test, y_pred, average='weighted')*100,2)\n",
        "recall = round(recall_score(y_test, y_pred, average='weighted')*100,2)\n",
        "f1 = round(f1_score(y_test, y_pred, average='weighted')*100,2)\n",
        "\n",
        "print(\"{0:17} {1:10} {2:10} {3:10} {4:}\".format(\"----------------\", \"---------\", \"---------\", \"---------\", \"---------\"))\n",
        "print(\"{0:17} {1:10} {2:10} {3:10} {4:}\".format(\"MODEL\", \"ACCURACY\", \"PRECISION\", \"RECALL\", \"F1\"))\n",
        "print(\"{0:17} {1:10} {2:10} {3:10} {4:}\".format(\"----------------\", \"---------\", \"---------\", \"---------\", \"---------\"))\n",
        "print(\"{0:17} {1:} {2:10} {3:10} {4:10}\".format(\"neural netwrok 2\", accuracy, precision, recall, f1))"
      ],
      "metadata": {
        "colab": {
          "base_uri": "https://localhost:8080/"
        },
        "id": "X14IvNyXok7G",
        "outputId": "4a15e579-bb6c-406c-8f52-b013ec3bd703"
      },
      "execution_count": 133,
      "outputs": [
        {
          "output_type": "stream",
          "name": "stdout",
          "text": [
            "----------------  ---------  ---------  ---------  ---------\n",
            "MODEL             ACCURACY   PRECISION  RECALL     F1\n",
            "----------------  ---------  ---------  ---------  ---------\n",
            "neural netwrok 2  74.96      76.99      74.96      74.46\n"
          ]
        }
      ]
    },
    {
      "cell_type": "markdown",
      "source": [
        "# Feature Reduction\n",
        "\n",
        "---\n",
        "\n",
        "\n",
        "We keep only the 12 most influencial features determined using MDA above."
      ],
      "metadata": {
        "id": "hnqEoI_rpZ0E"
      }
    },
    {
      "cell_type": "code",
      "source": [
        "y = df['ACCLASS']\n",
        "\n",
        "df = df.drop(columns=['ACCLASS', 'AG_DRIV', 'ALCOHOL', 'AUTOMOBILE', 'CYCLIST', 'DISABILITY', 'EMERG_VEH', 'INITDIR', 'LOCCOORD', 'MOTORCYCLE', 'PASSENGER', 'REDLIGHT', 'TRAFFCTL', 'TRSN_CITY_VEH'])\n",
        "X = df"
      ],
      "metadata": {
        "id": "MKvJBwx3pb2B"
      },
      "execution_count": 166,
      "outputs": []
    },
    {
      "cell_type": "code",
      "source": [
        "X"
      ],
      "metadata": {
        "colab": {
          "base_uri": "https://localhost:8080/",
          "height": 419
        },
        "id": "Fqq0pwyUtiDc",
        "outputId": "919f101f-b1d3-4371-92ae-a1067ff7905d"
      },
      "execution_count": 149,
      "outputs": [
        {
          "output_type": "execute_result",
          "data": {
            "text/plain": [
              "      DATE  HOOD_ID  HOUR  INVAGE  LIGHT  MANOEUVER  PEDESTRIAN  RDSFCOND  \\\n",
              "0        8       85    21       3      1          2           0         0   \n",
              "1        8       85    21       3      1          2           0         0   \n",
              "2        5        1     6       7      4         13           0         0   \n",
              "3        7      118    16       8      4          2           0         0   \n",
              "4        9      119    15       5      4          2           0         0   \n",
              "...    ...      ...   ...     ...    ...        ...         ...       ...   \n",
              "2071    12      128    17       5      1          2           1         8   \n",
              "2072     7       33    21       3      1          2           1         0   \n",
              "2073     7       17     7      11      4          2           1         0   \n",
              "2074     8       14    11      14      4         13           1         0   \n",
              "2075     8       31    11       7      4          2           1         0   \n",
              "\n",
              "      ROAD_CLASS  SPEEDING  TRUCK  VISIBILITY  \n",
              "0              4         0      0           0  \n",
              "1              4         0      0           0  \n",
              "2              4         0      0           0  \n",
              "3              4         0      0           0  \n",
              "4              4         0      0           0  \n",
              "...          ...       ...    ...         ...  \n",
              "2071           4         0      0           5  \n",
              "2072           4         1      0           0  \n",
              "2073           3         0      0           0  \n",
              "2074           5         0      0           0  \n",
              "2075           5         0      0           0  \n",
              "\n",
              "[2076 rows x 12 columns]"
            ],
            "text/html": [
              "\n",
              "  <div id=\"df-9d6314b1-b4d4-40eb-bb20-b8fc7a40b5f3\">\n",
              "    <div class=\"colab-df-container\">\n",
              "      <div>\n",
              "<style scoped>\n",
              "    .dataframe tbody tr th:only-of-type {\n",
              "        vertical-align: middle;\n",
              "    }\n",
              "\n",
              "    .dataframe tbody tr th {\n",
              "        vertical-align: top;\n",
              "    }\n",
              "\n",
              "    .dataframe thead th {\n",
              "        text-align: right;\n",
              "    }\n",
              "</style>\n",
              "<table border=\"1\" class=\"dataframe\">\n",
              "  <thead>\n",
              "    <tr style=\"text-align: right;\">\n",
              "      <th></th>\n",
              "      <th>DATE</th>\n",
              "      <th>HOOD_ID</th>\n",
              "      <th>HOUR</th>\n",
              "      <th>INVAGE</th>\n",
              "      <th>LIGHT</th>\n",
              "      <th>MANOEUVER</th>\n",
              "      <th>PEDESTRIAN</th>\n",
              "      <th>RDSFCOND</th>\n",
              "      <th>ROAD_CLASS</th>\n",
              "      <th>SPEEDING</th>\n",
              "      <th>TRUCK</th>\n",
              "      <th>VISIBILITY</th>\n",
              "    </tr>\n",
              "  </thead>\n",
              "  <tbody>\n",
              "    <tr>\n",
              "      <th>0</th>\n",
              "      <td>8</td>\n",
              "      <td>85</td>\n",
              "      <td>21</td>\n",
              "      <td>3</td>\n",
              "      <td>1</td>\n",
              "      <td>2</td>\n",
              "      <td>0</td>\n",
              "      <td>0</td>\n",
              "      <td>4</td>\n",
              "      <td>0</td>\n",
              "      <td>0</td>\n",
              "      <td>0</td>\n",
              "    </tr>\n",
              "    <tr>\n",
              "      <th>1</th>\n",
              "      <td>8</td>\n",
              "      <td>85</td>\n",
              "      <td>21</td>\n",
              "      <td>3</td>\n",
              "      <td>1</td>\n",
              "      <td>2</td>\n",
              "      <td>0</td>\n",
              "      <td>0</td>\n",
              "      <td>4</td>\n",
              "      <td>0</td>\n",
              "      <td>0</td>\n",
              "      <td>0</td>\n",
              "    </tr>\n",
              "    <tr>\n",
              "      <th>2</th>\n",
              "      <td>5</td>\n",
              "      <td>1</td>\n",
              "      <td>6</td>\n",
              "      <td>7</td>\n",
              "      <td>4</td>\n",
              "      <td>13</td>\n",
              "      <td>0</td>\n",
              "      <td>0</td>\n",
              "      <td>4</td>\n",
              "      <td>0</td>\n",
              "      <td>0</td>\n",
              "      <td>0</td>\n",
              "    </tr>\n",
              "    <tr>\n",
              "      <th>3</th>\n",
              "      <td>7</td>\n",
              "      <td>118</td>\n",
              "      <td>16</td>\n",
              "      <td>8</td>\n",
              "      <td>4</td>\n",
              "      <td>2</td>\n",
              "      <td>0</td>\n",
              "      <td>0</td>\n",
              "      <td>4</td>\n",
              "      <td>0</td>\n",
              "      <td>0</td>\n",
              "      <td>0</td>\n",
              "    </tr>\n",
              "    <tr>\n",
              "      <th>4</th>\n",
              "      <td>9</td>\n",
              "      <td>119</td>\n",
              "      <td>15</td>\n",
              "      <td>5</td>\n",
              "      <td>4</td>\n",
              "      <td>2</td>\n",
              "      <td>0</td>\n",
              "      <td>0</td>\n",
              "      <td>4</td>\n",
              "      <td>0</td>\n",
              "      <td>0</td>\n",
              "      <td>0</td>\n",
              "    </tr>\n",
              "    <tr>\n",
              "      <th>...</th>\n",
              "      <td>...</td>\n",
              "      <td>...</td>\n",
              "      <td>...</td>\n",
              "      <td>...</td>\n",
              "      <td>...</td>\n",
              "      <td>...</td>\n",
              "      <td>...</td>\n",
              "      <td>...</td>\n",
              "      <td>...</td>\n",
              "      <td>...</td>\n",
              "      <td>...</td>\n",
              "      <td>...</td>\n",
              "    </tr>\n",
              "    <tr>\n",
              "      <th>2071</th>\n",
              "      <td>12</td>\n",
              "      <td>128</td>\n",
              "      <td>17</td>\n",
              "      <td>5</td>\n",
              "      <td>1</td>\n",
              "      <td>2</td>\n",
              "      <td>1</td>\n",
              "      <td>8</td>\n",
              "      <td>4</td>\n",
              "      <td>0</td>\n",
              "      <td>0</td>\n",
              "      <td>5</td>\n",
              "    </tr>\n",
              "    <tr>\n",
              "      <th>2072</th>\n",
              "      <td>7</td>\n",
              "      <td>33</td>\n",
              "      <td>21</td>\n",
              "      <td>3</td>\n",
              "      <td>1</td>\n",
              "      <td>2</td>\n",
              "      <td>1</td>\n",
              "      <td>0</td>\n",
              "      <td>4</td>\n",
              "      <td>1</td>\n",
              "      <td>0</td>\n",
              "      <td>0</td>\n",
              "    </tr>\n",
              "    <tr>\n",
              "      <th>2073</th>\n",
              "      <td>7</td>\n",
              "      <td>17</td>\n",
              "      <td>7</td>\n",
              "      <td>11</td>\n",
              "      <td>4</td>\n",
              "      <td>2</td>\n",
              "      <td>1</td>\n",
              "      <td>0</td>\n",
              "      <td>3</td>\n",
              "      <td>0</td>\n",
              "      <td>0</td>\n",
              "      <td>0</td>\n",
              "    </tr>\n",
              "    <tr>\n",
              "      <th>2074</th>\n",
              "      <td>8</td>\n",
              "      <td>14</td>\n",
              "      <td>11</td>\n",
              "      <td>14</td>\n",
              "      <td>4</td>\n",
              "      <td>13</td>\n",
              "      <td>1</td>\n",
              "      <td>0</td>\n",
              "      <td>5</td>\n",
              "      <td>0</td>\n",
              "      <td>0</td>\n",
              "      <td>0</td>\n",
              "    </tr>\n",
              "    <tr>\n",
              "      <th>2075</th>\n",
              "      <td>8</td>\n",
              "      <td>31</td>\n",
              "      <td>11</td>\n",
              "      <td>7</td>\n",
              "      <td>4</td>\n",
              "      <td>2</td>\n",
              "      <td>1</td>\n",
              "      <td>0</td>\n",
              "      <td>5</td>\n",
              "      <td>0</td>\n",
              "      <td>0</td>\n",
              "      <td>0</td>\n",
              "    </tr>\n",
              "  </tbody>\n",
              "</table>\n",
              "<p>2076 rows × 12 columns</p>\n",
              "</div>\n",
              "      <button class=\"colab-df-convert\" onclick=\"convertToInteractive('df-9d6314b1-b4d4-40eb-bb20-b8fc7a40b5f3')\"\n",
              "              title=\"Convert this dataframe to an interactive table.\"\n",
              "              style=\"display:none;\">\n",
              "        \n",
              "  <svg xmlns=\"http://www.w3.org/2000/svg\" height=\"24px\"viewBox=\"0 0 24 24\"\n",
              "       width=\"24px\">\n",
              "    <path d=\"M0 0h24v24H0V0z\" fill=\"none\"/>\n",
              "    <path d=\"M18.56 5.44l.94 2.06.94-2.06 2.06-.94-2.06-.94-.94-2.06-.94 2.06-2.06.94zm-11 1L8.5 8.5l.94-2.06 2.06-.94-2.06-.94L8.5 2.5l-.94 2.06-2.06.94zm10 10l.94 2.06.94-2.06 2.06-.94-2.06-.94-.94-2.06-.94 2.06-2.06.94z\"/><path d=\"M17.41 7.96l-1.37-1.37c-.4-.4-.92-.59-1.43-.59-.52 0-1.04.2-1.43.59L10.3 9.45l-7.72 7.72c-.78.78-.78 2.05 0 2.83L4 21.41c.39.39.9.59 1.41.59.51 0 1.02-.2 1.41-.59l7.78-7.78 2.81-2.81c.8-.78.8-2.07 0-2.86zM5.41 20L4 18.59l7.72-7.72 1.47 1.35L5.41 20z\"/>\n",
              "  </svg>\n",
              "      </button>\n",
              "      \n",
              "  <style>\n",
              "    .colab-df-container {\n",
              "      display:flex;\n",
              "      flex-wrap:wrap;\n",
              "      gap: 12px;\n",
              "    }\n",
              "\n",
              "    .colab-df-convert {\n",
              "      background-color: #E8F0FE;\n",
              "      border: none;\n",
              "      border-radius: 50%;\n",
              "      cursor: pointer;\n",
              "      display: none;\n",
              "      fill: #1967D2;\n",
              "      height: 32px;\n",
              "      padding: 0 0 0 0;\n",
              "      width: 32px;\n",
              "    }\n",
              "\n",
              "    .colab-df-convert:hover {\n",
              "      background-color: #E2EBFA;\n",
              "      box-shadow: 0px 1px 2px rgba(60, 64, 67, 0.3), 0px 1px 3px 1px rgba(60, 64, 67, 0.15);\n",
              "      fill: #174EA6;\n",
              "    }\n",
              "\n",
              "    [theme=dark] .colab-df-convert {\n",
              "      background-color: #3B4455;\n",
              "      fill: #D2E3FC;\n",
              "    }\n",
              "\n",
              "    [theme=dark] .colab-df-convert:hover {\n",
              "      background-color: #434B5C;\n",
              "      box-shadow: 0px 1px 3px 1px rgba(0, 0, 0, 0.15);\n",
              "      filter: drop-shadow(0px 1px 2px rgba(0, 0, 0, 0.3));\n",
              "      fill: #FFFFFF;\n",
              "    }\n",
              "  </style>\n",
              "\n",
              "      <script>\n",
              "        const buttonEl =\n",
              "          document.querySelector('#df-9d6314b1-b4d4-40eb-bb20-b8fc7a40b5f3 button.colab-df-convert');\n",
              "        buttonEl.style.display =\n",
              "          google.colab.kernel.accessAllowed ? 'block' : 'none';\n",
              "\n",
              "        async function convertToInteractive(key) {\n",
              "          const element = document.querySelector('#df-9d6314b1-b4d4-40eb-bb20-b8fc7a40b5f3');\n",
              "          const dataTable =\n",
              "            await google.colab.kernel.invokeFunction('convertToInteractive',\n",
              "                                                     [key], {});\n",
              "          if (!dataTable) return;\n",
              "\n",
              "          const docLinkHtml = 'Like what you see? Visit the ' +\n",
              "            '<a target=\"_blank\" href=https://colab.research.google.com/notebooks/data_table.ipynb>data table notebook</a>'\n",
              "            + ' to learn more about interactive tables.';\n",
              "          element.innerHTML = '';\n",
              "          dataTable['output_type'] = 'display_data';\n",
              "          await google.colab.output.renderOutput(dataTable, element);\n",
              "          const docLink = document.createElement('div');\n",
              "          docLink.innerHTML = docLinkHtml;\n",
              "          element.appendChild(docLink);\n",
              "        }\n",
              "      </script>\n",
              "    </div>\n",
              "  </div>\n",
              "  "
            ]
          },
          "metadata": {},
          "execution_count": 149
        }
      ]
    },
    {
      "cell_type": "code",
      "source": [
        "# define the undersampling method\n",
        "undersample = NearMiss(version=1, n_neighbors=3)\n",
        "X, y = undersample.fit_resample(X, y)"
      ],
      "metadata": {
        "id": "67aLq-ZwtXV_"
      },
      "execution_count": 167,
      "outputs": []
    },
    {
      "cell_type": "markdown",
      "source": [
        "## Random Forest 3"
      ],
      "metadata": {
        "id": "HDMtF13cwVhU"
      }
    },
    {
      "cell_type": "code",
      "source": [
        "X_train, X_test, y_train, y_test = train_test_split(X, y, test_size=0.3, random_state=0)\n",
        "\n",
        "scaler = StandardScaler().fit(X_train)\n",
        "X_train_scaled = scaler.transform(X_train)\n",
        "X_test_scaled = scaler.transform(X_test)"
      ],
      "metadata": {
        "id": "86x6RPoRtcae"
      },
      "execution_count": 168,
      "outputs": []
    },
    {
      "cell_type": "code",
      "source": [
        "# find best parameters for a random forest and train using best found estimator\n",
        "params = {\n",
        "    'n_estimators': [100, 500, 1000],\n",
        "    'criterion': ['gini', 'entropy'],\n",
        "    'min_samples_split': [2, 4, 5, 10, 13],\n",
        "    'min_samples_leaf': [1, 2, 5, 8, 13]\n",
        "}\n",
        "\n",
        "forest = GridSearchCV(RandomForestClassifier(random_state=0), params)\n",
        "forest.fit(X_train, y_train)"
      ],
      "metadata": {
        "colab": {
          "base_uri": "https://localhost:8080/"
        },
        "id": "qjqaXDwetelY",
        "outputId": "160de3fc-5ff0-42ec-9672-2bfa325f11bc"
      },
      "execution_count": 150,
      "outputs": [
        {
          "output_type": "execute_result",
          "data": {
            "text/plain": [
              "GridSearchCV(estimator=RandomForestClassifier(random_state=0),\n",
              "             param_grid={'criterion': ['gini', 'entropy'],\n",
              "                         'min_samples_leaf': [1, 2, 5, 8, 13],\n",
              "                         'min_samples_split': [2, 4, 5, 10, 13],\n",
              "                         'n_estimators': [100, 500, 1000]})"
            ]
          },
          "metadata": {},
          "execution_count": 150
        }
      ]
    },
    {
      "cell_type": "code",
      "source": [
        "forest.best_estimator_ # params of best estimator"
      ],
      "metadata": {
        "colab": {
          "base_uri": "https://localhost:8080/"
        },
        "id": "6kaRQJO_tmTo",
        "outputId": "44bfc89c-8a08-4953-b2fd-8647cd6c8dee"
      },
      "execution_count": 151,
      "outputs": [
        {
          "output_type": "execute_result",
          "data": {
            "text/plain": [
              "RandomForestClassifier(min_samples_split=4, n_estimators=1000, random_state=0)"
            ]
          },
          "metadata": {},
          "execution_count": 151
        }
      ]
    },
    {
      "cell_type": "markdown",
      "source": [
        "### Model Evaluation"
      ],
      "metadata": {
        "id": "JRlolxIex6C2"
      }
    },
    {
      "cell_type": "code",
      "source": [
        "plot_confusion_matrix(forest.best_estimator_, X_test, y_test)  \n",
        "plt.show();"
      ],
      "metadata": {
        "colab": {
          "base_uri": "https://localhost:8080/",
          "height": 279
        },
        "id": "rScM9dapxW9Q",
        "outputId": "ae2e05f1-da03-459a-9ddd-377fb49834fa"
      },
      "execution_count": 152,
      "outputs": [
        {
          "output_type": "display_data",
          "data": {
            "text/plain": [
              "<Figure size 432x288 with 2 Axes>"
            ],
            "image/png": "[encoded data removed]"
          },
          "metadata": {
            "needs_background": "light"
          }
        }
      ]
    },
    {
      "cell_type": "code",
      "source": [
        "y_pred = forest.best_estimator_.predict(X_test)\n",
        "accuracy = round(accuracy_score(y_test, y_pred)*100,2)\n",
        "precision = round(precision_score(y_test, y_pred, average='weighted')*100,2)\n",
        "recall = round(recall_score(y_test, y_pred, average='weighted')*100,2)\n",
        "f1 = round(f1_score(y_test, y_pred, average='weighted')*100,2)\n",
        "\n",
        "print(\"{0:17} {1:10} {2:10} {3:10} {4:}\".format(\"----------------\", \"---------\", \"---------\", \"---------\", \"---------\"))\n",
        "print(\"{0:17} {1:10} {2:10} {3:10} {4:}\".format(\"MODEL\", \"ACCURACY\", \"PRECISION\", \"RECALL\", \"F1\"))\n",
        "print(\"{0:17} {1:10} {2:10} {3:10} {4:}\".format(\"----------------\", \"---------\", \"---------\", \"---------\", \"---------\"))\n",
        "print(\"{0:17} {1:} {2:10} {3:10} {4:10}\".format(\"random forest 3\", accuracy, precision, recall, f1))"
      ],
      "metadata": {
        "colab": {
          "base_uri": "https://localhost:8080/"
        },
        "id": "Ux1InuBbxZtU",
        "outputId": "3a64e6ef-b3e1-443e-fbf1-ed6f884ce6b0"
      },
      "execution_count": 153,
      "outputs": [
        {
          "output_type": "stream",
          "name": "stdout",
          "text": [
            "----------------  ---------  ---------  ---------  ---------\n",
            "MODEL             ACCURACY   PRECISION  RECALL     F1\n",
            "----------------  ---------  ---------  ---------  ---------\n",
            "random forest 3   79.45      79.48      79.45      79.45\n"
          ]
        }
      ]
    },
    {
      "cell_type": "markdown",
      "source": [
        "## Neural Network 3"
      ],
      "metadata": {
        "id": "8cCLE29szACw"
      }
    },
    {
      "cell_type": "code",
      "source": [
        "params = {\n",
        "    'hidden_layer_sizes': [(50,50,50), (50,100,50), (100,)],\n",
        "    'activation': ['tanh', 'relu'],\n",
        "    'solver': ['sgd', 'adam'],\n",
        "    'alpha': [0.0001, 0.05],\n",
        "    'learning_rate': ['constant','adaptive'],\n",
        "}\n",
        "mlp = MLPClassifier(max_iter=100)\n",
        "nn = GridSearchCV(mlp, params, n_jobs=-1, cv=3)\n",
        "nn.fit(X_train, y_train)"
      ],
      "metadata": {
        "colab": {
          "base_uri": "https://localhost:8080/"
        },
        "id": "ezYBNgBhzQHV",
        "outputId": "6abda5ee-c926-4a62-917a-f9c2b309eb10"
      },
      "execution_count": 169,
      "outputs": [
        {
          "output_type": "execute_result",
          "data": {
            "text/plain": [
              "GridSearchCV(cv=3, estimator=MLPClassifier(max_iter=100), n_jobs=-1,\n",
              "             param_grid={'activation': ['tanh', 'relu'],\n",
              "                         'alpha': [0.0001, 0.05],\n",
              "                         'hidden_layer_sizes': [(50, 50, 50), (50, 100, 50),\n",
              "                                                (100,)],\n",
              "                         'learning_rate': ['constant', 'adaptive'],\n",
              "                         'solver': ['sgd', 'adam']})"
            ]
          },
          "metadata": {},
          "execution_count": 169
        }
      ]
    },
    {
      "cell_type": "code",
      "source": [
        "forest.best_estimator_ # params of best estimator"
      ],
      "metadata": {
        "colab": {
          "base_uri": "https://localhost:8080/"
        },
        "id": "IuYLFNzkzWbW",
        "outputId": "2ebcadf8-63b1-4627-8a15-4207107a3ad7"
      },
      "execution_count": 170,
      "outputs": [
        {
          "output_type": "execute_result",
          "data": {
            "text/plain": [
              "RandomForestClassifier(min_samples_split=4, n_estimators=1000, random_state=0)"
            ]
          },
          "metadata": {},
          "execution_count": 170
        }
      ]
    },
    {
      "cell_type": "markdown",
      "source": [
        "### Model Evaluation"
      ],
      "metadata": {
        "id": "i1tjpsNhzcKF"
      }
    },
    {
      "cell_type": "code",
      "source": [
        "plot_confusion_matrix(nn.best_estimator_, X_test, y_test)  \n",
        "plt.show();"
      ],
      "metadata": {
        "colab": {
          "base_uri": "https://localhost:8080/",
          "height": 279
        },
        "id": "1lK3m822zbLI",
        "outputId": "09ed7d53-e156-4769-9ba1-50ee3e17ca71"
      },
      "execution_count": 172,
      "outputs": [
        {
          "output_type": "display_data",
          "data": {
            "text/plain": [
              "<Figure size 432x288 with 2 Axes>"
            ],
            "image/png": "[encoded data removed]"
          },
          "metadata": {
            "needs_background": "light"
          }
        }
      ]
    },
    {
      "cell_type": "code",
      "source": [
        "y_pred = forest.best_estimator_.predict(X_test)\n",
        "accuracy = round(accuracy_score(y_test, y_pred)*100,2)\n",
        "precision = round(precision_score(y_test, y_pred, average='weighted')*100,2)\n",
        "recall = round(recall_score(y_test, y_pred, average='weighted')*100,2)\n",
        "f1 = round(f1_score(y_test, y_pred, average='weighted')*100,2)\n",
        "\n",
        "print(\"{0:17} {1:10} {2:10} {3:10} {4:}\".format(\"----------------\", \"---------\", \"---------\", \"---------\", \"---------\"))\n",
        "print(\"{0:17} {1:10} {2:10} {3:10} {4:}\".format(\"MODEL\", \"ACCURACY\", \"PRECISION\", \"RECALL\", \"F1\"))\n",
        "print(\"{0:17} {1:10} {2:10} {3:10} {4:}\".format(\"----------------\", \"---------\", \"---------\", \"---------\", \"---------\"))\n",
        "print(\"{0:17} {1:} {2:10} {3:10} {4:10}\".format(\"neural network 3\", accuracy, precision, recall, f1))"
      ],
      "metadata": {
        "colab": {
          "base_uri": "https://localhost:8080/"
        },
        "id": "DCxiB0iCxgUe",
        "outputId": "4e0d2cb4-6147-4f57-8adf-7c61c0ef0d03"
      },
      "execution_count": 173,
      "outputs": [
        {
          "output_type": "stream",
          "name": "stdout",
          "text": [
            "----------------  ---------  ---------  ---------  ---------\n",
            "MODEL             ACCURACY   PRECISION  RECALL     F1\n",
            "----------------  ---------  ---------  ---------  ---------\n",
            "neural network 3  79.45      79.48      79.45      79.45\n"
          ]
        }
      ]
    },
    {
      "cell_type": "markdown",
      "source": [
        "**NOTE!**<br>\n",
        "Results are still satisfactory after reducing features from 54 to 12 features!"
      ],
      "metadata": {
        "id": "yD1eQDRE0Kqo"
      }
    },
    {
      "cell_type": "code",
      "source": [
        ""
      ],
      "metadata": {
        "id": "GwrLVaRw0EPw"
      },
      "execution_count": null,
      "outputs": []
    }
  ]
}