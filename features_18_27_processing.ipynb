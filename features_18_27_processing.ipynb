{
  "nbformat": 4,
  "nbformat_minor": 0,
  "metadata": {
    "colab": {
      "name": "features_18_27_processing.ipynb",
      "provenance": [],
      "collapsed_sections": [],
      "authorship_tag": "ABX9TyOmagl3Dc6wPSLTZupkXVaN",
      "include_colab_link": true
    },
    "kernelspec": {
      "name": "python3",
      "display_name": "Python 3"
    },
    "language_info": {
      "name": "python"
    }
  },
  "cells": [
    {
      "cell_type": "markdown",
      "metadata": {
        "id": "view-in-github",
        "colab_type": "text"
      },
      "source": [
        "<a href=\"https://colab.research.google.com/github/ElviraKonovalov/soen471-bigData/blob/main/features_18_27_processing.ipynb\" target=\"_parent\"><img src=\"https://colab.research.google.com/assets/colab-badge.svg\" alt=\"Open In Colab\"/></a>"
      ]
    },
    {
      "cell_type": "code",
      "source": [
        "import pandas as pd\n",
        "import matplotlib.pyplot as plt"
      ],
      "metadata": {
        "id": "a8_GhRTXeD_U"
      },
      "execution_count": 65,
      "outputs": []
    },
    {
      "cell_type": "code",
      "source": [
        "file = 'Motor Vehicle Collisions with KSI Data.csv'\n",
        "df=  pd.read_csv(file, sep=',');\n",
        "\n",
        "columns_to_drop = ['_id', 'ACCNUM', 'TIME', 'OFFSET', 'WARDNUM', 'DIVISION', 'ACCLOC', 'FATAL_NO', 'PEDTYPE', 'PEDACT', 'PEDCOND', 'CYCLISTYPE', 'CYCACT', 'CYCCOND', 'POLICE_DIVISION', 'ObjectId', 'geometry']\n",
        "df = df.drop(columns=columns_to_drop)\n",
        "\n",
        "df3 = df.iloc[:, 18:27]\n",
        "\n",
        "\"\"\"\n",
        "LIGHT - keep - dictates to some degree the visibility that the driver had\n",
        "LOCCOORD - keep - intersection are usually busier than mid-block\n",
        "MANOEUVER - keep - turning left and right has dead spots that the driver might've missed\n",
        "MOTORCYCLE - keep? - usually move at higher speed and are smaller than a car, therefore harder to notice\n",
        "NEIGHBOURDHOOD - discard - there's already HOOD_ID\n",
        "PASSENGER - keep - passenger can be a distraction for the driver\n",
        "PEDESTRIAN - keep? - can have unpredictable movement, more than a vehicule\n",
        "RDSFCOND - keep - dry condition result to shorter breaking distance, which can help avoid certain collisions\n",
        "REDLIGHT - keep? - if a driver burns a red light theres high probability of having an accident\n",
        "\"\"\"\n",
        "\n",
        "columns_to_drop = ['NEIGHBOURHOOD']\n",
        "df3 = df3.drop(columns=columns_to_drop)\n",
        "\n",
        "df3"
      ],
      "metadata": {
        "colab": {
          "base_uri": "https://localhost:8080/",
          "height": 458
        },
        "id": "deXu-T6UeF93",
        "outputId": "b8aa6714-b6c2-44f1-d0e2-40ef7d2109fc"
      },
      "execution_count": 66,
      "outputs": [
        {
          "output_type": "stream",
          "name": "stderr",
          "text": [
            "/usr/local/lib/python3.7/dist-packages/IPython/core/interactiveshell.py:2882: DtypeWarning: Columns (16) have mixed types.Specify dtype option on import or set low_memory=False.\n",
            "  exec(code_obj, self.user_global_ns, self.user_ns)\n"
          ]
        },
        {
          "output_type": "execute_result",
          "data": {
            "text/plain": [
              "          LIGHT      LOCCOORD            MANOEUVER MOTORCYCLE PASSENGER  \\\n",
              "0      Daylight  Intersection         Turning Left        NaN       NaN   \n",
              "1      Daylight  Intersection                  NaN        NaN       NaN   \n",
              "2      Daylight  Intersection        Turning Right        Yes       NaN   \n",
              "3      Daylight  Intersection          Going Ahead        Yes       NaN   \n",
              "4          Dark     Mid-Block          Going Ahead        NaN       NaN   \n",
              "...         ...           ...                  ...        ...       ...   \n",
              "16855  Daylight     Mid-Block          Going Ahead        NaN       NaN   \n",
              "16856  Daylight  Intersection         Turning Left        NaN       Yes   \n",
              "16857  Daylight  Intersection          Going Ahead        NaN       Yes   \n",
              "16858  Daylight  Intersection                  NaN        NaN       Yes   \n",
              "16859  Daylight     Mid-Block  Slowing or Stopping        NaN       NaN   \n",
              "\n",
              "      PEDESTRIAN RDSFCOND REDLIGHT  \n",
              "0            Yes      Dry      NaN  \n",
              "1            Yes      Dry      NaN  \n",
              "2            NaN      Dry      Yes  \n",
              "3            NaN      Dry      Yes  \n",
              "4            Yes      Dry      NaN  \n",
              "...          ...      ...      ...  \n",
              "16855        NaN      Dry      NaN  \n",
              "16856        NaN      Dry      NaN  \n",
              "16857        NaN      Dry      NaN  \n",
              "16858        NaN      Dry      NaN  \n",
              "16859        NaN      Dry      NaN  \n",
              "\n",
              "[16860 rows x 8 columns]"
            ],
            "text/html": [
              "\n",
              "  <div id=\"df-0715ee7e-0c7a-43c6-ba9b-7f9fb54f31af\">\n",
              "    <div class=\"colab-df-container\">\n",
              "      <div>\n",
              "<style scoped>\n",
              "    .dataframe tbody tr th:only-of-type {\n",
              "        vertical-align: middle;\n",
              "    }\n",
              "\n",
              "    .dataframe tbody tr th {\n",
              "        vertical-align: top;\n",
              "    }\n",
              "\n",
              "    .dataframe thead th {\n",
              "        text-align: right;\n",
              "    }\n",
              "</style>\n",
              "<table border=\"1\" class=\"dataframe\">\n",
              "  <thead>\n",
              "    <tr style=\"text-align: right;\">\n",
              "      <th></th>\n",
              "      <th>LIGHT</th>\n",
              "      <th>LOCCOORD</th>\n",
              "      <th>MANOEUVER</th>\n",
              "      <th>MOTORCYCLE</th>\n",
              "      <th>PASSENGER</th>\n",
              "      <th>PEDESTRIAN</th>\n",
              "      <th>RDSFCOND</th>\n",
              "      <th>REDLIGHT</th>\n",
              "    </tr>\n",
              "  </thead>\n",
              "  <tbody>\n",
              "    <tr>\n",
              "      <th>0</th>\n",
              "      <td>Daylight</td>\n",
              "      <td>Intersection</td>\n",
              "      <td>Turning Left</td>\n",
              "      <td>NaN</td>\n",
              "      <td>NaN</td>\n",
              "      <td>Yes</td>\n",
              "      <td>Dry</td>\n",
              "      <td>NaN</td>\n",
              "    </tr>\n",
              "    <tr>\n",
              "      <th>1</th>\n",
              "      <td>Daylight</td>\n",
              "      <td>Intersection</td>\n",
              "      <td>NaN</td>\n",
              "      <td>NaN</td>\n",
              "      <td>NaN</td>\n",
              "      <td>Yes</td>\n",
              "      <td>Dry</td>\n",
              "      <td>NaN</td>\n",
              "    </tr>\n",
              "    <tr>\n",
              "      <th>2</th>\n",
              "      <td>Daylight</td>\n",
              "      <td>Intersection</td>\n",
              "      <td>Turning Right</td>\n",
              "      <td>Yes</td>\n",
              "      <td>NaN</td>\n",
              "      <td>NaN</td>\n",
              "      <td>Dry</td>\n",
              "      <td>Yes</td>\n",
              "    </tr>\n",
              "    <tr>\n",
              "      <th>3</th>\n",
              "      <td>Daylight</td>\n",
              "      <td>Intersection</td>\n",
              "      <td>Going Ahead</td>\n",
              "      <td>Yes</td>\n",
              "      <td>NaN</td>\n",
              "      <td>NaN</td>\n",
              "      <td>Dry</td>\n",
              "      <td>Yes</td>\n",
              "    </tr>\n",
              "    <tr>\n",
              "      <th>4</th>\n",
              "      <td>Dark</td>\n",
              "      <td>Mid-Block</td>\n",
              "      <td>Going Ahead</td>\n",
              "      <td>NaN</td>\n",
              "      <td>NaN</td>\n",
              "      <td>Yes</td>\n",
              "      <td>Dry</td>\n",
              "      <td>NaN</td>\n",
              "    </tr>\n",
              "    <tr>\n",
              "      <th>...</th>\n",
              "      <td>...</td>\n",
              "      <td>...</td>\n",
              "      <td>...</td>\n",
              "      <td>...</td>\n",
              "      <td>...</td>\n",
              "      <td>...</td>\n",
              "      <td>...</td>\n",
              "      <td>...</td>\n",
              "    </tr>\n",
              "    <tr>\n",
              "      <th>16855</th>\n",
              "      <td>Daylight</td>\n",
              "      <td>Mid-Block</td>\n",
              "      <td>Going Ahead</td>\n",
              "      <td>NaN</td>\n",
              "      <td>NaN</td>\n",
              "      <td>NaN</td>\n",
              "      <td>Dry</td>\n",
              "      <td>NaN</td>\n",
              "    </tr>\n",
              "    <tr>\n",
              "      <th>16856</th>\n",
              "      <td>Daylight</td>\n",
              "      <td>Intersection</td>\n",
              "      <td>Turning Left</td>\n",
              "      <td>NaN</td>\n",
              "      <td>Yes</td>\n",
              "      <td>NaN</td>\n",
              "      <td>Dry</td>\n",
              "      <td>NaN</td>\n",
              "    </tr>\n",
              "    <tr>\n",
              "      <th>16857</th>\n",
              "      <td>Daylight</td>\n",
              "      <td>Intersection</td>\n",
              "      <td>Going Ahead</td>\n",
              "      <td>NaN</td>\n",
              "      <td>Yes</td>\n",
              "      <td>NaN</td>\n",
              "      <td>Dry</td>\n",
              "      <td>NaN</td>\n",
              "    </tr>\n",
              "    <tr>\n",
              "      <th>16858</th>\n",
              "      <td>Daylight</td>\n",
              "      <td>Intersection</td>\n",
              "      <td>NaN</td>\n",
              "      <td>NaN</td>\n",
              "      <td>Yes</td>\n",
              "      <td>NaN</td>\n",
              "      <td>Dry</td>\n",
              "      <td>NaN</td>\n",
              "    </tr>\n",
              "    <tr>\n",
              "      <th>16859</th>\n",
              "      <td>Daylight</td>\n",
              "      <td>Mid-Block</td>\n",
              "      <td>Slowing or Stopping</td>\n",
              "      <td>NaN</td>\n",
              "      <td>NaN</td>\n",
              "      <td>NaN</td>\n",
              "      <td>Dry</td>\n",
              "      <td>NaN</td>\n",
              "    </tr>\n",
              "  </tbody>\n",
              "</table>\n",
              "<p>16860 rows × 8 columns</p>\n",
              "</div>\n",
              "      <button class=\"colab-df-convert\" onclick=\"convertToInteractive('df-0715ee7e-0c7a-43c6-ba9b-7f9fb54f31af')\"\n",
              "              title=\"Convert this dataframe to an interactive table.\"\n",
              "              style=\"display:none;\">\n",
              "        \n",
              "  <svg xmlns=\"http://www.w3.org/2000/svg\" height=\"24px\"viewBox=\"0 0 24 24\"\n",
              "       width=\"24px\">\n",
              "    <path d=\"M0 0h24v24H0V0z\" fill=\"none\"/>\n",
              "    <path d=\"M18.56 5.44l.94 2.06.94-2.06 2.06-.94-2.06-.94-.94-2.06-.94 2.06-2.06.94zm-11 1L8.5 8.5l.94-2.06 2.06-.94-2.06-.94L8.5 2.5l-.94 2.06-2.06.94zm10 10l.94 2.06.94-2.06 2.06-.94-2.06-.94-.94-2.06-.94 2.06-2.06.94z\"/><path d=\"M17.41 7.96l-1.37-1.37c-.4-.4-.92-.59-1.43-.59-.52 0-1.04.2-1.43.59L10.3 9.45l-7.72 7.72c-.78.78-.78 2.05 0 2.83L4 21.41c.39.39.9.59 1.41.59.51 0 1.02-.2 1.41-.59l7.78-7.78 2.81-2.81c.8-.78.8-2.07 0-2.86zM5.41 20L4 18.59l7.72-7.72 1.47 1.35L5.41 20z\"/>\n",
              "  </svg>\n",
              "      </button>\n",
              "      \n",
              "  <style>\n",
              "    .colab-df-container {\n",
              "      display:flex;\n",
              "      flex-wrap:wrap;\n",
              "      gap: 12px;\n",
              "    }\n",
              "\n",
              "    .colab-df-convert {\n",
              "      background-color: #E8F0FE;\n",
              "      border: none;\n",
              "      border-radius: 50%;\n",
              "      cursor: pointer;\n",
              "      display: none;\n",
              "      fill: #1967D2;\n",
              "      height: 32px;\n",
              "      padding: 0 0 0 0;\n",
              "      width: 32px;\n",
              "    }\n",
              "\n",
              "    .colab-df-convert:hover {\n",
              "      background-color: #E2EBFA;\n",
              "      box-shadow: 0px 1px 2px rgba(60, 64, 67, 0.3), 0px 1px 3px 1px rgba(60, 64, 67, 0.15);\n",
              "      fill: #174EA6;\n",
              "    }\n",
              "\n",
              "    [theme=dark] .colab-df-convert {\n",
              "      background-color: #3B4455;\n",
              "      fill: #D2E3FC;\n",
              "    }\n",
              "\n",
              "    [theme=dark] .colab-df-convert:hover {\n",
              "      background-color: #434B5C;\n",
              "      box-shadow: 0px 1px 3px 1px rgba(0, 0, 0, 0.15);\n",
              "      filter: drop-shadow(0px 1px 2px rgba(0, 0, 0, 0.3));\n",
              "      fill: #FFFFFF;\n",
              "    }\n",
              "  </style>\n",
              "\n",
              "      <script>\n",
              "        const buttonEl =\n",
              "          document.querySelector('#df-0715ee7e-0c7a-43c6-ba9b-7f9fb54f31af button.colab-df-convert');\n",
              "        buttonEl.style.display =\n",
              "          google.colab.kernel.accessAllowed ? 'block' : 'none';\n",
              "\n",
              "        async function convertToInteractive(key) {\n",
              "          const element = document.querySelector('#df-0715ee7e-0c7a-43c6-ba9b-7f9fb54f31af');\n",
              "          const dataTable =\n",
              "            await google.colab.kernel.invokeFunction('convertToInteractive',\n",
              "                                                     [key], {});\n",
              "          if (!dataTable) return;\n",
              "\n",
              "          const docLinkHtml = 'Like what you see? Visit the ' +\n",
              "            '<a target=\"_blank\" href=https://colab.research.google.com/notebooks/data_table.ipynb>data table notebook</a>'\n",
              "            + ' to learn more about interactive tables.';\n",
              "          element.innerHTML = '';\n",
              "          dataTable['output_type'] = 'display_data';\n",
              "          await google.colab.output.renderOutput(dataTable, element);\n",
              "          const docLink = document.createElement('div');\n",
              "          docLink.innerHTML = docLinkHtml;\n",
              "          element.appendChild(docLink);\n",
              "        }\n",
              "      </script>\n",
              "    </div>\n",
              "  </div>\n",
              "  "
            ]
          },
          "metadata": {},
          "execution_count": 66
        }
      ]
    },
    {
      "cell_type": "code",
      "source": [
        "#LIGHT\n",
        "df3.LIGHT.unique()\n",
        "\n",
        "# \"Other\" is a value in this column"
      ],
      "metadata": {
        "colab": {
          "base_uri": "https://localhost:8080/"
        },
        "id": "7G4yc0-tgHr2",
        "outputId": "a7afea4c-3f41-45bc-d27d-f6a7c7fa9a99"
      },
      "execution_count": 67,
      "outputs": [
        {
          "output_type": "execute_result",
          "data": {
            "text/plain": [
              "array(['Daylight', 'Dark', 'Dawn, artificial', 'Dusk, artificial', 'Dusk',\n",
              "       'Dark, artificial', 'Dawn', 'Daylight, artificial', 'Other'],\n",
              "      dtype=object)"
            ]
          },
          "metadata": {},
          "execution_count": 67
        }
      ]
    },
    {
      "cell_type": "code",
      "source": [
        "#LOCCOORD\n",
        "df3.LOCCOORD.unique()\n",
        "df3.LOCCOORD.isnull().sum() # 105"
      ],
      "metadata": {
        "colab": {
          "base_uri": "https://localhost:8080/"
        },
        "id": "fRQzMqVAgTUd",
        "outputId": "03328cd3-820e-4097-db71-c5ddf5c93468"
      },
      "execution_count": 68,
      "outputs": [
        {
          "output_type": "execute_result",
          "data": {
            "text/plain": [
              "105"
            ]
          },
          "metadata": {},
          "execution_count": 68
        }
      ]
    },
    {
      "cell_type": "code",
      "source": [
        "#PEDESTRIAN\n",
        "#replace every \"NaN\" to False and \"Yes\" to True\n",
        "\n",
        "df3.PEDESTRIAN.unique()\n",
        "df3['PEDESTRIAN'] = df3['PEDESTRIAN'].replace('Yes',True)\n",
        "df3['PEDESTRIAN'] = df3['PEDESTRIAN'].fillna(False)\n"
      ],
      "metadata": {
        "id": "potgUa0hgsLT"
      },
      "execution_count": 69,
      "outputs": []
    },
    {
      "cell_type": "code",
      "source": [
        "#PASSENGER\n",
        "#replace every \"NaN\" to False and \"Yes\" to True\n",
        "\n",
        "df3.PASSENGER.unique()\n",
        "df3['PASSENGER'] = df3['PASSENGER'].replace('Yes',True)\n",
        "df3['PASSENGER'] = df3['PASSENGER'].fillna(False)"
      ],
      "metadata": {
        "id": "I8Lb56aDgV0u"
      },
      "execution_count": 70,
      "outputs": []
    },
    {
      "cell_type": "code",
      "source": [
        "#MOTORCYCLE\n",
        "#replace every \"NaN\" to False and \"Yes\" to True\n",
        "\n",
        "df3.MOTORCYCLE.unique()\n",
        "df3['MOTORCYCLE'] = df3['MOTORCYCLE'].replace('Yes',True)\n",
        "df3['MOTORCYCLE'] = df3['MOTORCYCLE'].fillna(False)"
      ],
      "metadata": {
        "id": "__VDaTGqihM7"
      },
      "execution_count": 71,
      "outputs": []
    },
    {
      "cell_type": "code",
      "source": [
        "df3.RDSFCOND.unique()\n",
        "df3.RDSFCOND.isnull().sum() # 23"
      ],
      "metadata": {
        "colab": {
          "base_uri": "https://localhost:8080/"
        },
        "id": "UOCoqAjyiv8k",
        "outputId": "6bb45b4d-eb8c-4ec2-91a0-11469532ef05"
      },
      "execution_count": 72,
      "outputs": [
        {
          "output_type": "execute_result",
          "data": {
            "text/plain": [
              "23"
            ]
          },
          "metadata": {},
          "execution_count": 72
        }
      ]
    },
    {
      "cell_type": "code",
      "source": [
        "#REDLIGHT\n",
        "#replace every \"NaN\" to False and \"Yes\" to True\n",
        "\n",
        "df3.REDLIGHT.unique()\n",
        "df3['REDLIGHT'] = df3['REDLIGHT'].replace('Yes',True)\n",
        "df3['REDLIGHT'] = df3['REDLIGHT'].fillna(False)"
      ],
      "metadata": {
        "id": "t8E2pt97izNI"
      },
      "execution_count": 73,
      "outputs": []
    },
    {
      "cell_type": "code",
      "source": [
        ""
      ],
      "metadata": {
        "id": "hl_iKFCAi4d3"
      },
      "execution_count": null,
      "outputs": []
    }
  ]
}