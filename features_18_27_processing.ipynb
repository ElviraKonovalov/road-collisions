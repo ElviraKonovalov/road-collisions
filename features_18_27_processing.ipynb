{
  "nbformat": 4,
  "nbformat_minor": 0,
  "metadata": {
    "colab": {
      "name": "features_18_27_processing.ipynb",
      "provenance": [],
      "authorship_tag": "ABX9TyMHK7scZcqNnfuo2c3X0dLG",
      "include_colab_link": true
    },
    "kernelspec": {
      "name": "python3",
      "display_name": "Python 3"
    },
    "language_info": {
      "name": "python"
    }
  },
  "cells": [
    {
      "cell_type": "markdown",
      "metadata": {
        "id": "view-in-github",
        "colab_type": "text"
      },
      "source": [
        "<a href=\"https://colab.research.google.com/github/ElviraKonovalov/soen471-bigData/blob/main/features_18_27_processing.ipynb\" target=\"_parent\"><img src=\"https://colab.research.google.com/assets/colab-badge.svg\" alt=\"Open In Colab\"/></a>"
      ]
    },
    {
      "cell_type": "code",
      "source": [
        "import pandas as pd\n",
        "import matplotlib.pyplot as plt"
      ],
      "metadata": {
        "id": "a8_GhRTXeD_U"
      },
      "execution_count": 1,
      "outputs": []
    },
    {
      "cell_type": "code",
      "source": [
        "file = 'Motor Vehicle Collisions with KSI Data.csv'\n",
        "df=  pd.read_csv(file, sep=',');"
      ],
      "metadata": {
        "id": "deXu-T6UeF93"
      },
      "execution_count": null,
      "outputs": []
    },
    {
      "cell_type": "code",
      "source": [
        "columns_to_drop = ['_id', 'ACCNUM', 'TIME', 'OFFSET', 'WARDNUM', 'DIVISION', 'ACCLOC', 'FATAL_NO', 'PEDTYPE', 'PEDACT', 'PEDCOND', 'CYCLISTYPE', 'CYCACT', 'CYCCOND', 'POLICE_DIVISION', 'ObjectId', 'geometry']\n",
        "df = df.drop(columns=columns_to_drop)"
      ],
      "metadata": {
        "id": "gjBXodtUeLyL"
      },
      "execution_count": null,
      "outputs": []
    },
    {
      "cell_type": "code",
      "execution_count": null,
      "metadata": {
        "colab": {
          "base_uri": "https://localhost:8080/",
          "height": 468
        },
        "id": "QMfH-uud2phn",
        "outputId": "d4932d9c-c02f-4b0a-c82c-201326a84229"
      },
      "outputs": [
        {
          "ename": "NameError",
          "evalue": "name 'df' is not defined",
          "output_type": "error",
          "traceback": [
            "\u001b[0;31m---------------------------------------------------------------------------\u001b[0m",
            "\u001b[0;31mNameError\u001b[0m                                 Traceback (most recent call last)",
            "\u001b[0;32m<ipython-input-1-d3c190165fdc>\u001b[0m in \u001b[0;36m<module>\u001b[0;34m\u001b[0m\n\u001b[0;32m----> 1\u001b[0;31m \u001b[0mdf\u001b[0m\u001b[0;34m.\u001b[0m\u001b[0miloc\u001b[0m\u001b[0;34m[\u001b[0m\u001b[0;34m:\u001b[0m\u001b[0;34m,\u001b[0m \u001b[0;36m18\u001b[0m\u001b[0;34m:\u001b[0m\u001b[0;36m27\u001b[0m\u001b[0;34m]\u001b[0m\u001b[0;34m\u001b[0m\u001b[0;34m\u001b[0m\u001b[0m\n\u001b[0m\u001b[1;32m      2\u001b[0m \u001b[0mcolumns_to_drop\u001b[0m\u001b[0;34m.\u001b[0m\u001b[0mappend\u001b[0m\u001b[0;34m(\u001b[0m\u001b[0;34m[\u001b[0m\u001b[0;34m'NEIGHBOURDHOOD'\u001b[0m\u001b[0;34m]\u001b[0m\u001b[0;34m)\u001b[0m\u001b[0;34m\u001b[0m\u001b[0;34m\u001b[0m\u001b[0m\n\u001b[1;32m      3\u001b[0m \"\"\"\n\u001b[1;32m      4\u001b[0m \u001b[0mLIGHT\u001b[0m \u001b[0;34m-\u001b[0m \u001b[0mkeep\u001b[0m \u001b[0;34m-\u001b[0m \u001b[0mdictates\u001b[0m \u001b[0mto\u001b[0m \u001b[0msome\u001b[0m \u001b[0mdegree\u001b[0m \u001b[0mthe\u001b[0m \u001b[0mvisibility\u001b[0m \u001b[0mthat\u001b[0m \u001b[0mthe\u001b[0m \u001b[0mdriver\u001b[0m \u001b[0mhad\u001b[0m\u001b[0;34m\u001b[0m\u001b[0;34m\u001b[0m\u001b[0m\n\u001b[1;32m      5\u001b[0m \u001b[0mLOCCOORD\u001b[0m \u001b[0;34m-\u001b[0m \u001b[0mkeep\u001b[0m \u001b[0;34m-\u001b[0m \u001b[0mintersection\u001b[0m \u001b[0mare\u001b[0m \u001b[0musually\u001b[0m \u001b[0mbusier\u001b[0m \u001b[0mthan\u001b[0m \u001b[0mmid\u001b[0m\u001b[0;34m-\u001b[0m\u001b[0mblock\u001b[0m\u001b[0;34m\u001b[0m\u001b[0;34m\u001b[0m\u001b[0m\n",
            "\u001b[0;31mNameError\u001b[0m: name 'df' is not defined"
          ]
        }
      ],
      "source": [
        "df.iloc[:, 18:27]\n",
        "columns_to_drop.append(['NEIGHBOURDHOOD'])\n",
        "\"\"\"\n",
        "LIGHT - keep - dictates to some degree the visibility that the driver had\n",
        "LOCCOORD - keep - intersection are usually busier than mid-block\n",
        "MANOEUVER - keep - turning left and right has dead spots that the driver might've missed\n",
        "MOTORCYCLE - keep? - usually move at higher speed and are smaller than a car, therefore harder to notice\n",
        "NEIGHBOURDHOOD - discard - there's already HOOD_ID\n",
        "PASSENGER - keep - passenger can be a distraction for the driver\n",
        "PEDESTRIAN - keep? - can have unpredictable movement, more than a vehicule\n",
        "RDSFCOND - keep - dry condition result to shorter breaking distance, which can help avoid certain collisions\n",
        "REDLIGHT - keep? - if a driver burns a red light theres high probability of having an accident\n",
        "\"\"\"\n",
        "\n",
        "df.drop(columns=columns_to_drop)\n",
        "df.iloc[:, 18:27]"
      ]
    }
  ]
}