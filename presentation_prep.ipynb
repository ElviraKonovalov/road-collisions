{
  "nbformat": 4,
  "nbformat_minor": 0,
  "metadata": {
    "colab": {
      "name": "presentation_prep.ipynb",
      "provenance": [],
      "authorship_tag": "ABX9TyOk2snhRtCcegNbFK1l1k0i",
      "include_colab_link": true
    },
    "kernelspec": {
      "name": "python3",
      "display_name": "Python 3"
    },
    "language_info": {
      "name": "python"
    }
  },
  "cells": [
    {
      "cell_type": "markdown",
      "metadata": {
        "id": "view-in-github",
        "colab_type": "text"
      },
      "source": [
        "<a href=\"https://colab.research.google.com/github/ElviraKonovalov/soen471-bigData/blob/main/presentation_prep.ipynb\" target=\"_parent\"><img src=\"https://colab.research.google.com/assets/colab-badge.svg\" alt=\"Open In Colab\"/></a>"
      ]
    },
    {
      "cell_type": "code",
      "source": [
        "import pandas as pd\n",
        "import matplotlib.pyplot as plt\n",
        "import numpy as np\n",
        "import time\n",
        "import warnings\n",
        "warnings.filterwarnings('ignore')\n",
        "\n",
        "from sklearn.model_selection import train_test_split\n",
        "from sklearn.ensemble import RandomForestClassifier\n",
        "from sklearn.neural_network import MLPClassifier\n",
        "from sklearn.preprocessing import StandardScaler\n",
        "from sklearn.inspection import permutation_importance\n",
        "from sklearn.model_selection import GridSearchCV\n",
        "from sklearn.metrics import plot_confusion_matrix\n",
        "from sklearn.metrics import accuracy_score\n",
        "from sklearn.metrics import precision_score\n",
        "from sklearn.metrics import recall_score\n",
        "from sklearn.metrics import f1_score\n",
        "from imblearn.under_sampling import NearMiss "
      ],
      "metadata": {
        "id": "8zxyAKZ66J_F"
      },
      "execution_count": 89,
      "outputs": []
    },
    {
      "cell_type": "code",
      "execution_count": 303,
      "metadata": {
        "id": "5Hyu_E9V55Se"
      },
      "outputs": [],
      "source": [
        "file = 'clean_data_label_encoded.csv'\n",
        "df=  pd.read_csv(file, sep=',');"
      ]
    },
    {
      "cell_type": "code",
      "source": [
        "# extract features and labels\n",
        "y = df['ACCLASS']\n",
        "\n",
        "df = df.drop(columns=['ACCLASS','Unnamed: 0'])\n",
        "X = df\n",
        "\n",
        "# y.replace(0, 'Non-Fatal', inplace=True)\n",
        "# y.replace(1, 'Fatal', inplace=True)"
      ],
      "metadata": {
        "id": "gtFvI5a86L_N"
      },
      "execution_count": 170,
      "outputs": []
    },
    {
      "cell_type": "code",
      "source": [
        "X_train, X_test, y_train, y_test = train_test_split(X, y, test_size=0.3, random_state=0) # split data"
      ],
      "metadata": {
        "id": "6XoWb0Lp6fVh"
      },
      "execution_count": 33,
      "outputs": []
    },
    {
      "cell_type": "code",
      "source": [
        "import matplotlib\n",
        "fig = plt.figure()\n",
        "\n",
        "ax = fig.add_subplot()\n",
        "\n",
        "ax.set_xlabel('X-axis ')\n",
        "ax.set_ylabel('Y-axis ')\n",
        "\n",
        "ax.title.set_color('white')\n",
        "\n",
        "ax.xaxis.label.set_color('white')        #setting up X-axis label color to yellow\n",
        "ax.yaxis.label.set_color('white')          #setting up Y-axis label color to blue\n",
        "\n",
        "ax.tick_params(axis='x', colors='white')    #setting up X-axis tick color to red\n",
        "ax.tick_params(axis='y', colors='white')  #setting up Y-axis tick color to black\n",
        "\n",
        "ax.spines['left'].set_color('white')        # setting up Y-axis tick color to red\n",
        "ax.spines['top'].set_color('white')  \n",
        "class_counts = y.value_counts()\n",
        "classes = class_counts.index.tolist()\n",
        "class_instance_count = class_counts.values\n",
        "plt.bar(classes,class_instance_count, color=['#f4d000', '#b2322e'])\n",
        "plt.title('Accident class distribution')\n",
        "plt.xlabel('Accident outcome')\n",
        "plt.ylabel('Number of instances');"
      ],
      "metadata": {
        "colab": {
          "base_uri": "https://localhost:8080/",
          "height": 295
        },
        "id": "kvj_L0nMBUv4",
        "outputId": "01f4b64e-ed29-4223-8cf4-974b745457f4"
      },
      "execution_count": 71,
      "outputs": [
        {
          "output_type": "display_data",
          "data": {
            "text/plain": [
              "<Figure size 432x288 with 1 Axes>"
            ],
            "image/png": "[encoded data removed]"
          },
          "metadata": {
            "needs_background": "dark"
          }
        }
      ]
    },
    {
      "cell_type": "code",
      "source": [
        "forest = RandomForestClassifier(n_estimators=500, random_state=0).fit(X_train, y_train)"
      ],
      "metadata": {
        "id": "6-5NLRjg6R_A"
      },
      "execution_count": 34,
      "outputs": []
    },
    {
      "cell_type": "code",
      "source": [
        "# construct confusion matrix\n",
        "plot_confusion_matrix(forest, X_test, y_test) \n",
        "plt.title('Confusion matrix - Random forest #1')  \n",
        "plt.show();"
      ],
      "metadata": {
        "colab": {
          "base_uri": "https://localhost:8080/",
          "height": 557
        },
        "id": "RwKIWGDo6ZTF",
        "outputId": "8d330736-e57f-4e2a-9b75-28f6058ba20a"
      },
      "execution_count": 72,
      "outputs": [
        {
          "output_type": "display_data",
          "data": {
            "text/plain": [
              "<Figure size 432x288 with 2 Axes>"
            ],
            "image/png": "[encoded data removed]"
          },
          "metadata": {
            "needs_background": "light"
          }
        },
        {
          "output_type": "display_data",
          "data": {
            "text/plain": [
              "<Figure size 432x288 with 1 Axes>"
            ],
            "image/png": "[encoded data removed]"
          },
          "metadata": {
            "needs_background": "dark"
          }
        }
      ]
    },
    {
      "cell_type": "code",
      "source": [
        "# evaluate model\n",
        "y_pred = forest.predict(X_test)\n",
        "accuracy = round(accuracy_score(y_test, y_pred)*100,2)\n",
        "precision = round(precision_score(y_test, y_pred, average='weighted')*100,2)\n",
        "recall = round(recall_score(y_test, y_pred, average='weighted')*100,2)\n",
        "f1 = round(f1_score(y_test, y_pred, average='weighted')*100,2)\n",
        "\n",
        "print(\"{0:17} {1:10} {2:10} {3:10} {4:}\".format(\"----------------\", \"---------\", \"---------\", \"---------\", \"---------\"))\n",
        "print(\"{0:17} {1:10} {2:10} {3:10} {4:}\".format(\"MODEL\", \"ACCURACY\", \"PRECISION\", \"RECALL\", \"F1\"))\n",
        "print(\"{0:17} {1:10} {2:10} {3:10} {4:}\".format(\"----------------\", \"---------\", \"---------\", \"---------\", \"---------\"))\n",
        "print(\"{0:17} {1:} {2:10} {3:10} {4:10}\".format(\"random forest 1\", accuracy, precision, recall, f1))"
      ],
      "metadata": {
        "colab": {
          "base_uri": "https://localhost:8080/"
        },
        "id": "9fheyGN8_H23",
        "outputId": "9c5ac245-ee4d-4a2a-c712-7895de39fd57"
      },
      "execution_count": 43,
      "outputs": [
        {
          "output_type": "stream",
          "name": "stdout",
          "text": [
            "----------------  ---------  ---------  ---------  ---------\n",
            "MODEL             ACCURACY   PRECISION  RECALL     F1\n",
            "----------------  ---------  ---------  ---------  ---------\n",
            "random forest 1   89.04      89.93      89.04      85.03\n"
          ]
        }
      ]
    },
    {
      "cell_type": "code",
      "source": [
        "# construct confusion matrix\n",
        "plot_confusion_matrix(mlp, X_test, y_test)  \n",
        "plt.title('Confusion matrix - Neural network #1') \n",
        "plt.show();"
      ],
      "metadata": {
        "colab": {
          "base_uri": "https://localhost:8080/",
          "height": 295
        },
        "id": "tOudQ0kC62DT",
        "outputId": "1119c081-8f15-4a15-c6c1-8fd98d3be28b"
      },
      "execution_count": 42,
      "outputs": [
        {
          "output_type": "display_data",
          "data": {
            "text/plain": [
              "<Figure size 432x288 with 2 Axes>"
            ],
            "image/png": "[encoded data removed]"
          },
          "metadata": {
            "needs_background": "light"
          }
        }
      ]
    },
    {
      "cell_type": "code",
      "source": [
        "# evaluate model\n",
        "y_pred = mlp.predict(X_test)\n",
        "accuracy = round(accuracy_score(y_test, y_pred)*100,2)\n",
        "precision = round(precision_score(y_test, y_pred, average='weighted')*100,2)\n",
        "recall = round(recall_score(y_test, y_pred, average='weighted')*100,2)\n",
        "f1 = round(f1_score(y_test, y_pred, average='weighted')*100,2)\n",
        "\n",
        "print(\"{0:17} {1:10} {2:10} {3:10} {4:}\".format(\"----------------\", \"---------\", \"---------\", \"---------\", \"---------\"))\n",
        "print(\"{0:17} {1:10} {2:10} {3:10} {4:}\".format(\"MODEL\", \"ACCURACY\", \"PRECISION\", \"RECALL\", \"F1\"))\n",
        "print(\"{0:17} {1:10} {2:10} {3:10} {4:}\".format(\"----------------\", \"---------\", \"---------\", \"---------\", \"---------\"))\n",
        "print(\"{0:17} {1:} {2:10} {3:10} {4:10}\".format(\"random forest 1\", accuracy, precision, recall, f1))"
      ],
      "metadata": {
        "colab": {
          "base_uri": "https://localhost:8080/"
        },
        "id": "Ns1CHe-P65BH",
        "outputId": "3fbc4e2a-b56d-411a-a756-477e15c1150c"
      },
      "execution_count": 44,
      "outputs": [
        {
          "output_type": "stream",
          "name": "stdout",
          "text": [
            "----------------  ---------  ---------  ---------  ---------\n",
            "MODEL             ACCURACY   PRECISION  RECALL     F1\n",
            "----------------  ---------  ---------  ---------  ---------\n",
            "random forest 1   87.68      76.88      87.68      81.92\n"
          ]
        }
      ]
    },
    {
      "cell_type": "code",
      "source": [
        "# define the undersampling method\n",
        "undersample = NearMiss(version=1, n_neighbors=3)\n",
        "X, y = undersample.fit_resample(X, y)"
      ],
      "metadata": {
        "id": "ra7IaVuI_UEY"
      },
      "execution_count": 171,
      "outputs": []
    },
    {
      "cell_type": "code",
      "source": [
        "import matplotlib\n",
        "fig = plt.figure()\n",
        "\n",
        "ax = fig.add_subplot()\n",
        "\n",
        "ax.set_xlabel('X-axis ')\n",
        "ax.set_ylabel('Y-axis ')\n",
        "\n",
        "ax.title.set_color('white')\n",
        "\n",
        "ax.xaxis.label.set_color('white')        #setting up X-axis label color to yellow\n",
        "ax.yaxis.label.set_color('white')          #setting up Y-axis label color to blue\n",
        "\n",
        "ax.tick_params(axis='x', colors='white')    #setting up X-axis tick color to red\n",
        "ax.tick_params(axis='y', colors='white')  #setting up Y-axis tick color to black\n",
        "\n",
        "ax.spines['left'].set_color('white')        # setting up Y-axis tick color to red\n",
        "ax.spines['top'].set_color('white')  \n",
        "class_counts = y.value_counts()\n",
        "classes = class_counts.index.tolist()\n",
        "class_instance_count = class_counts.values\n",
        "plt.bar(classes,class_instance_count, color=['#f4d000', '#b2322e'])\n",
        "plt.title('Accident class distribution')\n",
        "plt.xlabel('Accident outcome')\n",
        "plt.ylabel('Number of instances');"
      ],
      "metadata": {
        "colab": {
          "base_uri": "https://localhost:8080/",
          "height": 295
        },
        "id": "WtzC_0YbTh5z",
        "outputId": "5a9f69c1-b5a7-4338-f81b-80f627d9951e"
      },
      "execution_count": 147,
      "outputs": [
        {
          "output_type": "display_data",
          "data": {
            "text/plain": [
              "<Figure size 432x288 with 1 Axes>"
            ],
            "image/png": "[encoded data removed]"
          },
          "metadata": {
            "needs_background": "dark"
          }
        }
      ]
    },
    {
      "cell_type": "code",
      "source": [
        "X_train, X_test, y_train, y_test = train_test_split(X, y, test_size=0.3, random_state=0)\n"
      ],
      "metadata": {
        "id": "YgCdiFwuVWxg"
      },
      "execution_count": 172,
      "outputs": []
    },
    {
      "cell_type": "code",
      "source": [
        "params = {\n",
        "    'n_estimators': [100, 500, 1000],\n",
        "    'criterion': ['gini', 'entropy'],\n",
        "    'min_samples_split': [2, 4, 5, 10, 13],\n",
        "    'min_samples_leaf': [1, 2, 5, 8, 13]\n",
        "}\n",
        "\n",
        "forest = GridSearchCV(RandomForestClassifier(random_state=0), params)\n",
        "forest.fit(X_train, y_train)"
      ],
      "metadata": {
        "colab": {
          "base_uri": "https://localhost:8080/"
        },
        "id": "3MphMhSKbQI-",
        "outputId": "fe0d3d90-a95d-410c-e876-f0affa26d108"
      },
      "execution_count": 127,
      "outputs": [
        {
          "output_type": "execute_result",
          "data": {
            "text/plain": [
              "GridSearchCV(estimator=RandomForestClassifier(random_state=0),\n",
              "             param_grid={'criterion': ['gini', 'entropy'],\n",
              "                         'min_samples_leaf': [1, 2, 5, 8, 13],\n",
              "                         'min_samples_split': [2, 4, 5, 10, 13],\n",
              "                         'n_estimators': [100, 500, 1000]})"
            ]
          },
          "metadata": {},
          "execution_count": 127
        }
      ]
    },
    {
      "cell_type": "code",
      "source": [
        "forest = RandomForestClassifier(criterion='entropy', n_estimators=1000, random_state=0).fit(X_train, y_train)"
      ],
      "metadata": {
        "id": "DGIjS4lGZrlK"
      },
      "execution_count": 173,
      "outputs": []
    },
    {
      "cell_type": "code",
      "source": [
        "plot_confusion_matrix(forest, X_test, y_test) \n",
        "plt.title('Confusion matrix - Random forest #2')  \n",
        "plt.show();"
      ],
      "metadata": {
        "colab": {
          "base_uri": "https://localhost:8080/",
          "height": 295
        },
        "id": "lUKOn0caZz60",
        "outputId": "a7f24b27-57dd-4998-d307-8321c2afc213"
      },
      "execution_count": 174,
      "outputs": [
        {
          "output_type": "display_data",
          "data": {
            "text/plain": [
              "<Figure size 432x288 with 2 Axes>"
            ],
            "image/png": "[encoded data removed]"
          },
          "metadata": {
            "needs_background": "light"
          }
        }
      ]
    },
    {
      "cell_type": "code",
      "source": [
        "start_time = time.time()\n",
        "result = permutation_importance(forest, X_test, y_test, n_repeats=10, random_state=42, n_jobs=2)\n",
        "elapsed_time = time.time() - start_time\n",
        "print(f\"Elapsed time to compute the importances: {elapsed_time:.3f} seconds\")\n",
        "\n",
        "feature_names = list(X.columns) # get feature names\n",
        "forest_importances = pd.Series(result.importances_mean, index=feature_names)\n"
      ],
      "metadata": {
        "colab": {
          "base_uri": "https://localhost:8080/"
        },
        "id": "tXtFgAgc4var",
        "outputId": "634af416-d96c-40f4-cdf4-c6e08d5b17eb"
      },
      "execution_count": 185,
      "outputs": [
        {
          "output_type": "stream",
          "name": "stdout",
          "text": [
            "Elapsed time to compute the importances: 63.964 seconds\n"
          ]
        }
      ]
    },
    {
      "cell_type": "code",
      "source": [
        "\n",
        "sorted_idx = result.importances_mean.argsort()\n",
        "\n",
        "plt.figure(figsize=(8, 12))\n",
        "clrs = ['#e83d3d' if (x < 0.019) else '#f4d000' for x in result.importances_mean[sorted_idx] ]\n",
        "plt.barh( np.array(feature_names)[sorted_idx], result.importances_mean[sorted_idx], color=clrs)\n",
        "\n",
        "plt.title(\"Feature importances using permutation (MDA)\")\n",
        "plt.xlabel(\"Feature importance score\")\n",
        "# plt.barh( np.array(feature_names)[sorted_idx][11:], result.importances_std[sorted_idx][11:], color='#e83d3d')\n",
        "# plt.xticks(range(X.shape[1]), rotation=20, fontsize = 8)"
      ],
      "metadata": {
        "colab": {
          "base_uri": "https://localhost:8080/",
          "height": 747
        },
        "id": "A4ubDzxt9dSs",
        "outputId": "82a0608d-0036-4bd8-a1fc-77d4bc6652f6"
      },
      "execution_count": 279,
      "outputs": [
        {
          "output_type": "execute_result",
          "data": {
            "text/plain": [
              "Text(0.5, 0, 'Feature importance score')"
            ]
          },
          "metadata": {},
          "execution_count": 279
        },
        {
          "output_type": "display_data",
          "data": {
            "text/plain": [
              "<Figure size 576x864 with 1 Axes>"
            ],
            "image/png": "[encoded data removed]"
          },
          "metadata": {
            "needs_background": "light"
          }
        }
      ]
    },
    {
      "cell_type": "code",
      "source": [
        "\n",
        "plt.barh( x, y)"
      ],
      "metadata": {
        "id": "ctl2dz1KEkoS"
      },
      "execution_count": null,
      "outputs": []
    },
    {
      "cell_type": "code",
      "source": [
        "# evaluate model\n",
        "y_pred = forest.predict(X_test)\n",
        "accuracy = round(accuracy_score(y_test, y_pred)*100,2)\n",
        "precision = round(precision_score(y_test, y_pred, average='weighted')*100,2)\n",
        "recall = round(recall_score(y_test, y_pred, average='weighted')*100,2)\n",
        "f1 = round(f1_score(y_test, y_pred, average='weighted')*100,2)\n",
        "\n",
        "print(\"{0:17} {1:10} {2:10} {3:10} {4:}\".format(\"----------------\", \"---------\", \"---------\", \"---------\", \"---------\"))\n",
        "print(\"{0:17} {1:10} {2:10} {3:10} {4:}\".format(\"MODEL\", \"ACCURACY\", \"PRECISION\", \"RECALL\", \"F1\"))\n",
        "print(\"{0:17} {1:10} {2:10} {3:10} {4:}\".format(\"----------------\", \"---------\", \"---------\", \"---------\", \"---------\"))\n",
        "print(\"{0:17} {1:} {2:10} {3:10} {4:10}\".format(\"random forest 1\", accuracy, precision, recall, f1))"
      ],
      "metadata": {
        "colab": {
          "base_uri": "https://localhost:8080/"
        },
        "id": "_96oRMCb0FNF",
        "outputId": "8c0c17e3-3d80-4133-be4e-666689e37a47"
      },
      "execution_count": 135,
      "outputs": [
        {
          "output_type": "stream",
          "name": "stdout",
          "text": [
            "----------------  ---------  ---------  ---------  ---------\n",
            "MODEL             ACCURACY   PRECISION  RECALL     F1\n",
            "----------------  ---------  ---------  ---------  ---------\n",
            "random forest 1   94.22      94.49      94.22      94.21\n"
          ]
        }
      ]
    },
    {
      "cell_type": "code",
      "source": [
        "mlp = MLPClassifier(learning_rate='adaptive', max_iter=100).fit(X_train, y_train)"
      ],
      "metadata": {
        "id": "RwRDL3ywZ_xF"
      },
      "execution_count": 117,
      "outputs": []
    },
    {
      "cell_type": "code",
      "source": [
        "plot_confusion_matrix(mlp, X_test, y_test) \n",
        "plt.title('Confusion matrix - Neural network #2')  \n",
        "plt.show();"
      ],
      "metadata": {
        "colab": {
          "base_uri": "https://localhost:8080/",
          "height": 295
        },
        "id": "vWLQBRYraUc2",
        "outputId": "85b1b8ad-05f2-43dd-f196-a17fae23d487"
      },
      "execution_count": 119,
      "outputs": [
        {
          "output_type": "display_data",
          "data": {
            "text/plain": [
              "<Figure size 432x288 with 2 Axes>"
            ],
            "image/png": "[encoded data removed]"
          },
          "metadata": {
            "needs_background": "light"
          }
        }
      ]
    },
    {
      "cell_type": "code",
      "source": [
        "# evaluate model\n",
        "y_pred = mlp.predict(X_test)\n",
        "accuracy = round(accuracy_score(y_test, y_pred)*100,2)\n",
        "precision = round(precision_score(y_test, y_pred, average='weighted')*100,2)\n",
        "recall = round(recall_score(y_test, y_pred, average='weighted')*100,2)\n",
        "f1 = round(f1_score(y_test, y_pred, average='weighted')*100,2)\n",
        "\n",
        "print(\"{0:17} {1:10} {2:10} {3:10} {4:}\".format(\"----------------\", \"---------\", \"---------\", \"---------\", \"---------\"))\n",
        "print(\"{0:17} {1:10} {2:10} {3:10} {4:}\".format(\"MODEL\", \"ACCURACY\", \"PRECISION\", \"RECALL\", \"F1\"))\n",
        "print(\"{0:17} {1:10} {2:10} {3:10} {4:}\".format(\"----------------\", \"---------\", \"---------\", \"---------\", \"---------\"))\n",
        "print(\"{0:17} {1:} {2:10} {3:10} {4:10}\".format(\"random forest 1\", accuracy, precision, recall, f1))"
      ],
      "metadata": {
        "colab": {
          "base_uri": "https://localhost:8080/"
        },
        "id": "7yX_vg4Nto2j",
        "outputId": "fb80dbd4-2d51-494f-c980-ae007c19eab2"
      },
      "execution_count": 121,
      "outputs": [
        {
          "output_type": "stream",
          "name": "stdout",
          "text": [
            "----------------  ---------  ---------  ---------  ---------\n",
            "MODEL             ACCURACY   PRECISION  RECALL     F1\n",
            "----------------  ---------  ---------  ---------  ---------\n",
            "random forest 1   67.26       67.3      67.26      67.24\n"
          ]
        }
      ]
    },
    {
      "cell_type": "code",
      "source": [
        "y = df['ACCLASS']\n",
        "\n",
        "df = df.drop(columns=['ACCLASS','Unnamed: 0', 'AG_DRIV', 'ALCOHOL', 'AUTOMOBILE', 'CYCLIST', 'DISABILITY', 'EMERG_VEH',\n",
        "                      'INITDIR', 'LOCCOORD', 'MOTORCYCLE', 'PASSENGER', 'REDLIGHT', 'TRAFFCTL', 'TRSN_CITY_VEH'])\n",
        "X = df\n",
        "\n",
        "y.replace(0, 'Non-Fatal', inplace=True)\n",
        "y.replace(1, 'Fatal', inplace=True)"
      ],
      "metadata": {
        "id": "eJZVuzaLvz1R"
      },
      "execution_count": 304,
      "outputs": []
    },
    {
      "cell_type": "code",
      "source": [
        "# define the undersampling method\n",
        "undersample = NearMiss(version=2, n_neighbors=3)\n",
        "X, y = undersample.fit_resample(X, y)\n",
        "\n",
        "X_train, X_test, y_train, y_test = train_test_split(X, y, test_size=0.3, random_state=0)\n",
        "\n",
        "# find best parameters for a random forest and train using best found estimator\n",
        "params = {\n",
        "    'n_estimators': [100, 500, 1000],\n",
        "    'criterion': ['gini', 'entropy'],\n",
        "    'min_samples_split': [2, 4, 5, 10, 13],\n",
        "    'min_samples_leaf': [1, 2, 5, 8, 13]\n",
        "}\n",
        "\n",
        "forest = GridSearchCV(RandomForestClassifier(random_state=0), params)\n",
        "forest.fit(X_train, y_train)"
      ],
      "metadata": {
        "colab": {
          "base_uri": "https://localhost:8080/"
        },
        "id": "Ct_hX68BbQE-",
        "outputId": "af2f8d99-0b5a-4e00-83bb-ca3467e62e8a"
      },
      "execution_count": 305,
      "outputs": [
        {
          "output_type": "execute_result",
          "data": {
            "text/plain": [
              "GridSearchCV(estimator=RandomForestClassifier(random_state=0),\n",
              "             param_grid={'criterion': ['gini', 'entropy'],\n",
              "                         'min_samples_leaf': [1, 2, 5, 8, 13],\n",
              "                         'min_samples_split': [2, 4, 5, 10, 13],\n",
              "                         'n_estimators': [100, 500, 1000]})"
            ]
          },
          "metadata": {},
          "execution_count": 305
        }
      ]
    },
    {
      "cell_type": "code",
      "source": [
        "plot_confusion_matrix(forest, X_test, y_test) \n",
        "plt.title('Confusion matrix - Random forest #3')   \n",
        "plt.show();"
      ],
      "metadata": {
        "colab": {
          "base_uri": "https://localhost:8080/",
          "height": 295
        },
        "id": "EUQUcEXNbo3v",
        "outputId": "92b6b9b0-f942-45e2-cc5f-1195c009569a"
      },
      "execution_count": 306,
      "outputs": [
        {
          "output_type": "display_data",
          "data": {
            "text/plain": [
              "<Figure size 432x288 with 2 Axes>"
            ],
            "image/png": "[encoded data removed]"
          },
          "metadata": {
            "needs_background": "light"
          }
        }
      ]
    },
    {
      "cell_type": "code",
      "source": [
        "y_pred = forest.predict(X_test)\n",
        "accuracy = round(accuracy_score(y_test, y_pred)*100,2)\n",
        "precision = round(precision_score(y_test, y_pred, average='weighted')*100,2)\n",
        "recall = round(recall_score(y_test, y_pred, average='weighted')*100,2)\n",
        "f1 = round(f1_score(y_test, y_pred, average='weighted')*100,2)\n",
        "\n",
        "print(\"{0:17} {1:10} {2:10} {3:10} {4:}\".format(\"----------------\", \"---------\", \"---------\", \"---------\", \"---------\"))\n",
        "print(\"{0:17} {1:10} {2:10} {3:10} {4:}\".format(\"MODEL\", \"ACCURACY\", \"PRECISION\", \"RECALL\", \"F1\"))\n",
        "print(\"{0:17} {1:10} {2:10} {3:10} {4:}\".format(\"----------------\", \"---------\", \"---------\", \"---------\", \"---------\"))\n",
        "print(\"{0:17} {1:} {2:10} {3:10} {4:10}\".format(\"random forest 3\", accuracy, precision, recall, f1))"
      ],
      "metadata": {
        "colab": {
          "base_uri": "https://localhost:8080/"
        },
        "id": "-YG-mK-Ubstu",
        "outputId": "3b8d732d-84d1-48e7-901f-e5142fb8322f"
      },
      "execution_count": 307,
      "outputs": [
        {
          "output_type": "stream",
          "name": "stdout",
          "text": [
            "----------------  ---------  ---------  ---------  ---------\n",
            "MODEL             ACCURACY   PRECISION  RECALL     F1\n",
            "----------------  ---------  ---------  ---------  ---------\n",
            "random forest 3   95.99      96.24      95.99      95.98\n"
          ]
        }
      ]
    },
    {
      "cell_type": "code",
      "source": [
        "# define the undersampling method\n",
        "undersample = NearMiss(version=1, n_neighbors=3)\n",
        "X, y = undersample.fit_resample(X, y)\n",
        "\n",
        "X_train, X_test, y_train, y_test = train_test_split(X, y, test_size=0.3, random_state=0)\n",
        "\n",
        "params = {\n",
        "    'hidden_layer_sizes': [(50,50,50), (50,100,50), (100,)],\n",
        "    'activation': ['tanh', 'relu'],\n",
        "    'solver': ['sgd', 'adam'],\n",
        "    'alpha': [0.0001, 0.05],\n",
        "    'learning_rate': ['constant','adaptive'],\n",
        "}\n",
        "mlp = MLPClassifier(max_iter=100)\n",
        "nn = GridSearchCV(mlp, params, n_jobs=-1, cv=3)\n",
        "nn.fit(X_train, y_train)"
      ],
      "metadata": {
        "colab": {
          "base_uri": "https://localhost:8080/"
        },
        "id": "8NaUhZp2bvwe",
        "outputId": "25287633-d96e-477e-c119-686dd5c32668"
      },
      "execution_count": 299,
      "outputs": [
        {
          "output_type": "execute_result",
          "data": {
            "text/plain": [
              "GridSearchCV(cv=3, estimator=MLPClassifier(max_iter=100), n_jobs=-1,\n",
              "             param_grid={'activation': ['tanh', 'relu'],\n",
              "                         'alpha': [0.0001, 0.05],\n",
              "                         'hidden_layer_sizes': [(50, 50, 50), (50, 100, 50),\n",
              "                                                (100,)],\n",
              "                         'learning_rate': ['constant', 'adaptive'],\n",
              "                         'solver': ['sgd', 'adam']})"
            ]
          },
          "metadata": {},
          "execution_count": 299
        }
      ]
    },
    {
      "cell_type": "code",
      "source": [
        "plot_confusion_matrix(nn, X_test, y_test) \n",
        "plt.title('Confusion matrix - Neural network #3')   \n",
        "plt.show();"
      ],
      "metadata": {
        "colab": {
          "base_uri": "https://localhost:8080/",
          "height": 295
        },
        "id": "yKk7u_XwgLdP",
        "outputId": "5d27bd84-a836-41c4-e407-4be503578109"
      },
      "execution_count": 300,
      "outputs": [
        {
          "output_type": "display_data",
          "data": {
            "text/plain": [
              "<Figure size 432x288 with 2 Axes>"
            ],
            "image/png": "[encoded data removed]"
          },
          "metadata": {
            "needs_background": "light"
          }
        }
      ]
    },
    {
      "cell_type": "code",
      "source": [
        "y_pred = nn.predict(X_test)\n",
        "accuracy = round(accuracy_score(y_test, y_pred)*100,2)\n",
        "precision = round(precision_score(y_test, y_pred, average='weighted')*100,2)\n",
        "recall = round(recall_score(y_test, y_pred, average='weighted')*100,2)\n",
        "f1 = round(f1_score(y_test, y_pred, average='weighted')*100,2)\n",
        "\n",
        "print(\"{0:17} {1:10} {2:10} {3:10} {4:}\".format(\"----------------\", \"---------\", \"---------\", \"---------\", \"---------\"))\n",
        "print(\"{0:17} {1:10} {2:10} {3:10} {4:}\".format(\"MODEL\", \"ACCURACY\", \"PRECISION\", \"RECALL\", \"F1\"))\n",
        "print(\"{0:17} {1:10} {2:10} {3:10} {4:}\".format(\"----------------\", \"---------\", \"---------\", \"---------\", \"---------\"))\n",
        "print(\"{0:17} {1:} {2:10} {3:10} {4:10}\".format(\"random forest 3\", accuracy, precision, recall, f1))"
      ],
      "metadata": {
        "colab": {
          "base_uri": "https://localhost:8080/"
        },
        "id": "sAlG2gMmgl8e",
        "outputId": "6fdfbe54-ebde-4575-e942-aeb523159e04"
      },
      "execution_count": 302,
      "outputs": [
        {
          "output_type": "stream",
          "name": "stdout",
          "text": [
            "----------------  ---------  ---------  ---------  ---------\n",
            "MODEL             ACCURACY   PRECISION  RECALL     F1\n",
            "----------------  ---------  ---------  ---------  ---------\n",
            "random forest 3   73.03      73.29      73.03      72.97\n"
          ]
        }
      ]
    },
    {
      "cell_type": "code",
      "source": [
        ""
      ],
      "metadata": {
        "id": "_DEl8Em-gq7h"
      },
      "execution_count": null,
      "outputs": []
    }
  ]
}