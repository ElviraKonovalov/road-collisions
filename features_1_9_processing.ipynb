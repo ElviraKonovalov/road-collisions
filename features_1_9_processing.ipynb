{
  "cells": [
    {
      "cell_type": "markdown",
      "metadata": {
        "id": "view-in-github",
        "colab_type": "text"
      },
      "source": [
        "<a href=\"https://colab.research.google.com/github/ElviraKonovalov/soen471-bigData/blob/main/features_1_9_processing.ipynb\" target=\"_parent\"><img src=\"https://colab.research.google.com/assets/colab-badge.svg\" alt=\"Open In Colab\"/></a>"
      ]
    },
    {
      "cell_type": "code",
      "execution_count": 136,
      "metadata": {
        "id": "nUWDTD90A3Zi"
      },
      "outputs": [],
      "source": [
        "\n",
        "#testing for data 1-9\n",
        "import pandas as pd\n",
        "import matplotlib.pyplot as plt\n",
        "import datetime"
      ]
    },
    {
      "cell_type": "code",
      "execution_count": 137,
      "metadata": {
        "colab": {
          "base_uri": "https://localhost:8080/"
        },
        "id": "mJyGUVa5Afkn",
        "outputId": "5fa51961-9a86-49f7-9958-ddf35e324399"
      },
      "outputs": [
        {
          "output_type": "stream",
          "name": "stderr",
          "text": [
            "/usr/local/lib/python3.7/dist-packages/IPython/core/interactiveshell.py:2882: DtypeWarning: Columns (16) have mixed types.Specify dtype option on import or set low_memory=False.\n",
            "  exec(code_obj, self.user_global_ns, self.user_ns)\n"
          ]
        }
      ],
      "source": [
        "file = 'Motor Vehicle Collisions with KSI Data.csv'\n",
        "df=  pd.read_csv(file, sep=',');"
      ]
    },
    {
      "cell_type": "code",
      "execution_count": 138,
      "metadata": {
        "id": "I9RfqspXBRFC"
      },
      "outputs": [],
      "source": [
        "columns_to_drop = ['_id', 'ACCNUM', 'TIME', 'OFFSET', 'WARDNUM', 'DIVISION', 'ACCLOC', 'FATAL_NO', 'PEDTYPE', 'PEDACT', 'PEDCOND', 'CYCLISTYPE', 'CYCACT', 'CYCCOND', 'POLICE_DIVISION', 'ObjectId', 'geometry']\n",
        "df = df.drop(columns=columns_to_drop)\n",
        "\n"
      ]
    },
    {
      "cell_type": "code",
      "execution_count": 139,
      "metadata": {
        "colab": {
          "base_uri": "https://localhost:8080/",
          "height": 424
        },
        "id": "fYqY9GCzORm0",
        "outputId": "dacbe7e0-9e7b-40a5-c7f8-8e376954c5d9"
      },
      "outputs": [
        {
          "output_type": "execute_result",
          "data": {
            "text/plain": [
              "                ACCLASS AG_DRIV ALCOHOL AUTOMOBILE CYCLIST  \\\n",
              "0                 Fatal     Yes     NaN        Yes     NaN   \n",
              "1                 Fatal     Yes     NaN        Yes     NaN   \n",
              "2                 Fatal     Yes     NaN        Yes     NaN   \n",
              "3                 Fatal     Yes     NaN        Yes     NaN   \n",
              "4                 Fatal     NaN     Yes        Yes     NaN   \n",
              "...                 ...     ...     ...        ...     ...   \n",
              "16855  Non-Fatal Injury     Yes     NaN        Yes     Yes   \n",
              "16856  Non-Fatal Injury     Yes     NaN        Yes     NaN   \n",
              "16857  Non-Fatal Injury     Yes     NaN        Yes     NaN   \n",
              "16858  Non-Fatal Injury     Yes     NaN        Yes     NaN   \n",
              "16859  Non-Fatal Injury     NaN     NaN        Yes     Yes   \n",
              "\n",
              "                      DATE DISABILITY               DISTRICT  \\\n",
              "0      2006-03-11T00:00:00        NaN  Toronto and East York   \n",
              "1      2006-03-11T00:00:00        NaN  Toronto and East York   \n",
              "2      2006-03-11T00:00:00        NaN            Scarborough   \n",
              "3      2006-03-11T00:00:00        NaN            Scarborough   \n",
              "4      2006-03-12T00:00:00        NaN            Scarborough   \n",
              "...                    ...        ...                    ...   \n",
              "16855  2020-08-30T00:00:00        NaN                    NaN   \n",
              "16856  2020-09-01T00:00:00        NaN            Scarborough   \n",
              "16857  2020-09-01T00:00:00        NaN            Scarborough   \n",
              "16858  2020-09-01T00:00:00        NaN            Scarborough   \n",
              "16859  2020-09-01T00:00:00        NaN                    NaN   \n",
              "\n",
              "                            DRIVACT  \n",
              "0      Failed to Yield Right of Way  \n",
              "1                               NaN  \n",
              "2         Disobeyed Traffic Control  \n",
              "3                  Driving Properly  \n",
              "4                             Other  \n",
              "...                             ...  \n",
              "16855                           NaN  \n",
              "16856  Failed to Yield Right of Way  \n",
              "16857              Driving Properly  \n",
              "16858                           NaN  \n",
              "16859          Improper Lane Change  \n",
              "\n",
              "[16860 rows x 9 columns]"
            ],
            "text/html": [
              "\n",
              "  <div id=\"df-6e96ccb9-eae2-4730-b2a7-f376c369a18d\">\n",
              "    <div class=\"colab-df-container\">\n",
              "      <div>\n",
              "<style scoped>\n",
              "    .dataframe tbody tr th:only-of-type {\n",
              "        vertical-align: middle;\n",
              "    }\n",
              "\n",
              "    .dataframe tbody tr th {\n",
              "        vertical-align: top;\n",
              "    }\n",
              "\n",
              "    .dataframe thead th {\n",
              "        text-align: right;\n",
              "    }\n",
              "</style>\n",
              "<table border=\"1\" class=\"dataframe\">\n",
              "  <thead>\n",
              "    <tr style=\"text-align: right;\">\n",
              "      <th></th>\n",
              "      <th>ACCLASS</th>\n",
              "      <th>AG_DRIV</th>\n",
              "      <th>ALCOHOL</th>\n",
              "      <th>AUTOMOBILE</th>\n",
              "      <th>CYCLIST</th>\n",
              "      <th>DATE</th>\n",
              "      <th>DISABILITY</th>\n",
              "      <th>DISTRICT</th>\n",
              "      <th>DRIVACT</th>\n",
              "    </tr>\n",
              "  </thead>\n",
              "  <tbody>\n",
              "    <tr>\n",
              "      <th>0</th>\n",
              "      <td>Fatal</td>\n",
              "      <td>Yes</td>\n",
              "      <td>NaN</td>\n",
              "      <td>Yes</td>\n",
              "      <td>NaN</td>\n",
              "      <td>2006-03-11T00:00:00</td>\n",
              "      <td>NaN</td>\n",
              "      <td>Toronto and East York</td>\n",
              "      <td>Failed to Yield Right of Way</td>\n",
              "    </tr>\n",
              "    <tr>\n",
              "      <th>1</th>\n",
              "      <td>Fatal</td>\n",
              "      <td>Yes</td>\n",
              "      <td>NaN</td>\n",
              "      <td>Yes</td>\n",
              "      <td>NaN</td>\n",
              "      <td>2006-03-11T00:00:00</td>\n",
              "      <td>NaN</td>\n",
              "      <td>Toronto and East York</td>\n",
              "      <td>NaN</td>\n",
              "    </tr>\n",
              "    <tr>\n",
              "      <th>2</th>\n",
              "      <td>Fatal</td>\n",
              "      <td>Yes</td>\n",
              "      <td>NaN</td>\n",
              "      <td>Yes</td>\n",
              "      <td>NaN</td>\n",
              "      <td>2006-03-11T00:00:00</td>\n",
              "      <td>NaN</td>\n",
              "      <td>Scarborough</td>\n",
              "      <td>Disobeyed Traffic Control</td>\n",
              "    </tr>\n",
              "    <tr>\n",
              "      <th>3</th>\n",
              "      <td>Fatal</td>\n",
              "      <td>Yes</td>\n",
              "      <td>NaN</td>\n",
              "      <td>Yes</td>\n",
              "      <td>NaN</td>\n",
              "      <td>2006-03-11T00:00:00</td>\n",
              "      <td>NaN</td>\n",
              "      <td>Scarborough</td>\n",
              "      <td>Driving Properly</td>\n",
              "    </tr>\n",
              "    <tr>\n",
              "      <th>4</th>\n",
              "      <td>Fatal</td>\n",
              "      <td>NaN</td>\n",
              "      <td>Yes</td>\n",
              "      <td>Yes</td>\n",
              "      <td>NaN</td>\n",
              "      <td>2006-03-12T00:00:00</td>\n",
              "      <td>NaN</td>\n",
              "      <td>Scarborough</td>\n",
              "      <td>Other</td>\n",
              "    </tr>\n",
              "    <tr>\n",
              "      <th>...</th>\n",
              "      <td>...</td>\n",
              "      <td>...</td>\n",
              "      <td>...</td>\n",
              "      <td>...</td>\n",
              "      <td>...</td>\n",
              "      <td>...</td>\n",
              "      <td>...</td>\n",
              "      <td>...</td>\n",
              "      <td>...</td>\n",
              "    </tr>\n",
              "    <tr>\n",
              "      <th>16855</th>\n",
              "      <td>Non-Fatal Injury</td>\n",
              "      <td>Yes</td>\n",
              "      <td>NaN</td>\n",
              "      <td>Yes</td>\n",
              "      <td>Yes</td>\n",
              "      <td>2020-08-30T00:00:00</td>\n",
              "      <td>NaN</td>\n",
              "      <td>NaN</td>\n",
              "      <td>NaN</td>\n",
              "    </tr>\n",
              "    <tr>\n",
              "      <th>16856</th>\n",
              "      <td>Non-Fatal Injury</td>\n",
              "      <td>Yes</td>\n",
              "      <td>NaN</td>\n",
              "      <td>Yes</td>\n",
              "      <td>NaN</td>\n",
              "      <td>2020-09-01T00:00:00</td>\n",
              "      <td>NaN</td>\n",
              "      <td>Scarborough</td>\n",
              "      <td>Failed to Yield Right of Way</td>\n",
              "    </tr>\n",
              "    <tr>\n",
              "      <th>16857</th>\n",
              "      <td>Non-Fatal Injury</td>\n",
              "      <td>Yes</td>\n",
              "      <td>NaN</td>\n",
              "      <td>Yes</td>\n",
              "      <td>NaN</td>\n",
              "      <td>2020-09-01T00:00:00</td>\n",
              "      <td>NaN</td>\n",
              "      <td>Scarborough</td>\n",
              "      <td>Driving Properly</td>\n",
              "    </tr>\n",
              "    <tr>\n",
              "      <th>16858</th>\n",
              "      <td>Non-Fatal Injury</td>\n",
              "      <td>Yes</td>\n",
              "      <td>NaN</td>\n",
              "      <td>Yes</td>\n",
              "      <td>NaN</td>\n",
              "      <td>2020-09-01T00:00:00</td>\n",
              "      <td>NaN</td>\n",
              "      <td>Scarborough</td>\n",
              "      <td>NaN</td>\n",
              "    </tr>\n",
              "    <tr>\n",
              "      <th>16859</th>\n",
              "      <td>Non-Fatal Injury</td>\n",
              "      <td>NaN</td>\n",
              "      <td>NaN</td>\n",
              "      <td>Yes</td>\n",
              "      <td>Yes</td>\n",
              "      <td>2020-09-01T00:00:00</td>\n",
              "      <td>NaN</td>\n",
              "      <td>NaN</td>\n",
              "      <td>Improper Lane Change</td>\n",
              "    </tr>\n",
              "  </tbody>\n",
              "</table>\n",
              "<p>16860 rows × 9 columns</p>\n",
              "</div>\n",
              "      <button class=\"colab-df-convert\" onclick=\"convertToInteractive('df-6e96ccb9-eae2-4730-b2a7-f376c369a18d')\"\n",
              "              title=\"Convert this dataframe to an interactive table.\"\n",
              "              style=\"display:none;\">\n",
              "        \n",
              "  <svg xmlns=\"http://www.w3.org/2000/svg\" height=\"24px\"viewBox=\"0 0 24 24\"\n",
              "       width=\"24px\">\n",
              "    <path d=\"M0 0h24v24H0V0z\" fill=\"none\"/>\n",
              "    <path d=\"M18.56 5.44l.94 2.06.94-2.06 2.06-.94-2.06-.94-.94-2.06-.94 2.06-2.06.94zm-11 1L8.5 8.5l.94-2.06 2.06-.94-2.06-.94L8.5 2.5l-.94 2.06-2.06.94zm10 10l.94 2.06.94-2.06 2.06-.94-2.06-.94-.94-2.06-.94 2.06-2.06.94z\"/><path d=\"M17.41 7.96l-1.37-1.37c-.4-.4-.92-.59-1.43-.59-.52 0-1.04.2-1.43.59L10.3 9.45l-7.72 7.72c-.78.78-.78 2.05 0 2.83L4 21.41c.39.39.9.59 1.41.59.51 0 1.02-.2 1.41-.59l7.78-7.78 2.81-2.81c.8-.78.8-2.07 0-2.86zM5.41 20L4 18.59l7.72-7.72 1.47 1.35L5.41 20z\"/>\n",
              "  </svg>\n",
              "      </button>\n",
              "      \n",
              "  <style>\n",
              "    .colab-df-container {\n",
              "      display:flex;\n",
              "      flex-wrap:wrap;\n",
              "      gap: 12px;\n",
              "    }\n",
              "\n",
              "    .colab-df-convert {\n",
              "      background-color: #E8F0FE;\n",
              "      border: none;\n",
              "      border-radius: 50%;\n",
              "      cursor: pointer;\n",
              "      display: none;\n",
              "      fill: #1967D2;\n",
              "      height: 32px;\n",
              "      padding: 0 0 0 0;\n",
              "      width: 32px;\n",
              "    }\n",
              "\n",
              "    .colab-df-convert:hover {\n",
              "      background-color: #E2EBFA;\n",
              "      box-shadow: 0px 1px 2px rgba(60, 64, 67, 0.3), 0px 1px 3px 1px rgba(60, 64, 67, 0.15);\n",
              "      fill: #174EA6;\n",
              "    }\n",
              "\n",
              "    [theme=dark] .colab-df-convert {\n",
              "      background-color: #3B4455;\n",
              "      fill: #D2E3FC;\n",
              "    }\n",
              "\n",
              "    [theme=dark] .colab-df-convert:hover {\n",
              "      background-color: #434B5C;\n",
              "      box-shadow: 0px 1px 3px 1px rgba(0, 0, 0, 0.15);\n",
              "      filter: drop-shadow(0px 1px 2px rgba(0, 0, 0, 0.3));\n",
              "      fill: #FFFFFF;\n",
              "    }\n",
              "  </style>\n",
              "\n",
              "      <script>\n",
              "        const buttonEl =\n",
              "          document.querySelector('#df-6e96ccb9-eae2-4730-b2a7-f376c369a18d button.colab-df-convert');\n",
              "        buttonEl.style.display =\n",
              "          google.colab.kernel.accessAllowed ? 'block' : 'none';\n",
              "\n",
              "        async function convertToInteractive(key) {\n",
              "          const element = document.querySelector('#df-6e96ccb9-eae2-4730-b2a7-f376c369a18d');\n",
              "          const dataTable =\n",
              "            await google.colab.kernel.invokeFunction('convertToInteractive',\n",
              "                                                     [key], {});\n",
              "          if (!dataTable) return;\n",
              "\n",
              "          const docLinkHtml = 'Like what you see? Visit the ' +\n",
              "            '<a target=\"_blank\" href=https://colab.research.google.com/notebooks/data_table.ipynb>data table notebook</a>'\n",
              "            + ' to learn more about interactive tables.';\n",
              "          element.innerHTML = '';\n",
              "          dataTable['output_type'] = 'display_data';\n",
              "          await google.colab.output.renderOutput(dataTable, element);\n",
              "          const docLink = document.createElement('div');\n",
              "          docLink.innerHTML = docLinkHtml;\n",
              "          element.appendChild(docLink);\n",
              "        }\n",
              "      </script>\n",
              "    </div>\n",
              "  </div>\n",
              "  "
            ]
          },
          "metadata": {},
          "execution_count": 139
        }
      ],
      "source": [
        "df = df.iloc[:, 0:9] #Matt's section\n",
        "df\n"
      ]
    },
    {
      "cell_type": "markdown",
      "source": [
        "ACCLASS [Accident Class] - Keep, Modify\n",
        "\n",
        "Description of change: \n",
        "Fatal -> 1;\n",
        "Non-Fatal Injury -> 0;\n",
        "Get rid of property damage only [2rows]"
      ],
      "metadata": {
        "id": "Z5bbYVfWl61A"
      }
    },
    {
      "cell_type": "code",
      "execution_count": 140,
      "metadata": {
        "id": "DctLPQKJ3j2K"
      },
      "outputs": [],
      "source": [
        "#replace fatal with 1, non fatal with 0\n",
        "\n",
        "df['ACCLASS'] = df['ACCLASS'].replace(['Fatal'], 1)\n",
        "df['ACCLASS'] = df['ACCLASS'].replace(['Non-Fatal Injury'], 0)\n",
        "#drop rows (2) where there was only property Damage\n",
        "df.drop(df.index[df['ACCLASS'] == 'Property Damage Only'], inplace=True)\n",
        "\n"
      ]
    },
    {
      "cell_type": "markdown",
      "source": [
        "AG_DRIV [Aggrivated Driving?] - Keep/Modify\n",
        "Null -> 0;\n",
        "Yes -> 1;\n"
      ],
      "metadata": {
        "id": "MTTAAiPboaHM"
      }
    },
    {
      "cell_type": "code",
      "source": [
        "df.AG_DRIV.fillna(0, inplace=True)\n",
        "df['AG_DRIV'] = df['AG_DRIV'].replace(['Yes'], 1)\n"
      ],
      "metadata": {
        "id": "V9E7Arvbv-pw"
      },
      "execution_count": 141,
      "outputs": []
    },
    {
      "cell_type": "markdown",
      "source": [
        "ALCOHOL [was alcohol use present] - Keep/Modify\n",
        "\n",
        "Yes -> 1;\n",
        "NA -> 0;\n"
      ],
      "metadata": {
        "id": "4IOlodfYwZTG"
      }
    },
    {
      "cell_type": "code",
      "source": [
        "df.ALCOHOL.fillna(0, inplace=True) #replaces NA to 0\n",
        "df['ALCOHOL'] = df['ALCOHOL'].replace(['Yes'], 1) #replaces YES to 1\n"
      ],
      "metadata": {
        "id": "Ya4rc1f-xfVr"
      },
      "execution_count": 142,
      "outputs": []
    },
    {
      "cell_type": "markdown",
      "source": [
        "AUTOMOBILE [was an auto involved] DROP"
      ],
      "metadata": {
        "id": "9HBor_r1yAvA"
      }
    },
    {
      "cell_type": "code",
      "source": [
        "df = df.drop(columns='AUTOMOBILE') #drop auto column\n"
      ],
      "metadata": {
        "id": "WZ1TcPdAyFqA"
      },
      "execution_count": 143,
      "outputs": []
    },
    {
      "cell_type": "markdown",
      "source": [
        "CYCLIST [was a cyclist involved] DROP"
      ],
      "metadata": {
        "id": "So4uIG6WzZEj"
      }
    },
    {
      "cell_type": "code",
      "source": [
        "df = df.drop(columns='CYCLIST') #drop bike column"
      ],
      "metadata": {
        "id": "bGHMNuz4zgQE"
      },
      "execution_count": 144,
      "outputs": []
    },
    {
      "cell_type": "markdown",
      "source": [
        "DATE [date of accident] KEEP/MODIFY\n",
        "\n",
        "Tranform into month of incident; jan = 1; feb = 2; mar = 3; etc."
      ],
      "metadata": {
        "id": "IeRv-I9R1UVU"
      }
    },
    {
      "cell_type": "code",
      "source": [
        "#first we will have to convert the data type to DateTime\n",
        "df['DATE'] = pd.to_datetime(df['DATE'])\n",
        "\n",
        "#now we will transform the data in the DATE column to simply present the month in integer form\n",
        "df['DATE'] = df['DATE'].dt.month\n"
      ],
      "metadata": {
        "id": "v0f2_Wog1i0u"
      },
      "execution_count": 145,
      "outputs": []
    },
    {
      "cell_type": "markdown",
      "source": [
        "DISABILITY [did the user have a disability] KEEP/MODIFY\n",
        "Nan -> 0;\n",
        "YES -> 1;\n"
      ],
      "metadata": {
        "id": "eC9JBfKW4Q0Q"
      }
    },
    {
      "cell_type": "code",
      "source": [
        "df.DISABILITY.fillna(0, inplace=True) #replaces NA to 0\n",
        "df['DISABILITY'] = df['DISABILITY'].replace(['Yes'], 1) #replaces YES to 1"
      ],
      "metadata": {
        "id": "qxE9iUod5Gax"
      },
      "execution_count": 146,
      "outputs": []
    },
    {
      "cell_type": "markdown",
      "source": [
        "DISTRICT [Which district of TOR did this happen] DROP"
      ],
      "metadata": {
        "id": "043S0ptQ5PI4"
      }
    },
    {
      "cell_type": "code",
      "source": [
        "df = df.drop(columns='DISTRICT') #drop district"
      ],
      "metadata": {
        "id": "1PhJ9E4U6bnb"
      },
      "execution_count": 147,
      "outputs": []
    },
    {
      "cell_type": "markdown",
      "source": [
        "DRIVACT [driver's action at accident, dropped due to similarity to other params]; DROP"
      ],
      "metadata": {
        "id": "OXM_2rZw6j9H"
      }
    },
    {
      "cell_type": "code",
      "source": [
        "df = df.drop(columns='DRIVACT') #drop driver action"
      ],
      "metadata": {
        "id": "NOTCCAtH6xTt"
      },
      "execution_count": 148,
      "outputs": []
    },
    {
      "cell_type": "markdown",
      "source": [
        "Final table after modifications:"
      ],
      "metadata": {
        "id": "EvuRiHD362JS"
      }
    },
    {
      "cell_type": "code",
      "source": [
        "df"
      ],
      "metadata": {
        "id": "-wTd_0vl66fv",
        "outputId": "9400e854-500a-4065-e693-b81e0dfa7cb1",
        "colab": {
          "base_uri": "https://localhost:8080/",
          "height": 424
        }
      },
      "execution_count": 149,
      "outputs": [
        {
          "output_type": "execute_result",
          "data": {
            "text/plain": [
              "      ACCLASS  AG_DRIV  ALCOHOL  DATE  DISABILITY\n",
              "0           1        1        0     3           0\n",
              "1           1        1        0     3           0\n",
              "2           1        1        0     3           0\n",
              "3           1        1        0     3           0\n",
              "4           1        0        1     3           0\n",
              "...       ...      ...      ...   ...         ...\n",
              "16855       0        1        0     8           0\n",
              "16856       0        1        0     9           0\n",
              "16857       0        1        0     9           0\n",
              "16858       0        1        0     9           0\n",
              "16859       0        0        0     9           0\n",
              "\n",
              "[16858 rows x 5 columns]"
            ],
            "text/html": [
              "\n",
              "  <div id=\"df-88180b82-ef70-4fae-9ad8-9c4d61d7cf1a\">\n",
              "    <div class=\"colab-df-container\">\n",
              "      <div>\n",
              "<style scoped>\n",
              "    .dataframe tbody tr th:only-of-type {\n",
              "        vertical-align: middle;\n",
              "    }\n",
              "\n",
              "    .dataframe tbody tr th {\n",
              "        vertical-align: top;\n",
              "    }\n",
              "\n",
              "    .dataframe thead th {\n",
              "        text-align: right;\n",
              "    }\n",
              "</style>\n",
              "<table border=\"1\" class=\"dataframe\">\n",
              "  <thead>\n",
              "    <tr style=\"text-align: right;\">\n",
              "      <th></th>\n",
              "      <th>ACCLASS</th>\n",
              "      <th>AG_DRIV</th>\n",
              "      <th>ALCOHOL</th>\n",
              "      <th>DATE</th>\n",
              "      <th>DISABILITY</th>\n",
              "    </tr>\n",
              "  </thead>\n",
              "  <tbody>\n",
              "    <tr>\n",
              "      <th>0</th>\n",
              "      <td>1</td>\n",
              "      <td>1</td>\n",
              "      <td>0</td>\n",
              "      <td>3</td>\n",
              "      <td>0</td>\n",
              "    </tr>\n",
              "    <tr>\n",
              "      <th>1</th>\n",
              "      <td>1</td>\n",
              "      <td>1</td>\n",
              "      <td>0</td>\n",
              "      <td>3</td>\n",
              "      <td>0</td>\n",
              "    </tr>\n",
              "    <tr>\n",
              "      <th>2</th>\n",
              "      <td>1</td>\n",
              "      <td>1</td>\n",
              "      <td>0</td>\n",
              "      <td>3</td>\n",
              "      <td>0</td>\n",
              "    </tr>\n",
              "    <tr>\n",
              "      <th>3</th>\n",
              "      <td>1</td>\n",
              "      <td>1</td>\n",
              "      <td>0</td>\n",
              "      <td>3</td>\n",
              "      <td>0</td>\n",
              "    </tr>\n",
              "    <tr>\n",
              "      <th>4</th>\n",
              "      <td>1</td>\n",
              "      <td>0</td>\n",
              "      <td>1</td>\n",
              "      <td>3</td>\n",
              "      <td>0</td>\n",
              "    </tr>\n",
              "    <tr>\n",
              "      <th>...</th>\n",
              "      <td>...</td>\n",
              "      <td>...</td>\n",
              "      <td>...</td>\n",
              "      <td>...</td>\n",
              "      <td>...</td>\n",
              "    </tr>\n",
              "    <tr>\n",
              "      <th>16855</th>\n",
              "      <td>0</td>\n",
              "      <td>1</td>\n",
              "      <td>0</td>\n",
              "      <td>8</td>\n",
              "      <td>0</td>\n",
              "    </tr>\n",
              "    <tr>\n",
              "      <th>16856</th>\n",
              "      <td>0</td>\n",
              "      <td>1</td>\n",
              "      <td>0</td>\n",
              "      <td>9</td>\n",
              "      <td>0</td>\n",
              "    </tr>\n",
              "    <tr>\n",
              "      <th>16857</th>\n",
              "      <td>0</td>\n",
              "      <td>1</td>\n",
              "      <td>0</td>\n",
              "      <td>9</td>\n",
              "      <td>0</td>\n",
              "    </tr>\n",
              "    <tr>\n",
              "      <th>16858</th>\n",
              "      <td>0</td>\n",
              "      <td>1</td>\n",
              "      <td>0</td>\n",
              "      <td>9</td>\n",
              "      <td>0</td>\n",
              "    </tr>\n",
              "    <tr>\n",
              "      <th>16859</th>\n",
              "      <td>0</td>\n",
              "      <td>0</td>\n",
              "      <td>0</td>\n",
              "      <td>9</td>\n",
              "      <td>0</td>\n",
              "    </tr>\n",
              "  </tbody>\n",
              "</table>\n",
              "<p>16858 rows × 5 columns</p>\n",
              "</div>\n",
              "      <button class=\"colab-df-convert\" onclick=\"convertToInteractive('df-88180b82-ef70-4fae-9ad8-9c4d61d7cf1a')\"\n",
              "              title=\"Convert this dataframe to an interactive table.\"\n",
              "              style=\"display:none;\">\n",
              "        \n",
              "  <svg xmlns=\"http://www.w3.org/2000/svg\" height=\"24px\"viewBox=\"0 0 24 24\"\n",
              "       width=\"24px\">\n",
              "    <path d=\"M0 0h24v24H0V0z\" fill=\"none\"/>\n",
              "    <path d=\"M18.56 5.44l.94 2.06.94-2.06 2.06-.94-2.06-.94-.94-2.06-.94 2.06-2.06.94zm-11 1L8.5 8.5l.94-2.06 2.06-.94-2.06-.94L8.5 2.5l-.94 2.06-2.06.94zm10 10l.94 2.06.94-2.06 2.06-.94-2.06-.94-.94-2.06-.94 2.06-2.06.94z\"/><path d=\"M17.41 7.96l-1.37-1.37c-.4-.4-.92-.59-1.43-.59-.52 0-1.04.2-1.43.59L10.3 9.45l-7.72 7.72c-.78.78-.78 2.05 0 2.83L4 21.41c.39.39.9.59 1.41.59.51 0 1.02-.2 1.41-.59l7.78-7.78 2.81-2.81c.8-.78.8-2.07 0-2.86zM5.41 20L4 18.59l7.72-7.72 1.47 1.35L5.41 20z\"/>\n",
              "  </svg>\n",
              "      </button>\n",
              "      \n",
              "  <style>\n",
              "    .colab-df-container {\n",
              "      display:flex;\n",
              "      flex-wrap:wrap;\n",
              "      gap: 12px;\n",
              "    }\n",
              "\n",
              "    .colab-df-convert {\n",
              "      background-color: #E8F0FE;\n",
              "      border: none;\n",
              "      border-radius: 50%;\n",
              "      cursor: pointer;\n",
              "      display: none;\n",
              "      fill: #1967D2;\n",
              "      height: 32px;\n",
              "      padding: 0 0 0 0;\n",
              "      width: 32px;\n",
              "    }\n",
              "\n",
              "    .colab-df-convert:hover {\n",
              "      background-color: #E2EBFA;\n",
              "      box-shadow: 0px 1px 2px rgba(60, 64, 67, 0.3), 0px 1px 3px 1px rgba(60, 64, 67, 0.15);\n",
              "      fill: #174EA6;\n",
              "    }\n",
              "\n",
              "    [theme=dark] .colab-df-convert {\n",
              "      background-color: #3B4455;\n",
              "      fill: #D2E3FC;\n",
              "    }\n",
              "\n",
              "    [theme=dark] .colab-df-convert:hover {\n",
              "      background-color: #434B5C;\n",
              "      box-shadow: 0px 1px 3px 1px rgba(0, 0, 0, 0.15);\n",
              "      filter: drop-shadow(0px 1px 2px rgba(0, 0, 0, 0.3));\n",
              "      fill: #FFFFFF;\n",
              "    }\n",
              "  </style>\n",
              "\n",
              "      <script>\n",
              "        const buttonEl =\n",
              "          document.querySelector('#df-88180b82-ef70-4fae-9ad8-9c4d61d7cf1a button.colab-df-convert');\n",
              "        buttonEl.style.display =\n",
              "          google.colab.kernel.accessAllowed ? 'block' : 'none';\n",
              "\n",
              "        async function convertToInteractive(key) {\n",
              "          const element = document.querySelector('#df-88180b82-ef70-4fae-9ad8-9c4d61d7cf1a');\n",
              "          const dataTable =\n",
              "            await google.colab.kernel.invokeFunction('convertToInteractive',\n",
              "                                                     [key], {});\n",
              "          if (!dataTable) return;\n",
              "\n",
              "          const docLinkHtml = 'Like what you see? Visit the ' +\n",
              "            '<a target=\"_blank\" href=https://colab.research.google.com/notebooks/data_table.ipynb>data table notebook</a>'\n",
              "            + ' to learn more about interactive tables.';\n",
              "          element.innerHTML = '';\n",
              "          dataTable['output_type'] = 'display_data';\n",
              "          await google.colab.output.renderOutput(dataTable, element);\n",
              "          const docLink = document.createElement('div');\n",
              "          docLink.innerHTML = docLinkHtml;\n",
              "          element.appendChild(docLink);\n",
              "        }\n",
              "      </script>\n",
              "    </div>\n",
              "  </div>\n",
              "  "
            ]
          },
          "metadata": {},
          "execution_count": 149
        }
      ]
    },
    {
      "cell_type": "markdown",
      "source": [
        "## **END OF PARAM 1-9 MODIFICATION/PREP**"
      ],
      "metadata": {
        "id": "IA100JwC68rU"
      }
    }
  ],
  "metadata": {
    "colab": {
      "name": "BigDataProject.ipynb",
      "provenance": [],
      "include_colab_link": true
    },
    "kernelspec": {
      "display_name": "Python 3",
      "language": "python",
      "name": "python3"
    },
    "language_info": {
      "codemirror_mode": {
        "name": "ipython",
        "version": 3
      },
      "file_extension": ".py",
      "mimetype": "text/x-python",
      "name": "python",
      "nbconvert_exporter": "python",
      "pygments_lexer": "ipython3",
      "version": "3.9.7"
    }
  },
  "nbformat": 4,
  "nbformat_minor": 0
}