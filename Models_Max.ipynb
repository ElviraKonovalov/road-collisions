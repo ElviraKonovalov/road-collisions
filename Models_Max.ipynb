{
  "nbformat": 4,
  "nbformat_minor": 0,
  "metadata": {
    "colab": {
      "name": "Models_Max.ipynb",
      "provenance": [],
      "collapsed_sections": [],
      "authorship_tag": "ABX9TyMnqOWP/av2wFv87YZj19b4",
      "include_colab_link": true
    },
    "kernelspec": {
      "name": "python3",
      "display_name": "Python 3"
    },
    "language_info": {
      "name": "python"
    }
  },
  "cells": [
    {
      "cell_type": "markdown",
      "metadata": {
        "id": "view-in-github",
        "colab_type": "text"
      },
      "source": [
        "<a href=\"https://colab.research.google.com/github/ElviraKonovalov/soen471-bigData/blob/main/Models_Max.ipynb\" target=\"_parent\"><img src=\"https://colab.research.google.com/assets/colab-badge.svg\" alt=\"Open In Colab\"/></a>"
      ]
    },
    {
      "cell_type": "code",
      "source": [
        "import pandas as pd\n",
        "import numpy as np\n",
        "import matplotlib.pyplot as plt\n",
        "\n",
        "import sklearn\n",
        "from sklearn.tree import DecisionTreeClassifier\n",
        "from sklearn.ensemble import RandomForestClassifier\n",
        "from sklearn.neural_network import MLPClassifier\n",
        "from sklearn.model_selection import train_test_split\n",
        "from sklearn.preprocessing import StandardScaler"
      ],
      "metadata": {
        "id": "MS25vIY-RAFa"
      },
      "execution_count": 173,
      "outputs": []
    },
    {
      "cell_type": "code",
      "source": [
        "#Just some basic data prep settings.\n",
        "\n",
        "labelCol = 11 #0 for ACCLASS, 11 for Injury\n",
        "removeOther = True #If true and labelCol is either ACCLASS or INJURY will remove its counterpart."
      ],
      "metadata": {
        "id": "WKRmrwShbyZ9"
      },
      "execution_count": 174,
      "outputs": []
    },
    {
      "cell_type": "code",
      "source": [
        "#Prepping data.\n",
        "\n",
        "file = 'clean_data_hot-one.csv'\n",
        "df =  pd.read_csv(file, sep=',')\n",
        "\n",
        "#CATEGORISES ANY COLUMNS REMAINING AS STRINGS\n",
        "for i in range(len(df.columns) - 1):\n",
        "  if not isinstance(df.iloc[0, i], np.int64):\n",
        "    df[df.columns[i]] = pd.factorize(df[df.columns[i]])[0]\n",
        "\n",
        "df = df.iloc[: , 1:] #REMOVES THE EXTRA ID COLUMN\n",
        "\n",
        "#Removes counter parts if removeOther is active\n",
        "if labelCol == 0 and removeOther:\n",
        "  df = df.drop(columns=['INJURY'])\n",
        "elif labelCol == 11 and removeOther:\n",
        "  df = df.drop(columns=['ACCLASS'])\n",
        "  labelCol = labelCol - 1 #Readjusts labelCol.\n",
        "\n",
        "print(df.columns)"
      ],
      "metadata": {
        "id": "so13CbIubb8D",
        "outputId": "cdbca072-67bd-4116-f6d7-55003c6def79",
        "colab": {
          "base_uri": "https://localhost:8080/"
        }
      },
      "execution_count": 175,
      "outputs": [
        {
          "output_type": "stream",
          "name": "stdout",
          "text": [
            "Index(['AG_DRIV', 'ALCOHOL', 'AUTOMOBILE', 'CYCLIST', 'DATE', 'DISABILITY',\n",
            "       'EMERG_VEH', 'HOOD_ID', 'HOUR', 'INITDIR', 'INJURY', 'INVAGE', 'LIGHT',\n",
            "       'LOCCOORD', 'MANOEUVER', 'MOTORCYCLE', 'PASSENGER', 'PEDESTRIAN',\n",
            "       'RDSFCOND', 'REDLIGHT', 'ROAD_CLASS', 'SPEEDING', 'TRAFFCTL',\n",
            "       'TRSN_CITY_VEH', 'TRUCK', 'VISIBILITY'],\n",
            "      dtype='object')\n"
          ]
        }
      ]
    },
    {
      "cell_type": "code",
      "source": [
        "data = df.to_numpy()\n",
        "\n",
        "X = np.delete(data, labelCol, 1) #Necesarry to remove the label column\n",
        "y = data[:,labelCol]\n",
        "\n",
        "X_train, X_test, y_train, y_test = train_test_split(X, y, test_size=0.2, random_state=0)\n",
        "\n",
        "scaler = StandardScaler().fit(X_train)\n",
        "X_train_scaled = scaler.transform(X_train)\n",
        "X_test_scaled = scaler.transform(X_test)"
      ],
      "metadata": {
        "id": "oApmCydvRCTt"
      },
      "execution_count": 176,
      "outputs": []
    },
    {
      "cell_type": "code",
      "source": [
        "#Defining models.\n",
        "\n",
        "dt = DecisionTreeClassifier(random_state=0, max_depth=7)\n",
        "rf = RandomForestClassifier(random_state=0, max_depth=5)\n",
        "mlp = MLPClassifier(random_state=0, max_iter=1000, activation='relu', solver='adam', learning_rate='adaptive')"
      ],
      "metadata": {
        "id": "-7eHtIvPRNvy"
      },
      "execution_count": 185,
      "outputs": []
    },
    {
      "cell_type": "code",
      "source": [
        "#Fitting decision tree classifier.\n",
        "dt.fit(X_train_scaled, y_train)"
      ],
      "metadata": {
        "colab": {
          "base_uri": "https://localhost:8080/"
        },
        "id": "pemMirTnSSwF",
        "outputId": "fa6b4e5d-1d92-4b2a-e6b4-ffe3293350d9"
      },
      "execution_count": 186,
      "outputs": [
        {
          "output_type": "execute_result",
          "data": {
            "text/plain": [
              "DecisionTreeClassifier(max_depth=7, random_state=0)"
            ]
          },
          "metadata": {},
          "execution_count": 186
        }
      ]
    },
    {
      "cell_type": "code",
      "source": [
        "#Fitting random forest classifier.\n",
        "rf.fit(X_train_scaled, y_train)"
      ],
      "metadata": {
        "id": "-kACpB5EVfxj",
        "outputId": "21308e19-6964-4c00-bb24-1da97d2531a0",
        "colab": {
          "base_uri": "https://localhost:8080/"
        }
      },
      "execution_count": 179,
      "outputs": [
        {
          "output_type": "execute_result",
          "data": {
            "text/plain": [
              "RandomForestClassifier(max_depth=5, random_state=0)"
            ]
          },
          "metadata": {},
          "execution_count": 179
        }
      ]
    },
    {
      "cell_type": "code",
      "source": [
        "#Fitting MLP classifier.\n",
        "mlp.fit(X_train_scaled, y_train)"
      ],
      "metadata": {
        "colab": {
          "base_uri": "https://localhost:8080/"
        },
        "id": "JIWe9LY-WZPK",
        "outputId": "7dc6fb76-4709-42a9-abbd-3962a08d702b"
      },
      "execution_count": 180,
      "outputs": [
        {
          "output_type": "execute_result",
          "data": {
            "text/plain": [
              "MLPClassifier(learning_rate='adaptive', max_iter=1000, random_state=0)"
            ]
          },
          "metadata": {},
          "execution_count": 180
        }
      ]
    },
    {
      "cell_type": "code",
      "source": [
        "#Predicting test set on decision tree.\n",
        "predicted = dt.predict(X_test_scaled)\n",
        "\n",
        "accuracy_dt = round(sklearn.metrics.accuracy_score(y_test, predicted)*100, 2)\n",
        "precision_dt = round(sklearn.metrics.precision_score(y_test, predicted, average='weighted', labels=np.unique(predicted)) * 100, 2)\n",
        "recall_dt = round(sklearn.metrics.recall_score(y_test, predicted, average='weighted') * 100, 2)\n",
        "f1_dt = round(sklearn.metrics.f1_score(y_test, predicted, average='weighted', labels=np.unique(predicted)) * 100, 2)"
      ],
      "metadata": {
        "id": "CUruCExnVT5C"
      },
      "execution_count": 187,
      "outputs": []
    },
    {
      "cell_type": "code",
      "source": [
        "#Predicting test set on random forest.\n",
        "predicted = rf.predict(X_test_scaled)\n",
        "\n",
        "accuracy_rf = round(sklearn.metrics.accuracy_score(y_test, predicted)*100, 2)\n",
        "precision_rf = round(sklearn.metrics.precision_score(y_test, predicted, average='weighted', labels=np.unique(predicted)) * 100, 2)\n",
        "recall_rf = round(sklearn.metrics.recall_score(y_test, predicted, average='weighted') * 100, 2)\n",
        "f1_rf = round(sklearn.metrics.f1_score(y_test, predicted, average='weighted', labels=np.unique(predicted)) * 100, 2)"
      ],
      "metadata": {
        "id": "DpPB3VEIVkHM"
      },
      "execution_count": 182,
      "outputs": []
    },
    {
      "cell_type": "code",
      "source": [
        "#Predicting test set on neural network.\n",
        "predicted = mlp.predict(X_test_scaled)\n",
        "\n",
        "accuracy_mlp = round(sklearn.metrics.accuracy_score(y_test, predicted)*100, 2)\n",
        "precision_mlp = round(sklearn.metrics.precision_score(y_test, predicted, average='weighted', labels=np.unique(predicted)) * 100, 2)\n",
        "recall_mlp = round(sklearn.metrics.recall_score(y_test, predicted, average='weighted') * 100, 2)\n",
        "f1_mlp = round(sklearn.metrics.f1_score(y_test, predicted, average='weighted', labels=np.unique(predicted)) * 100, 2)"
      ],
      "metadata": {
        "id": "HcwXyuVcWyHD"
      },
      "execution_count": 183,
      "outputs": []
    },
    {
      "cell_type": "code",
      "source": [
        "#Displaying metrics.\n",
        "\n",
        "print('Decision Tree Metrics:')\n",
        "print(\"\\tAccuracy:  \" + str(accuracy_dt)+'%')\n",
        "print(\"\\tPrecision: \" + str(precision_dt)+'%')\n",
        "print(\"\\tRecall:    \" + str(recall_dt)+'%')\n",
        "print(\"\\tF1 Score:  \" + str(f1_dt)+'%')\n",
        "\n",
        "print('\\n')\n",
        "\n",
        "print('Random Forest Metrics:')\n",
        "print(\"\\tAccuracy:  \" + str(accuracy_rf)+'%')\n",
        "print(\"\\tPrecision: \" + str(precision_rf)+'%')\n",
        "print(\"\\tRecall:    \" + str(recall_rf)+'%')\n",
        "print(\"\\tF1 Score:  \" + str(f1_rf)+'%')\n",
        "\n",
        "print('\\n')\n",
        "\n",
        "print('MLP Neural Network Metrics:')\n",
        "print(\"\\tAccuracy:  \" + str(accuracy_mlp)+'%')\n",
        "print(\"\\tPrecision: \" + str(precision_mlp)+'%')\n",
        "print(\"\\tRecall:    \" + str(recall_mlp)+'%')\n",
        "print(\"\\tF1 Score:  \" + str(f1_mlp)+'%')"
      ],
      "metadata": {
        "colab": {
          "base_uri": "https://localhost:8080/"
        },
        "id": "ja9SFMoeWhv0",
        "outputId": "d5c4263f-661d-4986-9a5d-de961750915b"
      },
      "execution_count": 188,
      "outputs": [
        {
          "output_type": "stream",
          "name": "stdout",
          "text": [
            "Decision Tree Metrics:\n",
            "\tAccuracy:  64.95%\n",
            "\tPrecision: 56.6%\n",
            "\tRecall:    64.95%\n",
            "\tF1 Score:  59.59%\n",
            "\n",
            "\n",
            "Random Forest Metrics:\n",
            "\tAccuracy:  63.6%\n",
            "\tPrecision: 62.77%\n",
            "\tRecall:    63.6%\n",
            "\tF1 Score:  68.21%\n",
            "\n",
            "\n",
            "MLP Neural Network Metrics:\n",
            "\tAccuracy:  61.5%\n",
            "\tPrecision: 58.25%\n",
            "\tRecall:    61.5%\n",
            "\tF1 Score:  59.57%\n"
          ]
        }
      ]
    }
  ]
}