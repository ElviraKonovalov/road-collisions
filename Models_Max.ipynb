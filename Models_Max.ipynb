{
  "nbformat": 4,
  "nbformat_minor": 0,
  "metadata": {
    "colab": {
      "name": "Models_Max.ipynb",
      "provenance": [],
      "collapsed_sections": [],
      "authorship_tag": "ABX9TyNkfO+79RkIEL36/M43lDws",
      "include_colab_link": true
    },
    "kernelspec": {
      "name": "python3",
      "display_name": "Python 3"
    },
    "language_info": {
      "name": "python"
    }
  },
  "cells": [
    {
      "cell_type": "markdown",
      "metadata": {
        "id": "view-in-github",
        "colab_type": "text"
      },
      "source": [
        "<a href=\"https://colab.research.google.com/github/ElviraKonovalov/soen471-bigData/blob/main/Models_Max.ipynb\" target=\"_parent\"><img src=\"https://colab.research.google.com/assets/colab-badge.svg\" alt=\"Open In Colab\"/></a>"
      ]
    },
    {
      "cell_type": "code",
      "source": [
        "import pandas as pd\n",
        "import numpy as np\n",
        "import matplotlib.pyplot as plt\n",
        "\n",
        "import sklearn\n",
        "from sklearn.tree import DecisionTreeClassifier\n",
        "from sklearn.neural_network import MLPClassifier\n",
        "from sklearn.model_selection import train_test_split\n",
        "from sklearn.preprocessing import StandardScaler"
      ],
      "metadata": {
        "id": "MS25vIY-RAFa"
      },
      "execution_count": 1,
      "outputs": []
    },
    {
      "cell_type": "code",
      "source": [
        "#Prepping data.\n",
        "\n",
        "file = 'clean_data_hot-one.csv'\n",
        "df =  pd.read_csv(file, sep=',');\n",
        "\n",
        "for i in range(len(df.columns) - 1):\n",
        "  if not isinstance(df.iloc[0, i], np.int64):\n",
        "    df[df.columns[i]] = pd.factorize(df[df.columns[i]])[0]\n",
        "\n",
        "df = df.iloc[: , 1:]\n",
        "\n",
        "data = df.to_numpy()\n",
        "\n",
        "X = np.delete(data, 11, 1)\n",
        "y = data[:,11]\n",
        "\n",
        "X_train, X_test, y_train, y_test = train_test_split(X, y, test_size=0.2, random_state=0)\n",
        "\n",
        "scaler = StandardScaler().fit(X_train)\n",
        "X_train_scaled = scaler.transform(X_train)\n",
        "X_test_scaled = scaler.transform(X_test)"
      ],
      "metadata": {
        "id": "oApmCydvRCTt"
      },
      "execution_count": 2,
      "outputs": []
    },
    {
      "cell_type": "code",
      "source": [
        "#Defining models.\n",
        "\n",
        "dt = DecisionTreeClassifier(random_state=0, max_depth=6)\n",
        "mlp = MLPClassifier(random_state=0, max_iter=1000, activation='relu', solver='adam', learning_rate='adaptive')"
      ],
      "metadata": {
        "id": "-7eHtIvPRNvy"
      },
      "execution_count": 29,
      "outputs": []
    },
    {
      "cell_type": "code",
      "source": [
        "#Fitting decision tree classifier.\n",
        "\n",
        "dt.fit(X_train_scaled, y_train)"
      ],
      "metadata": {
        "colab": {
          "base_uri": "https://localhost:8080/"
        },
        "id": "pemMirTnSSwF",
        "outputId": "6e9688d5-0c18-40be-a2c4-eac7407c7acd"
      },
      "execution_count": 30,
      "outputs": [
        {
          "output_type": "execute_result",
          "data": {
            "text/plain": [
              "DecisionTreeClassifier(max_depth=6, random_state=0)"
            ]
          },
          "metadata": {},
          "execution_count": 30
        }
      ]
    },
    {
      "cell_type": "code",
      "source": [
        "#Fitting MLP classifier.\n",
        "\n",
        "mlp.fit(X_train_scaled, y_train)"
      ],
      "metadata": {
        "colab": {
          "base_uri": "https://localhost:8080/"
        },
        "id": "JIWe9LY-WZPK",
        "outputId": "59ed713d-6dab-4f8c-fd8f-3af7defa65ea"
      },
      "execution_count": 5,
      "outputs": [
        {
          "output_type": "execute_result",
          "data": {
            "text/plain": [
              "MLPClassifier(learning_rate='adaptive', max_iter=1000, random_state=0)"
            ]
          },
          "metadata": {},
          "execution_count": 5
        }
      ]
    },
    {
      "cell_type": "code",
      "source": [
        "#Predicting test set on decision tree.\n",
        "predicted = dt.predict(X_test_scaled)\n",
        "\n",
        "accuracy_dt = round(sklearn.metrics.accuracy_score(y_test, predicted)*100, 2)\n",
        "precision_dt = round(sklearn.metrics.precision_score(y_test, predicted, average='weighted', labels=np.unique(predicted)) * 100, 2)\n",
        "recall_dt = round(sklearn.metrics.recall_score(y_test, predicted, average='weighted') * 100, 2)\n",
        "f1_dt = round(sklearn.metrics.f1_score(y_test, predicted, average='weighted', labels=np.unique(predicted)) * 100, 2)"
      ],
      "metadata": {
        "id": "CUruCExnVT5C"
      },
      "execution_count": 31,
      "outputs": []
    },
    {
      "cell_type": "code",
      "source": [
        "#Predicting test set on neural network.\n",
        "predicted = mlp.predict(X_test_scaled)\n",
        "\n",
        "accuracy_mlp = round(sklearn.metrics.accuracy_score(y_test, predicted)*100, 2)\n",
        "precision_mlp = round(sklearn.metrics.precision_score(y_test, predicted, average='weighted', labels=np.unique(predicted)) * 100, 2)\n",
        "recall_mlp = round(sklearn.metrics.recall_score(y_test, predicted, average='weighted') * 100, 2)\n",
        "f1_mlp = round(sklearn.metrics.f1_score(y_test, predicted, average='weighted', labels=np.unique(predicted)) * 100, 2)"
      ],
      "metadata": {
        "id": "HcwXyuVcWyHD"
      },
      "execution_count": 7,
      "outputs": []
    },
    {
      "cell_type": "code",
      "source": [
        "#Displaying metrics.\n",
        "\n",
        "print('Decision Tree Metrics:')\n",
        "print(\"\\tAccuracy:  \" + str(accuracy_dt)+'%')\n",
        "print(\"\\tPrecision: \" + str(precision_dt)+'%')\n",
        "print(\"\\tRecall:    \" + str(recall_dt)+'%')\n",
        "print(\"\\tF1 Score:  \" + str(f1_dt)+'%')\n",
        "\n",
        "print('\\n')\n",
        "\n",
        "print('MLP Neural Network Metrics:')\n",
        "print(\"\\tAccuracy:  \" + str(accuracy_mlp)+'%')\n",
        "print(\"\\tPrecision: \" + str(precision_mlp)+'%')\n",
        "print(\"\\tRecall:    \" + str(recall_mlp)+'%')\n",
        "print(\"\\tF1 Score:  \" + str(f1_mlp)+'%')"
      ],
      "metadata": {
        "colab": {
          "base_uri": "https://localhost:8080/"
        },
        "id": "ja9SFMoeWhv0",
        "outputId": "bfe7735d-8b23-4c0b-b1fe-4e519b25c27d"
      },
      "execution_count": 32,
      "outputs": [
        {
          "output_type": "stream",
          "name": "stdout",
          "text": [
            "Decision Tree Metrics:\n",
            "\tAccuracy:  66.76%\n",
            "\tPrecision: 66.35%\n",
            "\tRecall:    66.76%\n",
            "\tF1 Score:  72.11%\n",
            "\n",
            "\n",
            "MLP Neural Network Metrics:\n",
            "\tAccuracy:  61.44%\n",
            "\tPrecision: 59.02%\n",
            "\tRecall:    61.44%\n",
            "\tF1 Score:  60.09%\n"
          ]
        }
      ]
    }
  ]
}